{
 "cells": [
  {
   "cell_type": "code",
   "execution_count": 1,
   "metadata": {
    "collapsed": false
   },
   "outputs": [
    {
     "name": "stdout",
     "output_type": "stream",
     "text": [
      "请输入你想求和的整数个数，以回车结束。3\n",
      "请输入一个整数，以回车结束。1\n",
      "请输入一个整数，以回车结束。5\n",
      "请输入一个整数，以回车结束。4\n",
      "10\n"
     ]
    }
   ],
   "source": [
    "number=int(input('请输入你想求和的整数个数，以回车结束。'))\n",
    "\n",
    "a=0\n",
    "total=0\n",
    "\n",
    "while a<number:\n",
    "    i=int(input('请输入一个整数，以回车结束。'))\n",
    "    a=a+1\n",
    "    total=total+i\n",
    "\n",
    "print(total)"
   ]
  },
  {
   "cell_type": "code",
   "execution_count": 2,
   "metadata": {
    "collapsed": false
   },
   "outputs": [
    {
     "name": "stdout",
     "output_type": "stream",
     "text": [
      "请输入1，以回车结束。1\n",
      "请输入任意一个数字，以回车结束。4\n",
      "若继续请输入1，不想继续请输入0，以回车结束。1\n",
      "请输入任意一个数字，以回车结束。5\n",
      "若继续请输入1，不想继续请输入0，以回车结束。0\n",
      "5\n"
     ]
    }
   ],
   "source": [
    "number=int(input('请输入1，以回车结束。'))\n",
    "a=0\n",
    "\n",
    "while a<number:\n",
    "    n=int(input('请输入任意一个数字，以回车结束。'))\n",
    "    number=int(input('若继续请输入1，不想继续请输入0，以回车结束。'))\n",
    "\n",
    "print(n)"
   ]
  },
  {
   "cell_type": "code",
   "execution_count": null,
   "metadata": {
    "collapsed": false
   },
   "outputs": [],
   "source": [
    "number=int(input('请输入1，以回车结束。'))\n",
    "total=0\n",
    "a=1\n",
    "p=0\n",
    "\n",
    "while total>= number or a>=p:\n",
    "    number=int(input('请输入任意数字，以回车结束。'))\n",
    "    total=total+number\n",
    "    a=a*number\n",
    "    p=number*number\n",
    "    \n",
    "print(total )"
   ]
  },
  {
   "cell_type": "code",
   "execution_count": null,
   "metadata": {
    "collapsed": true
   },
   "outputs": [],
   "source": []
  },
  {
   "cell_type": "code",
   "execution_count": null,
   "metadata": {
    "collapsed": true
   },
   "outputs": [],
   "source": []
  }
 ],
 "metadata": {
  "kernelspec": {
   "display_name": "Python 3",
   "language": "python",
   "name": "python3"
  },
  "language_info": {
   "codemirror_mode": {
    "name": "ipython",
    "version": 3
   },
   "file_extension": ".py",
   "mimetype": "text/x-python",
   "name": "python",
   "nbconvert_exporter": "python",
   "pygments_lexer": "ipython3",
   "version": "3.6.0"
  }
 },
 "nbformat": 4,
 "nbformat_minor": 2
}

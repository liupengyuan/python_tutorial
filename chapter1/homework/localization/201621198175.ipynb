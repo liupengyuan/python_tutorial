{
 "cells": [
  {
   "cell_type": "code",
   "execution_count": 2,
   "metadata": {
    "collapsed": false
   },
   "outputs": [
    {
     "name": "stdout",
     "output_type": "stream",
     "text": [
      "您想输入几个数字呢？4\n",
      "请输入一个整数，以回车结束：3\n",
      "请输入一个整数，以回车结束：5\n",
      "请输入一个整数，以回车结束：2\n",
      "请输入一个整数，以回车结束：1\n",
      "11\n"
     ]
    }
   ],
   "source": [
    "#练习2\n",
    "n = int(input(\"您想输入几个数字呢？\"))\n",
    "i = 0\n",
    "total = 0\n",
    "while i < n:\n",
    "    m = int(input(\"请输入一个整数，以回车结束：\"))\n",
    "    total += m\n",
    "    i += 1\n",
    "print(total)"
   ]
  },
  {
   "cell_type": "code",
   "execution_count": 3,
   "metadata": {
    "collapsed": false
   },
   "outputs": [
    {
     "name": "stdout",
     "output_type": "stream",
     "text": [
      "hello,您可以输入任意多个数字！\n",
      "请输入任意一个数字，以回车结束：5\n",
      "请输入任意一个数字，以回车结束：7\n",
      "请输入任意一个数字，以回车结束：3\n",
      "请输入任意一个数字，以回车结束：0\n",
      "15\n"
     ]
    }
   ],
   "source": [
    "#练习3\n",
    "print(\"hello,您可以输入任意多个数字！\")\n",
    "total = 0\n",
    "while 1:\n",
    "    n = int(input(\"请输入任意一个数字，以回车结束：\"))\n",
    "    total += n\n",
    "    if n == 0:\n",
    "        print(total)\n",
    "        break"
   ]
  },
  {
   "cell_type": "code",
   "execution_count": 4,
   "metadata": {
    "collapsed": false
   },
   "outputs": [
    {
     "name": "stdout",
     "output_type": "stream",
     "text": [
      "请输入一个数字，以回车结束：1\n",
      "请输入一个数字，以回车结束：-2\n",
      "请输入一个数字，以回车结束：4\n",
      "3\n",
      "-8\n"
     ]
    }
   ],
   "source": [
    "#练习4\n",
    "total = 0\n",
    "product = 1\n",
    "\n",
    "while 1:\n",
    "    n = int(input(\"请输入一个数字，以回车结束：\"))\n",
    "    total += n\n",
    "    product *= n\n",
    "    if (total < n) and (product < n*n):\n",
    "            print(total)\n",
    "            print(product)\n",
    "            break"
   ]
  },
  {
   "cell_type": "code",
   "execution_count": null,
   "metadata": {
    "collapsed": true
   },
   "outputs": [],
   "source": []
  }
 ],
 "metadata": {
  "kernelspec": {
   "display_name": "Python 3",
   "language": "python",
   "name": "python3"
  },
  "language_info": {
   "codemirror_mode": {
    "name": "ipython",
    "version": 3
   },
   "file_extension": ".py",
   "mimetype": "text/x-python",
   "name": "python",
   "nbconvert_exporter": "python",
   "pygments_lexer": "ipython3",
   "version": "3.6.0"
  }
 },
 "nbformat": 4,
 "nbformat_minor": 2
}

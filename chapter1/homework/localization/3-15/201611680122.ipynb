{
 "cells": [
  {
   "cell_type": "code",
   "execution_count": 1,
   "metadata": {
    "collapsed": false,
    "deletable": true,
    "editable": true
   },
   "outputs": [
    {
     "name": "stdout",
     "output_type": "stream",
     "text": [
      "请输入你的姓名，以回车结束:Echo\n",
      "你好, Echo\n",
      "你想输入多少个整数？请回答并按下回车键结束：4\n",
      "请输入你想输入的整数，按下回车键结束：36\n",
      "请输入你想输入的整数，按下回车键结束：20\n",
      "请输入你想输入的整数，按下回车键结束：18\n",
      "请输入你想输入的整数，按下回车键结束：15\n",
      "你输入的整数求和为: 89\n",
      "再见! Echo\n"
     ]
    }
   ],
   "source": [
    "#练习2：仿照实践1，写出由用户指定整数个数，并由用户输入多个整数，并求和的代码。\n",
    "\n",
    "name = input('请输入你的姓名，以回车结束:')\n",
    "print('你好,', name)\n",
    "\n",
    "n=0\n",
    "sum=0\n",
    "num=int(input('你想输入多少个整数？请回答并按下回车键结束：'))\n",
    "\n",
    "while n<num:\n",
    "    i=int(input('请输入你想输入的整数，按下回车键结束：'))\n",
    "    n=n+1\n",
    "    sum=sum+i\n",
    "\n",
    "print('你输入的整数求和为:',sum)\n",
    "print('再见!',name)"
   ]
  },
  {
   "cell_type": "code",
   "execution_count": 2,
   "metadata": {
    "collapsed": false,
    "deletable": true,
    "editable": true,
    "scrolled": true
   },
   "outputs": [
    {
     "name": "stdout",
     "output_type": "stream",
     "text": [
      "请输入你的名字，按下回车键结束:Echo\n",
      "Hello， Echo\n",
      "你想输入数字吗？请回答yes或no:yes\n",
      "请输入你想输入的数字，按下回车键结束:36\n",
      "你还想输入数字吗？请回答yes或no:yes\n",
      "请输入你想输入的数字，按下回车键结束:20\n",
      "你还想输入数字吗？请回答yes或no:no\n",
      "那下次再输入吧，再见, Echo\n"
     ]
    }
   ],
   "source": [
    "#练习3：用户可以输入的任意多个数字，直到用户不想输入为止。\n",
    "\n",
    "name = input('请输入你的名字，按下回车键结束:')\n",
    "print('Hello，',name)\n",
    "\n",
    "n=input('你想输入数字吗？请回答yes或no:')\n",
    "\n",
    "while n=='yes':\n",
    "    m=input('请输入你想输入的数字，按下回车键结束:')\n",
    "    n=input('你还想输入数字吗？请回答yes或no:')\n",
    "    \n",
    "print('那下次再输入吧，再见,',name)"
   ]
  },
  {
   "cell_type": "code",
   "execution_count": 6,
   "metadata": {
    "collapsed": false,
    "deletable": true,
    "editable": true
   },
   "outputs": [
    {
     "name": "stdout",
     "output_type": "stream",
     "text": [
      "请输入你的名字，按下回车键结束：Echo\n",
      "Hello, Echo\n",
      "请输入你想输入的数字，按下回车键结束：5\n",
      "请输入你想输入的数字，按下回车键结束：4\n",
      "请输入你想输入的数字，按下回车键结束：3\n",
      "请输入你想输入的数字，按下回车键结束：13\n",
      "12\n",
      "60\n",
      "Sorry,不能再输入了哟\n",
      "Goodbye! Echo\n"
     ]
    }
   ],
   "source": [
    "#练习4：用户可以输入的任意多个数字，直到输入所有数字的和比当前输入数字小，且输入所有数字的积比当前输入数字的平方小。\n",
    "#此程序适用于所有整数\n",
    "\n",
    "name = input('请输入你的名字，按下回车键结束：')\n",
    "print('Hello,',name)\n",
    "\n",
    "n1=int(input('请输入你想输入的数字，按下回车键结束：'))\n",
    "\n",
    "if n1==0:\n",
    "    n2=0\n",
    "    product=n1\n",
    "    sum=n1\n",
    "    \n",
    "    \n",
    "if n1<0:\n",
    "    n2=n1\n",
    "    product=1\n",
    "    sum=0\n",
    "    \n",
    "if n1>0:\n",
    "    n2=1\n",
    "    sum=n1-1\n",
    "    product=n1\n",
    "\n",
    "while sum>=n2 or product>=n2**2:    \n",
    "    sum=int(sum+n2)\n",
    "    product=int(product*n2) \n",
    "    n2=int(input('请输入你想输入的数字，按下回车键结束：'))\n",
    "    \n",
    "print(sum)\n",
    "print(product)\n",
    "print('Sorry,不能再输入了哟')\n",
    "print('Goodbye!',name)"
   ]
  }
 ],
 "metadata": {
  "kernelspec": {
   "display_name": "Python 3",
   "language": "python",
   "name": "python3"
  },
  "language_info": {
   "codemirror_mode": {
    "name": "ipython",
    "version": 3
   },
   "file_extension": ".py",
   "mimetype": "text/x-python",
   "name": "python",
   "nbconvert_exporter": "python",
   "pygments_lexer": "ipython3",
   "version": "3.6.0"
  }
 },
 "nbformat": 4,
 "nbformat_minor": 2
}

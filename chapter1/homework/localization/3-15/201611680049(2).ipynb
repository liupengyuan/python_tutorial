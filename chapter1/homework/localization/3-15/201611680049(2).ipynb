{
 "cells": [
  {
   "cell_type": "code",
   "execution_count": null,
   "metadata": {
    "collapsed": false
   },
   "outputs": [],
   "source": [
    "name = input('请输入你的姓名，以回车结束')\n",
    "print('你好',name)\n",
    "\n",
    "n = int(input('请任意输入一个数字，以回车结束'))\n",
    "r = int(input('继续输入数字请输入1，停止输入数字请输入0，以回车结束'))\n",
    "\n",
    "while r == 1:\n",
    "    m = int(input('请任意输入一个数字，以回车结束'))\n",
    "    n = m + n\n",
    "    r = int(input('继续输入数字请输入1，停止输入数字请输入0，以回车结束'))\n",
    "    \n",
    "print('这些数的和是：',n)\n",
    "print('再见',name)"
   ]
  },
  {
   "cell_type": "code",
   "execution_count": null,
   "metadata": {
    "collapsed": false
   },
   "outputs": [],
   "source": [
    "name = input('请输入你的姓名，以回车结束')\n",
    "print('你好',name)\n",
    "\n",
    "n = int(input('请任意输入一个数字，以回车结束'))\n",
    "print(n)\n",
    "m = int(input('继续输入数字请输入1，停止输入数字请输入0，以回车结束'))\n",
    "\n",
    "while m == 1:\n",
    "    n = int(input('请任意输入一个数字，以回车结束'))\n",
    "    print(n)\n",
    "    m = int(input('继续输入数字请输入1，停止输入数字请输入0，以回车结束'))\n",
    "\n",
    "print('再见，谢谢使用')"
   ]
  },
  {
   "cell_type": "code",
   "execution_count": null,
   "metadata": {
    "collapsed": true
   },
   "outputs": [],
   "source": [
    "n = int(input('请任意输入一个数字，以回车结束'))\n",
    "m = int(input('请任意输入一个数字，以回车结束'))\n",
    "i = n\n",
    "n = m + n\n",
    "i = m * i\n",
    "\n",
    "while m < m + n or m**2 < m * i:\n",
    "    m = int(input('请任意输入一个数字，以回车结束'))\n",
    "    \n",
    "print('谢谢使用')   "
   ]
  }
 ],
 "metadata": {
  "kernelspec": {
   "display_name": "Python 3",
   "language": "python",
   "name": "python3"
  },
  "language_info": {
   "codemirror_mode": {
    "name": "ipython",
    "version": 3
   },
   "file_extension": ".py",
   "mimetype": "text/x-python",
   "name": "python",
   "nbconvert_exporter": "python",
   "pygments_lexer": "ipython3",
   "version": "3.6.0"
  }
 },
 "nbformat": 4,
 "nbformat_minor": 2
}

{
 "cells": [
  {
   "cell_type": "code",
   "execution_count": 2,
   "metadata": {
    "collapsed": false
   },
   "outputs": [
    {
     "name": "stdout",
     "output_type": "stream",
     "text": [
      "请输入一个整数，作为加数的个数3\n",
      "请输入一个整数，作为加数5\n",
      "请输入一个整数，作为加数5\n",
      "请输入一个整数，作为加数5\n",
      "15\n"
     ]
    }
   ],
   "source": [
    "n=int(input('请输入一个整数，作为加数的个数'))\n",
    "m=0\n",
    "total=0\n",
    "while m<n:\n",
    "    m=m+1\n",
    "    i=int(input('请输入一个整数，作为加数'))\n",
    "    total=total+i\n",
    "print(total)"
   ]
  },
  {
   "cell_type": "code",
   "execution_count": 1,
   "metadata": {
    "collapsed": false
   },
   "outputs": [
    {
     "name": "stdout",
     "output_type": "stream",
     "text": [
      "请输入1或0，想要继续输入数字请输1，不想请输01\n",
      "请输入任意数字5\n",
      "5\n",
      "请输入1或0，想要继续输入数字请输1，不想请输01\n",
      "请输入任意数字6\n",
      "6\n",
      "请输入1或0，想要继续输入数字请输1，不想请输01\n",
      "请输入任意数字7\n",
      "7\n",
      "请输入1或0，想要继续输入数字请输1，不想请输00\n"
     ]
    }
   ],
   "source": [
    "m=int(input('请输入1或0，想要继续输入数字请输1，不想请输0'))\n",
    "while m>0:\n",
    "    n=input('请输入任意数字')\n",
    "    print(n)\n",
    "    m=int(input('请输入1或0，想要继续输入数字请输1，不想请输0'))"
   ]
  },
  {
   "cell_type": "code",
   "execution_count": 3,
   "metadata": {
    "collapsed": false
   },
   "outputs": [
    {
     "name": "stdout",
     "output_type": "stream",
     "text": [
      "请输入一个数字1\n",
      "请输入一个数字2\n"
     ]
    }
   ],
   "source": [
    "total=0\n",
    "product=1\n",
    "n=int(input('请输入一个数字'))\n",
    "total=total+n\n",
    "product=product*n\n",
    "while total>=n and product>=n*n:\n",
    "    n=int(input('请输入一个数字'))\n",
    "    total=total+n\n",
    "    product=product*n"
   ]
  },
  {
   "cell_type": "code",
   "execution_count": 4,
   "metadata": {
    "collapsed": false
   },
   "outputs": [
    {
     "name": "stdout",
     "output_type": "stream",
     "text": [
      "请输入任意数字0\n",
      "请输入任意数字1\n"
     ]
    }
   ],
   "source": [
    "n=int(input('请输入任意数字'))\n",
    "total=0\n",
    "product=1\n",
    "while total>=n and product>=n*n:\n",
    "    total=total+n\n",
    "    product=product*n\n",
    "    n=int(input('请输入任意数字'))"
   ]
  },
  {
   "cell_type": "markdown",
   "metadata": {},
   "source": [
    "顺序为练习2 3 4 4"
   ]
  }
 ],
 "metadata": {
  "kernelspec": {
   "display_name": "Python 3",
   "language": "python",
   "name": "python3"
  },
  "language_info": {
   "codemirror_mode": {
    "name": "ipython",
    "version": 3
   },
   "file_extension": ".py",
   "mimetype": "text/x-python",
   "name": "python",
   "nbconvert_exporter": "python",
   "pygments_lexer": "ipython3",
   "version": "3.6.0"
  }
 },
 "nbformat": 4,
 "nbformat_minor": 2
}

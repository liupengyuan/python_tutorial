{
 "cells": [
  {
   "cell_type": "code",
   "execution_count": 3,
   "metadata": {
    "collapsed": false
   },
   "outputs": [
    {
     "name": "stdout",
     "output_type": "stream",
     "text": [
      "please input an int number: 5\n",
      "120\n"
     ]
    }
   ],
   "source": [
    "n = int(input(\"please input an int number: \"))\n",
    "i = 0\n",
    "fac = 1\n",
    "while i < n:\n",
    "    i = i+1\n",
    "    fac = fac*i\n",
    "print(fac)"
   ]
  },
  {
   "cell_type": "code",
   "execution_count": 1,
   "metadata": {
    "collapsed": false,
    "scrolled": true
   },
   "outputs": [
    {
     "name": "stdout",
     "output_type": "stream",
     "text": [
      "please input your name and end with Enterzxy\n",
      "Hello zxy\n",
      "please input an int number and end with Enter3\n",
      "please input an int number and end with Enter2\n",
      "the total number is:  5\n",
      "Bye! zxy\n"
     ]
    }
   ],
   "source": [
    "name = input('please input your name and end with Enter')\n",
    "print('Hello',name)\n",
    "\n",
    "n = int(input('please input an int number and end with Enter'))\n",
    "m = int(input('please input an int number and end with Enter'))\n",
    "\n",
    "print('the total number is: ',m+n)\n",
    "print('Bye!',name)"
   ]
  },
  {
   "cell_type": "code",
   "execution_count": 1,
   "metadata": {
    "collapsed": false
   },
   "outputs": [
    {
     "name": "stdout",
     "output_type": "stream",
     "text": [
      "please input the number of int numbers: 5\n",
      "5\n",
      "please input an int number: 1\n",
      "please input an int number: 2\n",
      "please input an int number: 3\n",
      "please input an int number: 4\n",
      "please input an int number: 5\n",
      "15\n"
     ]
    }
   ],
   "source": [
    "n = int(input('please input the number of int numbers: '))\n",
    "print(n)\n",
    "\n",
    "sum = 0\n",
    "i = 0\n",
    "while i < n:\n",
    "    n -= 1 \n",
    "    m = int(input('please input an int number: '))\n",
    "    sum = sum + m\n",
    "print(sum)"
   ]
  },
  {
   "cell_type": "code",
   "execution_count": 2,
   "metadata": {
    "collapsed": false
   },
   "outputs": [
    {
     "name": "stdout",
     "output_type": "stream",
     "text": [
      "请输入一个数字，或回车退出。2\n",
      "请输入一个数字，或回车退出。3\n",
      "请输入一个数字，或回车退出。4\n",
      "请输入一个数字，或回车退出。\n"
     ]
    }
   ],
   "source": [
    "i = 1\n",
    "while i:\n",
    "    i = input('请输入一个数字，或回车退出。')"
   ]
  },
  {
   "cell_type": "code",
   "execution_count": null,
   "metadata": {
    "collapsed": false
   },
   "outputs": [
    {
     "name": "stdout",
     "output_type": "stream",
     "text": [
      "请输入一个数字： -10\n",
      "请输入一个数字： 2\n",
      "已输入所有数字之和 -8 小于当前输入的 2 ,且输入所有数字的积 -20 小于当前输入数字的平方 4\n"
     ]
    }
   ],
   "source": [
    "i = 1\n",
    "sum = 0\n",
    "product = 1\n",
    "while i:\n",
    "    i = int(input('请输入一个数字： '))\n",
    "    sum = sum + i\n",
    "    product = product * i\n",
    "    if sum < i and product < i**2:\n",
    "        print('已输入所有数字之和',sum,'小于当前输入的',i,',且输入所有数字的积',\n",
    "              product,'小于当前输入数字的平方',i**2)"
   ]
  }
 ],
 "metadata": {
  "anaconda-cloud": {},
  "kernelspec": {
   "display_name": "Python [Root]",
   "language": "python",
   "name": "Python [Root]"
  },
  "language_info": {
   "codemirror_mode": {
    "name": "ipython",
    "version": 3
   },
   "file_extension": ".py",
   "mimetype": "text/x-python",
   "name": "python",
   "nbconvert_exporter": "python",
   "pygments_lexer": "ipython3",
   "version": "3.5.2"
  }
 },
 "nbformat": 4,
 "nbformat_minor": 0
}

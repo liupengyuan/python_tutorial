{
 "cells": [
  {
   "cell_type": "code",
   "execution_count": 2,
   "metadata": {
    "collapsed": false
   },
   "outputs": [
    {
     "name": "stdout",
     "output_type": "stream",
     "text": [
      "请输入你的姓名，以回车结束。vivien\n",
      "你好！ vivien\n",
      "请输入一个整数，以回车结束。2\n",
      "请输入一个整数，以回车结束。1\n",
      "请输入一个整数，以回车结束。2\n",
      "3\n"
     ]
    }
   ],
   "source": [
    "name = input('请输入你的姓名，以回车结束。')\n",
    "print('你好！',name)\n",
    "\n",
    "n=int(input('请输入一个整数，以回车结束。'))\n",
    "\n",
    "i = 0\n",
    "total = 0\n",
    "\n",
    "while i<n:\n",
    "    m=int(input('请输入一个整数，以回车结束。'))\n",
    "    i = i + 1\n",
    "    total = total + m\n",
    "\n",
    "print(total)"
   ]
  },
  {
   "cell_type": "code",
   "execution_count": null,
   "metadata": {
    "collapsed": true
   },
   "outputs": [],
   "source": [
    "flag = 1\n",
    "\n",
    "while flag==1:\n",
    "    n=int(input('请输入一个数字，以回车结束。'))"
   ]
  },
  {
   "cell_type": "code",
   "execution_count": null,
   "metadata": {
    "collapsed": true
   },
   "outputs": [],
   "source": [
    "flag=1\n",
    "total1 = 0\n",
    "total2 = 1\n",
    "\n",
    "n=int(input('请输入一个数字，以回车结束。'))\n",
    "total1 = total1 + n\n",
    "total2 = total2 * n\n",
    "\n",
    "while flag == 1:\n",
    "    m=int(input('请继续输入一个数字，以回车结束。'))\n",
    "    square = m ** 2\n",
    "    while total2 < square:\n",
    "        while total1 < m:\n",
    "            flag = 0\n",
    "            print('请停止输入')\n",
    "            total1 = total1 + m\n",
    "            total2 = total2 * m\n",
    "\n"
   ]
  }
 ],
 "metadata": {
  "kernelspec": {
   "display_name": "Python 3",
   "language": "python",
   "name": "python3"
  },
  "language_info": {
   "codemirror_mode": {
    "name": "ipython",
    "version": 3
   },
   "file_extension": ".py",
   "mimetype": "text/x-python",
   "name": "python",
   "nbconvert_exporter": "python",
   "pygments_lexer": "ipython3",
   "version": "3.6.0"
  }
 },
 "nbformat": 4,
 "nbformat_minor": 2
}

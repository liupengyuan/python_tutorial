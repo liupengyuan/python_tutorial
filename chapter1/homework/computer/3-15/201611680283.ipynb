{
 "cells": [
  {
   "cell_type": "code",
   "execution_count": 1,
   "metadata": {
    "collapsed": false
   },
   "outputs": [
    {
     "name": "stdout",
     "output_type": "stream",
     "text": [
      "请输入一个正整数表示你想要输入整数的个数，以回车结束。2\n",
      "请输入一个正整数，以回车结束。1\n",
      "请输入一个正整数，以回车结束。2\n",
      "3\n"
     ]
    }
   ],
   "source": [
    "#练习2：仿照实践1，写出由用户指定整数个数，并由用户输入多个整数，并求和的代码。\n",
    "n = int(input('请输入一个正整数表示你想要输入整数的个数，以回车结束。'))\n",
    "i = 0\n",
    "total = 0\n",
    "while i < n:\n",
    "    i = i + 1\n",
    "    a = int(input('请输入一个正整数，以回车结束。'))\n",
    "    total = total + a    \n",
    "print(total)"
   ]
  },
  {
   "cell_type": "code",
   "execution_count": 6,
   "metadata": {
    "collapsed": false
   },
   "outputs": [
    {
     "name": "stdout",
     "output_type": "stream",
     "text": [
      "请输入任意多数字，不想输入时输入数字零结束\n",
      "请输入一个正整数，以回车结束。1\n",
      "请输入一个正整数，以回车结束。2\n",
      "请输入一个正整数，以回车结束。3\n",
      "请输入一个正整数，以回车结束。0\n",
      "6\n",
      "结束\n"
     ]
    }
   ],
   "source": [
    "#练习3：用户可以输入的任意多个数字，直到用户不想输入为止。\n",
    "print('请输入任意多数字，不想输入时输入数字零结束')\n",
    "total = 0\n",
    "n = 0\n",
    "while n < 1:\n",
    "    a = int(input('请输入一个正整数，以回车结束。'))\n",
    "    total = total + a \n",
    "    if a==0:\n",
    "        break;    \n",
    "print(total)\n",
    "print('结束')"
   ]
  },
  {
   "cell_type": "code",
   "execution_count": 11,
   "metadata": {
    "collapsed": false
   },
   "outputs": [
    {
     "name": "stdout",
     "output_type": "stream",
     "text": [
      "请输入一个正整数，以回车结束。1\n",
      "请输入一个正整数，以回车结束。-1\n",
      "请输入一个正整数，以回车结束。2\n",
      "请输入一个正整数，以回车结束。-3\n",
      "请输入一个正整数，以回车结束。0\n",
      "请输入一个正整数，以回车结束。2\n",
      "结束\n"
     ]
    }
   ],
   "source": [
    "#练习4：用户可以输入的任意多个数字，直到输入所有数字的和比当前输入数字小，且输入所有数字的积比当前输入数字的平方小。\n",
    "total = 0\n",
    "mult = 1\n",
    "n = 0\n",
    "while n < 1:\n",
    "    a = int(input('请输入一个正整数，以回车结束。'))\n",
    "    total = total + a \n",
    "    mult =mult * a\n",
    "    if total < a and mult < a ** 2:\n",
    "        break;    \n",
    "print('结束')"
   ]
  }
 ],
 "metadata": {
  "kernelspec": {
   "display_name": "Python 3",
   "language": "python",
   "name": "python3"
  },
  "language_info": {
   "codemirror_mode": {
    "name": "ipython",
    "version": 3
   },
   "file_extension": ".py",
   "mimetype": "text/x-python",
   "name": "python",
   "nbconvert_exporter": "python",
   "pygments_lexer": "ipython3",
   "version": "3.6.0"
  }
 },
 "nbformat": 4,
 "nbformat_minor": 2
}

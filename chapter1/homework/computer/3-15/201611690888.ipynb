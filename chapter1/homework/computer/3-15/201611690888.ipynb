{
 "cells": [
  {
   "cell_type": "code",
   "execution_count": 1,
   "metadata": {
    "collapsed": false,
    "deletable": true,
    "editable": true
   },
   "outputs": [
    {
     "name": "stdout",
     "output_type": "stream",
     "text": [
      "请输入整数个数，以回车结束。3\n",
      "请输入一个正整数，以回车结束。2\n",
      "请输入一个正整数，以回车结束。3\n",
      "请输入一个正整数，以回车结束。4\n",
      "9\n"
     ]
    }
   ],
   "source": [
    "n =int(input('请输入整数个数，以回车结束。'))\n",
    "\n",
    "i=0\n",
    "total=0\n",
    "\n",
    "while i<n:\n",
    "    i=i+1\n",
    "    total=total+int(input('请输入一个正整数，以回车结束。'))\n",
    "    \n",
    "print(total)\n",
    "    "
   ]
  },
  {
   "cell_type": "code",
   "execution_count": 2,
   "metadata": {
    "collapsed": false,
    "deletable": true,
    "editable": true
   },
   "outputs": [
    {
     "name": "stdout",
     "output_type": "stream",
     "text": [
      "请输入一个数字，以回车结束。8\n",
      "是否想继续输入数字？Y/NY\n",
      "请输入一个数字，以回车结束。4\n",
      "是否想继续输入数字？Y/NN\n"
     ]
    }
   ],
   "source": [
    "m=int(input('请输入一个数字，以回车结束。'))\n",
    "n=input('是否想继续输入数字？Y/N')\n",
    "            \n",
    "while n==\"Y\":\n",
    "    m=int(input('请输入一个数字，以回车结束。'))\n",
    "    n=input('是否想继续输入数字？Y/N')\n",
    "\n",
    "\n",
    "\n"
   ]
  },
  {
   "cell_type": "code",
   "execution_count": 4,
   "metadata": {
    "collapsed": false,
    "deletable": true,
    "editable": true
   },
   "outputs": [
    {
     "name": "stdout",
     "output_type": "stream",
     "text": [
      "请输入一个数字，以回车结束。3\n",
      "请输入一个数字，以回车结束。4\n"
     ]
    }
   ],
   "source": [
    "m=int(input('请输入一个数字，以回车结束。'))\n",
    "t=m\n",
    "r=m\n",
    "\n",
    "\n",
    "while t>=m and r<=m:\n",
    "    m=int(input('请输入一个数字，以回车结束。'))\n",
    "    t=t+m\n",
    "    r=r*m"
   ]
  }
 ],
 "metadata": {
  "kernelspec": {
   "display_name": "Python 3",
   "language": "python",
   "name": "python3"
  },
  "language_info": {
   "codemirror_mode": {
    "name": "ipython",
    "version": 3
   },
   "file_extension": ".py",
   "mimetype": "text/x-python",
   "name": "python",
   "nbconvert_exporter": "python",
   "pygments_lexer": "ipython3",
   "version": "3.6.0"
  }
 },
 "nbformat": 4,
 "nbformat_minor": 2
}

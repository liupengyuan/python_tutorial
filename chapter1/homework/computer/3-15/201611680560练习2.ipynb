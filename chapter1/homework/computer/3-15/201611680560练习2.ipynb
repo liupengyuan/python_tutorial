{
 "cells": [
  {
   "cell_type": "code",
   "execution_count": 2,
   "metadata": {
    "collapsed": false
   },
   "outputs": [
    {
     "name": "stdout",
     "output_type": "stream",
     "text": [
      "请输入指定的整数个数，以回车结束。3\n",
      "请输入一个整数，以回车结束。1\n",
      "请输入一个整数，以回车结束。2\n",
      "请输入一个整数，以回车结束。3\n",
      "整数之和是 6\n"
     ]
    }
   ],
   "source": [
    "n = int(input('请输入指定的整数个数，以回车结束。'))\n",
    "i = 0\n",
    "sum = 0\n",
    "while i < n :\n",
    "    m = int(input('请输入一个整数，以回车结束。'))\n",
    "    sum = sum+m\n",
    "    i = 1+i\n",
    "print('整数之和是',sum)"
   ]
  }
 ],
 "metadata": {
  "kernelspec": {
   "display_name": "Python 3",
   "language": "python",
   "name": "python3"
  }
 },
 "nbformat": 4,
 "nbformat_minor": 2
}

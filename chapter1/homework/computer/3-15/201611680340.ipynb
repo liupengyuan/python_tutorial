{
 "cells": [
  {
   "cell_type": "code",
   "execution_count": null,
   "metadata": {
    "collapsed": true
   },
   "outputs": [],
   "source": [
    "name = input('请输入你的姓名，以回车结束。')\n",
    "print('你好', name)\n",
    "n = int(input('请输入你想输入的数的个数，以回车结束。'))\n",
    "i = 0\n",
    "total = 0\n",
    "while i < n:\n",
    "    i=i+1\n",
    "    m = int(input('请输入一个整数，以回车结束。'))\n",
    "    total = total + m \n",
    "print('所有数的和为',total)\n",
    "print('再见！', name)"
   ]
  },
  {
   "cell_type": "code",
   "execution_count": null,
   "metadata": {
    "collapsed": true
   },
   "outputs": [],
   "source": [
    "name = input('请输入你的姓名，以回车结束。')\n",
    "print('你好', name)\n",
    "total = 0\n",
    "while True:  \n",
    "    \n",
    "    m = int(input('请输入一个整数，以回车结束。'))\n",
    "    total = total + m \n",
    "    if m==0:\n",
    "        break\n",
    "print('所有数的和为',total)\n",
    "print('再见！', name)"
   ]
  },
  {
   "cell_type": "code",
   "execution_count": 3,
   "metadata": {
    "collapsed": false
   },
   "outputs": [
    {
     "name": "stdout",
     "output_type": "stream",
     "text": [
      "请输入你的姓名，以回车结束。a\n",
      "你好 a\n",
      "请输入一个整数，以回车结束。1\n",
      "请输入一个整数，以回车结束。-1\n",
      "请输入一个整数，以回车结束。2\n",
      "请输入一个整数，以回车结束。-3\n",
      "请输入一个整数，以回车结束。0\n",
      "请输入一个整数，以回车结束。2\n",
      "再见！ a\n"
     ]
    }
   ],
   "source": [
    "name = input('请输入你的姓名，以回车结束。')\n",
    "print('你好', name)\n",
    "total = 0\n",
    "ji=1\n",
    "while True:  \n",
    "    m = int(input('请输入一个整数，以回车结束。'))\n",
    "    total = total + m\n",
    "    ji=ji*m\n",
    "   \n",
    "    if total<m and ji<m*m:\n",
    "            break\n",
    "\n",
    "print('再见！', name)"
   ]
  }
 ],
 "metadata": {
  "kernelspec": {
   "display_name": "Python 3",
   "language": "python",
   "name": "python3"
  },
  "language_info": {
   "codemirror_mode": {
    "name": "ipython",
    "version": 3
   },
   "file_extension": ".py",
   "mimetype": "text/x-python",
   "name": "python",
   "nbconvert_exporter": "python",
   "pygments_lexer": "ipython3",
   "version": "3.6.0"
  }
 },
 "nbformat": 4,
 "nbformat_minor": 2
}

{
 "cells": [
  {
   "cell_type": "code",
   "execution_count": 2,
   "metadata": {
    "collapsed": false,
    "deletable": true,
    "editable": true
   },
   "outputs": [
    {
     "name": "stdout",
     "output_type": "stream",
     "text": [
      "请输入一个整数5\n",
      "120\n"
     ]
    }
   ],
   "source": [
    "n=int(input('请输入一个整数'))\n",
    "i=1\n",
    "total=1\n",
    "while i<=n:\n",
    "  total=total*i\n",
    "  i=i+1\n",
    "print(total)"
   ]
  },
  {
   "cell_type": "code",
   "execution_count": null,
   "metadata": {
    "collapsed": false,
    "deletable": true,
    "editable": true
   },
   "outputs": [],
   "source": [
    "name=input('请输入你的姓名，以回车结束。')\n",
    "print('你好',name)\n",
    "\n",
    "n=int(input('请输入一个正整数，以回车结束。'))\n",
    "m=int(input('请输入一个正整数，以回车结束。'))\n",
    "\n",
    "print('两个数的和是：',m+n)\n",
    "print('再见！',name)"
   ]
  },
  {
   "cell_type": "code",
   "execution_count": 5,
   "metadata": {
    "collapsed": false,
    "deletable": true,
    "editable": true
   },
   "outputs": [
    {
     "name": "stdout",
     "output_type": "stream",
     "text": [
      "请输入你的姓名，以回车结束。李萌\n",
      "你好 李萌\n",
      "请输入一个正整数，以回车结束。4\n",
      "请输入一个整数，以回车结束。1\n",
      "请输入一个整数，以回车结束。2\n",
      "请输入一个整数，以回车结束。3\n",
      "请输入一个整数，以回车结束。4\n",
      "这些整数的和是： 10\n",
      "再见！ 李萌\n"
     ]
    }
   ],
   "source": [
    "name = input('请输入你的姓名，以回车结束。')\n",
    "print('你好', name)\n",
    "\n",
    "n = int(input('请输入一个正整数，以回车结束。'))\n",
    "i=1\n",
    "total=0\n",
    "\n",
    "while i<=n:\n",
    "    total=total+int(input('请输入一个整数，以回车结束。'))\n",
    "    i=i+1\n",
    "\n",
    "print('这些整数的和是：',total)\n",
    "print('再见！',name)\n"
   ]
  },
  {
   "cell_type": "code",
   "execution_count": 7,
   "metadata": {
    "collapsed": false,
    "deletable": true,
    "editable": true
   },
   "outputs": [
    {
     "name": "stdout",
     "output_type": "stream",
     "text": [
      "请输入一个整数，输入0表示结束2\n",
      "请输入一个整数，输入0表示结束3\n",
      "请输入一个整数，输入0表示结束0\n"
     ]
    }
   ],
   "source": [
    "n=int(input('请输入一个整数，输入0表示结束'))\n",
    "while n!=0:\n",
    "    n=int(input('请输入一个整数，输入0表示结束'))"
   ]
  },
  {
   "cell_type": "code",
   "execution_count": null,
   "metadata": {
    "collapsed": false
   },
   "outputs": [],
   "source": [
    "n=int(input('请输入一个整数'))\n",
    "sum1=n\n",
    "total=n\n",
    "while sum1>=n or total>=n*n:\n",
    "    n=int(input('请输入一个整数'))\n",
    "    sum1=sum1+n\n",
    "    total=total*n\n",
    "\n"
   ]
  }
 ],
 "metadata": {
  "kernelspec": {
   "display_name": "Python 3",
   "language": "python",
   "name": "python3"
  },
  "language_info": {
   "codemirror_mode": {
    "name": "ipython",
    "version": 3
   },
   "file_extension": ".py",
   "mimetype": "text/x-python",
   "name": "python",
   "nbconvert_exporter": "python",
   "pygments_lexer": "ipython3",
   "version": "3.6.0"
  }
 },
 "nbformat": 4,
 "nbformat_minor": 2
}

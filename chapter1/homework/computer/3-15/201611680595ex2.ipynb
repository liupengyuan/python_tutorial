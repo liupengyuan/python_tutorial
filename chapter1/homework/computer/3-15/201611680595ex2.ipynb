{
 "cells": [
  {
   "cell_type": "code",
   "execution_count": null,
   "metadata": {
    "collapsed": false
   },
   "outputs": [
    {
     "name": "stdout",
     "output_type": "stream",
     "text": [
      "请输入一个正整数，以回车结束。3\n",
      "请输入一个正整数，以回车结束。1\n"
     ]
    }
   ],
   "source": [
    "n = int(input('请输入一个正整数，以回车结束。'))\n",
    "i=0\n",
    "m=0\n",
    "sum=0\n",
    "\n",
    "while i<n:\n",
    "    m = int(input('请输入一个正整数，以回车结束。'))\n",
    "    sum=sum+m\n",
    "    i+=1\n",
    "    \n",
    "print(sum)\n"
   ]
  },
  {
   "cell_type": "code",
   "execution_count": null,
   "metadata": {
    "collapsed": true
   },
   "outputs": [],
   "source": []
  }
 ],
 "metadata": {
  "kernelspec": {
   "display_name": "Python 3",
   "language": "python",
   "name": "python3"
  },
  "language_info": {
   "codemirror_mode": {
    "name": "ipython",
    "version": 3
   },
   "file_extension": ".py",
   "mimetype": "text/x-python",
   "name": "python",
   "nbconvert_exporter": "python",
   "pygments_lexer": "ipython3",
   "version": "3.6.0"
  }
 },
 "nbformat": 4,
 "nbformat_minor": 2
}

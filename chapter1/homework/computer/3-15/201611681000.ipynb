{
 "cells": [
  {
   "cell_type": "code",
   "execution_count": 8,
   "metadata": {
    "collapsed": false,
    "deletable": true,
    "editable": true
   },
   "outputs": [
    {
     "name": "stdout",
     "output_type": "stream",
     "text": [
      "请输入一个数\n",
      "12\n",
      "479001600\n"
     ]
    }
   ],
   "source": [
    "n=int(input(\"请输入一个数\\n\"))\n",
    "sum=1\n",
    "i=1\n",
    "while i<=n:\n",
    "    sum*=i\n",
    "    i+=1\n",
    "print(sum)\n",
    "    "
   ]
  },
  {
   "cell_type": "code",
   "execution_count": 15,
   "metadata": {
    "collapsed": false,
    "deletable": true,
    "editable": true
   },
   "outputs": [
    {
     "name": "stdout",
     "output_type": "stream",
     "text": [
      "请输入你的姓名，以回车结束。\n",
      "wsk\n",
      "你好 wsk\n",
      "请输入一个正整数，以回车结束。\n",
      "5\n",
      "请输入一个正整数，以回车结束。\n",
      "4\n",
      "两个数的和是： 9\n",
      "再见！ wsk\n"
     ]
    }
   ],
   "source": [
    "name = input('请输入你的姓名，以回车结束。\\n')\n",
    "print('你好',name)\n",
    "n = int(input('请输入一个正整数，以回车结束。\\n'))\n",
    "m = int(input('请输入一个正整数，以回车结束。\\n'))\n",
    "\n",
    "print('两个数的和是：', m+n)\n",
    "print('再见！', name)\n"
   ]
  },
  {
   "cell_type": "code",
   "execution_count": 1,
   "metadata": {
    "collapsed": false,
    "deletable": true,
    "editable": true
   },
   "outputs": [
    {
     "name": "stdout",
     "output_type": "stream",
     "text": [
      "请输入你要指定的整数个数\n",
      "2\n",
      "请输入一个整数1\n",
      "请输入一个整数6\n",
      "7\n"
     ]
    }
   ],
   "source": [
    "n=int(input(\"请输入你要指定的整数个数\\n\"))\n",
    "i=1\n",
    "sum=0\n",
    "while i<=n:\n",
    "    m=int(input(\"请输入一个整数\"))\n",
    "    sum=sum+m\n",
    "    i+=1 \n",
    "print(sum)"
   ]
  },
  {
   "cell_type": "code",
   "execution_count": 3,
   "metadata": {
    "collapsed": false,
    "deletable": true,
    "editable": true
   },
   "outputs": [
    {
     "name": "stdout",
     "output_type": "stream",
     "text": [
      "请输入一个整数，输入0表示结束\n",
      "5\n",
      "请输入一个整数\n",
      "2\n",
      "请输入一个整数\n",
      "0\n",
      "7\n"
     ]
    }
   ],
   "source": [
    "i=1\n",
    "sum=0\n",
    "print(\"请输入一个整数，输入0表示结束\")\n",
    "m=int(input())\n",
    "while m!=0:\n",
    "    sum=sum+m\n",
    "    m=int(input(\"请输入一个整数\\n\"))\n",
    "print(sum)"
   ]
  },
  {
   "cell_type": "code",
   "execution_count": 2,
   "metadata": {
    "collapsed": false,
    "deletable": true,
    "editable": true
   },
   "outputs": [
    {
     "name": "stdout",
     "output_type": "stream",
     "text": [
      "请输入一个整数，以回车结束\n",
      "1\n",
      "请输入一个整数,以回车结束\n",
      "2\n",
      "积为 1\n"
     ]
    }
   ],
   "source": [
    "print(\"请输入一个整数，以回车结束\")\n",
    "m=int(input())\n",
    "sum=m\n",
    "mul=m\n",
    "while m<=sum and mul>=m**2:\n",
    "    sum=sum+m\n",
    "    mul=mul*m\n",
    "    m=int(input(\"请输入一个整数,以回车结束\\n\"))\n",
    "print(\"积为\",mul)"
   ]
  }
 ],
 "metadata": {
  "kernelspec": {
   "display_name": "Python 3",
   "language": "python",
   "name": "python3"
  },
  "language_info": {
   "codemirror_mode": {
    "name": "ipython",
    "version": 3
   },
   "file_extension": ".py",
   "mimetype": "text/x-python",
   "name": "python",
   "nbconvert_exporter": "python",
   "pygments_lexer": "ipython3",
   "version": "3.6.0"
  }
 },
 "nbformat": 4,
 "nbformat_minor": 2
}

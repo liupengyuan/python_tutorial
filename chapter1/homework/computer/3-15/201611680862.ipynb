{
 "cells": [
  {
   "cell_type": "code",
   "execution_count": 1,
   "metadata": {
    "collapsed": false
   },
   "outputs": [
    {
     "name": "stdout",
     "output_type": "stream",
     "text": [
      "please enter a positive ingeter5\n",
      "1\n",
      "2\n",
      "3\n",
      "4\n",
      "5\n",
      "15\n"
     ]
    }
   ],
   "source": [
    "n=int(input('please enter a positive ingeter'))\n",
    "i=1\n",
    "total=0\n",
    "while i<=n:\n",
    "    a=int(input())\n",
    "    total=total+a\n",
    "    i=i+1\n",
    "print(total)"
   ]
  },
  {
   "cell_type": "code",
   "execution_count": 6,
   "metadata": {
    "collapsed": false
   },
   "outputs": [
    {
     "name": "stdout",
     "output_type": "stream",
     "text": [
      "if you don not want to enter anymore,please click Enter1\n",
      "2\n",
      "3\n",
      "\n"
     ]
    }
   ],
   "source": [
    "input('if you don not want to enter anymore,please click Enter')\n",
    "i=input()\n",
    "while i!='':\n",
    "    i=input()"
   ]
  },
  {
   "cell_type": "code",
   "execution_count": null,
   "metadata": {
    "collapsed": true
   },
   "outputs": [],
   "source": [
    "i=int(input())\n",
    "add_total=i\n",
    "multi_total=i\n",
    "while add_total>=i or multi_total>=(i*i):\n",
    "    i=int(input())\n",
    "    add_total=add_total+i\n",
    "    multi_total=multi_total*i"
   ]
  }
 ],
 "metadata": {
  "kernelspec": {
   "display_name": "Python 3",
   "language": "python",
   "name": "python3"
  },
  "language_info": {
   "codemirror_mode": {
    "name": "ipython",
    "version": 3
   },
   "file_extension": ".py",
   "mimetype": "text/x-python",
   "name": "python",
   "nbconvert_exporter": "python",
   "pygments_lexer": "ipython3",
   "version": "3.6.0"
  }
 },
 "nbformat": 4,
 "nbformat_minor": 2
}

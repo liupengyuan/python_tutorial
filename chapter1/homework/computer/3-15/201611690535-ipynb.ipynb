{
 "cells": [
  {
   "cell_type": "code",
   "execution_count": 1,
   "metadata": {
    "collapsed": false
   },
   "outputs": [
    {
     "name": "stdout",
     "output_type": "stream",
     "text": [
      "请输入一个正整数，以回车结束。3\n",
      "6\n"
     ]
    }
   ],
   "source": [
    "n = int(input('请输入一个正整数，以回车结束。'))\n",
    "\n",
    "i = 0\n",
    "sum=1\n",
    "\n",
    "while i < n:\n",
    "    i = i + 1\n",
    "    sum=sum*i\n",
    "    \n",
    "print(sum)"
   ]
  },
  {
   "cell_type": "code",
   "execution_count": 2,
   "metadata": {
    "collapsed": false
   },
   "outputs": [
    {
     "name": "stdout",
     "output_type": "stream",
     "text": [
      "请输入你的姓名，以回车结束。lisiqin\n",
      "你好 lisiqin\n",
      "请输入一个正整数，以回车结束。8\n",
      "请输入一个正整数，以回车结束。9\n",
      "两个数的和是： 17\n",
      "再见！ lisiqin\n"
     ]
    }
   ],
   "source": [
    "name = input('请输入你的姓名，以回车结束。')\n",
    "print('你好', name)\n",
    "\n",
    "n = int(input('请输入一个正整数，以回车结束。'))\n",
    "m = int(input('请输入一个正整数，以回车结束。'))\n",
    "\n",
    "print('两个数的和是：', m+n)\n",
    "print('再见！', name)"
   ]
  },
  {
   "cell_type": "code",
   "execution_count": 3,
   "metadata": {
    "collapsed": false
   },
   "outputs": [
    {
     "name": "stdout",
     "output_type": "stream",
     "text": [
      "请输入一个正整数，以回车结束。3\n",
      "请输入一个正整数，以回车键结束。2\n",
      "请输入一个正整数，以回车键结束。1\n",
      "请输入一个正整数，以回车键结束。3\n",
      "6\n"
     ]
    }
   ],
   "source": [
    "n=int(input('请输入一个正整数，以回车结束。'))\n",
    "i=0\n",
    "total=0\n",
    "while i<n:\n",
    "    m=int(input(\"请输入一个正整数，以回车键结束。\"))\n",
    "    i=i+1\n",
    "    total=total+m\n",
    "print(total)"
   ]
  },
  {
   "cell_type": "code",
   "execution_count": 5,
   "metadata": {
    "collapsed": false
   },
   "outputs": [
    {
     "name": "stdout",
     "output_type": "stream",
     "text": [
      "请输入一个正整数，以回车结束。3\n",
      "请输入一个正整数，以回车键结束。2\n",
      "请输入一个正整数，以回车键结束。1\n",
      "请输入一个正整数，以回车键结束。2\n"
     ]
    }
   ],
   "source": [
    "n=int(input('请输入一个正整数，以回车结束。'))\n",
    "i=0\n",
    "while i<n:\n",
    "    m=int(input(\"请输入一个正整数，以回车键结束。\"))\n",
    "    i=i+1"
   ]
  },
  {
   "cell_type": "code",
   "execution_count": 12,
   "metadata": {
    "collapsed": false
   },
   "outputs": [
    {
     "name": "stdout",
     "output_type": "stream",
     "text": [
      "请输入一个正整数，以回车结束。2\n",
      "请输入一个正整数，以回车结束。1\n",
      "1\n"
     ]
    }
   ],
   "source": [
    "int(input('请输入一个正整数，以回车结束。'))\n",
    "i=0\n",
    "sum=1\n",
    "total=0\n",
    "while sum<m and m*m>sum:\n",
    "    m=int(input('请输入一个正整数，以回车结束。'))\n",
    "    i=i+1\n",
    "    total=total+m\n",
    "    sum=sum*m\n",
    "print(m)\n",
    "    \n",
    "    "
   ]
  }
 ],
 "metadata": {
  "kernelspec": {
   "display_name": "Python 3",
   "language": "python",
   "name": "python3"
  },
  "language_info": {
   "codemirror_mode": {
    "name": "ipython",
    "version": 3
   },
   "file_extension": ".py",
   "mimetype": "text/x-python",
   "name": "python",
   "nbconvert_exporter": "python",
   "pygments_lexer": "ipython3",
   "version": "3.6.0"
  }
 },
 "nbformat": 4,
 "nbformat_minor": 2
}

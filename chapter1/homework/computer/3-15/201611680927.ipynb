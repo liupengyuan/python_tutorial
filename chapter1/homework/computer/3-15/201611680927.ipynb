{
 "cells": [
  {
   "cell_type": "code",
   "execution_count": 2,
   "metadata": {
    "collapsed": false,
    "deletable": true,
    "editable": true
   },
   "outputs": [
    {
     "name": "stdout",
     "output_type": "stream",
     "text": [
      "请输入所求数字数目：5\n",
      "请输入所求数字1\n",
      "请输入所求数字2\n",
      "请输入所求数字3\n",
      "请输入所求数字4\n",
      "请输入所求数字5\n",
      "15\n"
     ]
    }
   ],
   "source": [
    "n=int(input('请输入所求数字数目：'))\n",
    "i=0\n",
    "total=0\n",
    "while i<n:\n",
    "    m=int(input('请输入所求数字'))\n",
    "    total=total+m\n",
    "    i=i+1\n",
    "print(total)"
   ]
  },
  {
   "cell_type": "code",
   "execution_count": 3,
   "metadata": {
    "collapsed": false,
    "deletable": true,
    "editable": true
   },
   "outputs": [
    {
     "name": "stdout",
     "output_type": "stream",
     "text": [
      "请输入一个整数，输入0来结束程序5\n",
      "请输入一个整数，输入0来结束程序6\n",
      "请输入一个整数，输入0来结束程序8\n",
      "请输入一个整数，输入0来结束程序9\n",
      "请输入一个整数，输入0来结束程序0\n"
     ]
    }
   ],
   "source": [
    "m=int(input('请输入一个整数，输入0来结束程序'))\n",
    "while m!=0:\n",
    "    m=int(input('请输入一个整数，输入0来结束程序'))"
   ]
  },
  {
   "cell_type": "code",
   "execution_count": 3,
   "metadata": {
    "collapsed": false,
    "deletable": true,
    "editable": true
   },
   "outputs": [
    {
     "name": "stdout",
     "output_type": "stream",
     "text": [
      "请输入一个整数，以回车结束2\n",
      "请输入一个整数，以回车结束1\n",
      "请输入一个整数，以回车结束2\n",
      "请输入一个整数，以回车结束4\n",
      "请输入一个整数，以回车结束5\n",
      "请输入一个整数，以回车结束99\n"
     ]
    }
   ],
   "source": [
    "i=0\n",
    "total_add=0\n",
    "total_multi=1\n",
    "while i>=0:\n",
    "    m=int(input('请输入一个整数，以回车结束'))\n",
    "    i=i+1\n",
    "    if m>total_add and m^2>total_multi:\n",
    "        break\n",
    "    total_add=total_add+m\n",
    "    total_multi=total_multi*m"
   ]
  }
 ],
 "metadata": {
  "kernelspec": {
   "display_name": "Python 3",
   "language": "python",
   "name": "python3"
  },
  "language_info": {
   "codemirror_mode": {
    "name": "ipython",
    "version": 3
   },
   "file_extension": ".py",
   "mimetype": "text/x-python",
   "name": "python",
   "nbconvert_exporter": "python",
   "pygments_lexer": "ipython3",
   "version": "3.6.0"
  }
 },
 "nbformat": 4,
 "nbformat_minor": 2
}

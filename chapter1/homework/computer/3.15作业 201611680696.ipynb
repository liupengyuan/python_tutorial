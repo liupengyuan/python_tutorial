{
 "cells": [
  {
   "cell_type": "code",
   "execution_count": 1,
   "metadata": {
    "collapsed": false,
    "deletable": true,
    "editable": true
   },
   "outputs": [
    {
     "name": "stdout",
     "output_type": "stream",
     "text": [
      "100\n",
      "5050\n"
     ]
    }
   ],
   "source": [
    "n=input()\n",
    "i=0\n",
    "n=int(n)\n",
    "total=0\n",
    "while i<n:\n",
    "    i=i+1\n",
    "    total=total+i\n",
    "print(total)"
   ]
  },
  {
   "cell_type": "code",
   "execution_count": 2,
   "metadata": {
    "collapsed": false,
    "deletable": true,
    "editable": true
   },
   "outputs": [
    {
     "name": "stdout",
     "output_type": "stream",
     "text": [
      "请输入一个正整数，以回车结束。100\n",
      "93326215443944152681699238856266700490715968264381621468592963895217599993229915608941463976156518286253697920827223758251185210916864000000000000000000000000\n"
     ]
    }
   ],
   "source": [
    "n=int(input('请输入一个正整数，以回车结束。'))\n",
    "i=0\n",
    "total=1\n",
    "while i<n:\n",
    "    i=i+1\n",
    "    total=total*i\n",
    "print(total)"
   ]
  },
  {
   "cell_type": "code",
   "execution_count": 3,
   "metadata": {
    "collapsed": false,
    "deletable": true,
    "editable": true
   },
   "outputs": [
    {
     "name": "stdout",
     "output_type": "stream",
     "text": [
      "请输入你的名字，以回车结束。s\n",
      "你好 s\n",
      "请输入一个正整数，以回车结束。1\n",
      "请输入一个正整数，以回车结束。3\n",
      "两个数的和是： 4\n",
      "再见！ s\n"
     ]
    }
   ],
   "source": [
    "name=input('请输入你的名字，以回车结束。')\n",
    "print('你好',name)\n",
    "n=int(input('请输入一个正整数，以回车结束。'))\n",
    "m=int(input('请输入一个正整数，以回车结束。'))\n",
    "print('两个数的和是：',m+n)\n",
    "print('再见！',name)"
   ]
  },
  {
   "cell_type": "code",
   "execution_count": 4,
   "metadata": {
    "collapsed": false,
    "deletable": true,
    "editable": true
   },
   "outputs": [
    {
     "name": "stdout",
     "output_type": "stream",
     "text": [
      "请输入您的正整数的个数：3\n",
      "请输入一个正整数，以回车结束。6\n",
      "请输入一个正整数，以回车结束。3\n",
      "请输入一个正整数，以回车结束。8\n",
      "17\n"
     ]
    }
   ],
   "source": [
    "n=int(input('请输入您的正整数的个数：'))\n",
    "i=0\n",
    "total=0\n",
    "while i<n:\n",
    "    i=i+1\n",
    "    m=int(input('请输入一个正整数，以回车结束。'))\n",
    "    a=m\n",
    "    total=total+a\n",
    "print(total)"
   ]
  },
  {
   "cell_type": "code",
   "execution_count": 5,
   "metadata": {
    "collapsed": false,
    "deletable": true,
    "editable": true
   },
   "outputs": [
    {
     "name": "stdout",
     "output_type": "stream",
     "text": [
      "请输入一个数，输入0时表示结束。2\n",
      "2\n",
      "请输入一个数，输入0时表示结束。4\n",
      "6\n",
      "请输入一个数，输入0时表示结束。6\n",
      "12\n",
      "请输入一个数，输入0时表示结束。0\n",
      "12\n",
      "over\n"
     ]
    }
   ],
   "source": [
    "m=1\n",
    "total=0\n",
    "while m!=0:\n",
    "    n=input('请输入一个数，输入0时表示结束。')\n",
    "    m=int(n)\n",
    "    a=m\n",
    "    total=a+total\n",
    "    print(total)\n",
    "print('over')"
   ]
  },
  {
   "cell_type": "code",
   "execution_count": null,
   "metadata": {
    "collapsed": false,
    "deletable": true,
    "editable": true
   },
   "outputs": [
    {
     "name": "stdout",
     "output_type": "stream",
     "text": [
      "请输入一个数，以回车结束。5\n",
      "5\n",
      "5\n",
      "请输入一个数，以回车结束。2\n",
      "7\n",
      "10\n",
      "请输入一个数，以回车结束。9\n"
     ]
    }
   ],
   "source": [
    "a=1\n",
    "total=0\n",
    "plus=1\n",
    "n=input('请输入一个数，以回车结束。')\n",
    "m=int(n)\n",
    "while a!=0:\n",
    "    k=m\n",
    "    total=k+total\n",
    "    plus=plus*k\n",
    "    print(total)\n",
    "    print(plus)\n",
    "    n=input('请输入一个数，以回车结束。')\n",
    "    m=int(n)\n",
    "    while total<m and plus<(m*m):\n",
    "        a=0\n",
    "print('over')"
   ]
  },
  {
   "cell_type": "code",
   "execution_count": null,
   "metadata": {
    "collapsed": true
   },
   "outputs": [],
   "source": []
  }
 ],
 "metadata": {
  "kernelspec": {
   "display_name": "Python 3",
   "language": "python",
   "name": "python3"
  },
  "language_info": {
   "codemirror_mode": {
    "name": "ipython",
    "version": 3
   },
   "file_extension": ".py",
   "mimetype": "text/x-python",
   "name": "python",
   "nbconvert_exporter": "python",
   "pygments_lexer": "ipython3",
   "version": "3.6.0"
  }
 },
 "nbformat": 4,
 "nbformat_minor": 2
}

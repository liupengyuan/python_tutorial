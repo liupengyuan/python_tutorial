{
 "cells": [
  {
   "cell_type": "code",
   "execution_count": 1,
   "metadata": {
    "collapsed": false
   },
   "outputs": [
    {
     "name": "stdout",
     "output_type": "stream",
     "text": [
      "请输入你的姓名,以回车结束feifie\n",
      "你好 feifie\n",
      "请输入需要求和的整数个数，以回车结束3\n",
      "请输入一个整数，以回车结束1\n",
      "请输入一个整数，以回车结束2\n",
      "请输入一个整数，以回车结束3\n",
      "所有数的和为： 6\n",
      "再见！ feifie\n"
     ]
    }
   ],
   "source": [
    "name=input('请输入你的姓名,以回车结束')\n",
    "print(\"你好\",name)\n",
    "\n",
    "n=int(input('请输入需要求和的整数个数，以回车结束'))\n",
    "i=0\n",
    "sum=0\n",
    "\n",
    "while i<n:\n",
    "    i+=1\n",
    "    m=int(input('请输入一个整数，以回车结束'))\n",
    "    sum+=m\n",
    "print('所有数的和为：',sum)\n",
    "print('再见！',name)"
   ]
  },
  {
   "cell_type": "code",
   "execution_count": 4,
   "metadata": {
    "collapsed": false
   },
   "outputs": [
    {
     "name": "stdout",
     "output_type": "stream",
     "text": [
      "请输入你的姓名,以回车结束feifei\n",
      "你好 feifei\n",
      "请输入一个整数，以回车结束,-1结束数字采集5\n",
      "请输入一个整数，以回车结束，-1结束数字采集4\n",
      "请输入一个整数，以回车结束，-1结束数字采集1\n",
      "请输入一个整数，以回车结束，-1结束数字采集-1\n",
      "所有数的和为： 10\n",
      "再见！ feifei\n"
     ]
    }
   ],
   "source": [
    "name=input('请输入你的姓名,以回车结束')\n",
    "print(\"你好\",name)\n",
    "\n",
    "i=1\n",
    "sum=0\n",
    "m=int(input('请输入一个整数，以回车结束,-1结束数字采集'))\n",
    "\n",
    "while m!=-1:\n",
    "    sum+=m\n",
    "    m=int(input('请输入一个整数，以回车结束，-1结束数字采集'))\n",
    "print('所有数的和为：',sum)\n",
    "print('再见！',name)"
   ]
  },
  {
   "cell_type": "code",
   "execution_count": 12,
   "metadata": {
    "collapsed": false
   },
   "outputs": [
    {
     "name": "stdout",
     "output_type": "stream",
     "text": [
      "请输入你的姓名,以回车结束feifei\n",
      "你好 feifei\n",
      "请输入一个整数，以回车结束1\n"
     ]
    },
    {
     "ename": "TypeError",
     "evalue": "unsupported operand type(s) for &: 'bool' and 'float'",
     "output_type": "error",
     "traceback": [
      "\u001b[1;31m---------------------------------------------------------------------------\u001b[0m",
      "\u001b[1;31mTypeError\u001b[0m                                 Traceback (most recent call last)",
      "\u001b[1;32m<ipython-input-12-1e6c679bcf38>\u001b[0m in \u001b[0;36m<module>\u001b[1;34m()\u001b[0m\n\u001b[0;32m      7\u001b[0m \u001b[0mm\u001b[0m\u001b[1;33m=\u001b[0m\u001b[0mint\u001b[0m\u001b[1;33m(\u001b[0m\u001b[0minput\u001b[0m\u001b[1;33m(\u001b[0m\u001b[1;34m'请输入一个整数，以回车结束'\u001b[0m\u001b[1;33m)\u001b[0m\u001b[1;33m)\u001b[0m\u001b[1;33m\u001b[0m\u001b[0m\n\u001b[0;32m      8\u001b[0m \u001b[1;33m\u001b[0m\u001b[0m\n\u001b[1;32m----> 9\u001b[1;33m \u001b[1;32mwhile\u001b[0m \u001b[1;33m(\u001b[0m\u001b[0mm\u001b[0m\u001b[1;33m<\u001b[0m\u001b[0msum\u001b[0m\u001b[1;33m)\u001b[0m\u001b[1;33m&\u001b[0m\u001b[1;33m(\u001b[0m\u001b[0mm\u001b[0m \u001b[1;33m**\u001b[0m \u001b[1;36m0.5\u001b[0m\u001b[1;33m)\u001b[0m\u001b[1;33m<\u001b[0m\u001b[0mji\u001b[0m\u001b[1;33m:\u001b[0m\u001b[1;33m\u001b[0m\u001b[0m\n\u001b[0m\u001b[0;32m     10\u001b[0m     \u001b[0msum\u001b[0m\u001b[1;33m+=\u001b[0m\u001b[0mm\u001b[0m\u001b[1;33m\u001b[0m\u001b[0m\n\u001b[0;32m     11\u001b[0m     \u001b[0mji\u001b[0m\u001b[1;33m*=\u001b[0m\u001b[0mm\u001b[0m\u001b[1;33m\u001b[0m\u001b[0m\n",
      "\u001b[1;31mTypeError\u001b[0m: unsupported operand type(s) for &: 'bool' and 'float'"
     ]
    }
   ],
   "source": [
    "name=input('请输入你的姓名,以回车结束')\n",
    "print(\"你好\",name)\n",
    "\n",
    "i=1\n",
    "sum=0\n",
    "ji=1\n",
    "m=int(input('请输入一个整数，以回车结束'))\n",
    "\n",
    "while (m<sum)&(m ** 0.5)<ji:\n",
    "    sum+=m\n",
    "    ji*=m\n",
    "    m=int(input('请输入一个整数，以回车结束'))\n",
    "print('所有数的和为：',sum)\n",
    "print('所有数的积为：',ji)\n",
    "print('再见！',name)"
   ]
  }
 ],
 "metadata": {
  "kernelspec": {
   "display_name": "Python 3",
   "language": "python",
   "name": "python3"
  },
  "language_info": {
   "codemirror_mode": {
    "name": "ipython",
    "version": 3
   },
   "file_extension": ".py",
   "mimetype": "text/x-python",
   "name": "python",
   "nbconvert_exporter": "python",
   "pygments_lexer": "ipython3",
   "version": "3.6.0"
  }
 },
 "nbformat": 4,
 "nbformat_minor": 2
}

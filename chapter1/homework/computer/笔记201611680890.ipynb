{
 "cells": [
  {
   "cell_type": "markdown",
   "metadata": {
    "collapsed": true,
    "deletable": true,
    "editable": true
   },
   "source": [
    "# 笔记201611680890"
   ]
  },
  {
   "cell_type": "markdown",
   "metadata": {},
   "source": [
    " "
   ]
  },
  {
   "cell_type": "markdown",
   "metadata": {},
   "source": [
    "1.对Python，Jupyter Notebook,Github的安装、初步认识及简单操作"
   ]
  },
  {
   "cell_type": "markdown",
   "metadata": {},
   "source": [
    "2.使用notebook的Markdown模式进行操作"
   ]
  },
  {
   "cell_type": "markdown",
   "metadata": {},
   "source": [
    "## 基本语法"
   ]
  },
  {
   "cell_type": "markdown",
   "metadata": {},
   "source": [
    " * **粗体文字**"
   ]
  },
  {
   "cell_type": "markdown",
   "metadata": {},
   "source": [
    " * *斜体*"
   ]
  },
  {
   "cell_type": "markdown",
   "metadata": {},
   "source": [
    " * ~~删除线~~"
   ]
  },
  {
   "cell_type": "markdown",
   "metadata": {},
   "source": [
    " * **粗体_以及_斜体**"
   ]
  }
 ],
 "metadata": {
  "kernelspec": {
   "display_name": "Python 3",
   "language": "python",
   "name": "python3"
  },
  "language_info": {
   "codemirror_mode": {
    "name": "ipython",
    "version": 3
   },
   "file_extension": ".py",
   "mimetype": "text/x-python",
   "name": "python",
   "nbconvert_exporter": "python",
   "pygments_lexer": "ipython3",
   "version": "3.6.0"
  }
 },
 "nbformat": 4,
 "nbformat_minor": 2
}

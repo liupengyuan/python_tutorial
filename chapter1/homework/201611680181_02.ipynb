{
 "cells": [
  {
   "cell_type": "code",
   "execution_count": 4,
   "metadata": {
    "collapsed": false
   },
   "outputs": [
    {
     "name": "stdout",
     "output_type": "stream",
     "text": [
      "请输入一个正整数，作为加数的个数3\n",
      "请输入一个正整数，作为加数，以回车结束5\n",
      "请输入一个正整数，作为加数，以回车结束5\n",
      "请输入一个正整数，作为加数，以回车结束5\n",
      "15\n"
     ]
    }
   ],
   "source": [
    "n=int(input('请输入一个正整数，作为加数的个数'))\n",
    "m=0 \n",
    "total=0\n",
    "while m<n:\n",
    "    m=m+1\n",
    "    i=int(input('请输入一个正整数，作为加数，以回车结束'))\n",
    "    total=total+i\n",
    "print(total)"
   ]
  },
  {
   "cell_type": "code",
   "execution_count": null,
   "metadata": {
    "collapsed": false
   },
   "outputs": [
    {
     "name": "stdout",
     "output_type": "stream",
     "text": [
      "请输入0或2,输入2可继续输入数字，不想输入请输02\n",
      "请输入一个数字,或输入stop停止1\n",
      "1\n"
     ]
    }
   ],
   "source": [
    "m=int(input('请输入0或2,输入2可继续输入数字，不想输入请输0'))\n",
    "n=1\n",
    "while m>n:\n",
    "    i=int(input('请输入一个数字,或输入stop停止'))\n",
    "    print(i)\n",
    "while m<n:\n",
    "    print('end')\n"
   ]
  },
  {
   "cell_type": "code",
   "execution_count": 3,
   "metadata": {
    "collapsed": false
   },
   "outputs": [
    {
     "name": "stdout",
     "output_type": "stream",
     "text": [
      "请输入一个数字1\n",
      "请输入一个数字2\n"
     ]
    }
   ],
   "source": [
    "total=0\n",
    "product=1\n",
    "n=int(input('请输入一个数字'))\n",
    "total=total+n\n",
    "product=product*n\n",
    "while total>=n and product>=n*n:\n",
    "    n=int(input('请输入一个数字'))\n",
    "    total=total+n\n",
    "    product=product*n"
   ]
  }
 ],
 "metadata": {
  "kernelspec": {
   "display_name": "Python 3",
   "language": "python",
   "name": "python3"
  },
  "language_info": {
   "codemirror_mode": {
    "name": "ipython",
    "version": 3
   },
   "file_extension": ".py",
   "mimetype": "text/x-python",
   "name": "python",
   "nbconvert_exporter": "python",
   "pygments_lexer": "ipython3",
   "version": "3.6.0"
  }
 },
 "nbformat": 4,
 "nbformat_minor": 2
}

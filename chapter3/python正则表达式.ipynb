{
 "cells": [
  {
   "cell_type": "markdown",
   "metadata": {},
   "source": [
    "# python正则表达式快速基础教程"
   ]
  },
  {
   "cell_type": "markdown",
   "metadata": {},
   "source": [
    "正则表达式，这个术语不太容易望文生义(没有去考证是如何被翻译为正则表达式的)，其实其英文为Regular Expression，直接翻译就是：有规律的表达式。这个表达式其实就是一个字符序列，反映某种字符规律，用(字符串模式匹配)来处理字符串。很多高级语言均支持利用正则表达式对字符串进行处理的操作。\n",
    "\n",
    "python提供的正则表达式文档可参见：https://docs.python.org/3/library/re.html"
   ]
  },
  {
   "cell_type": "code",
   "execution_count": 1,
   "metadata": {
    "collapsed": true,
    "scrolled": true
   },
   "outputs": [],
   "source": [
    "import re"
   ]
  },
  {
   "cell_type": "markdown",
   "metadata": {},
   "source": [
    "- 首先引入python正则表达式库re"
   ]
  },
  {
   "cell_type": "markdown",
   "metadata": {},
   "source": [
    "**1. 初识**"
   ]
  },
  {
   "cell_type": "code",
   "execution_count": 4,
   "metadata": {
    "collapsed": true,
    "scrolled": true
   },
   "outputs": [],
   "source": [
    "s = 'Blow low, follow in of which low. lower, lmoww oow aow bow cow 23742937 dow kdiieur998.'\n",
    "p = 'low'"
   ]
  },
  {
   "cell_type": "markdown",
   "metadata": {},
   "source": [
    "- 假设要在字符串s中查找单词`low`，由于该单词的规律就是`low`，因此可将`low`作为一个正则表达式，命名为`p`。"
   ]
  },
  {
   "cell_type": "code",
   "execution_count": 3,
   "metadata": {
    "collapsed": false,
    "scrolled": true
   },
   "outputs": [
    {
     "data": {
      "text/plain": [
       "['low', 'low', 'low', 'low', 'low']"
      ]
     },
     "execution_count": 3,
     "metadata": {},
     "output_type": "execute_result"
    }
   ],
   "source": [
    "m = re.findall(p, s)\n",
    "m"
   ]
  },
  {
   "cell_type": "markdown",
   "metadata": {},
   "source": [
    "- `findall(pattern, string)`是re模块中的函数，会在字符串`string`中将所有匹配正则表达式`pattern`模式的字符串提取出来，并以一个`list`的形式返回。该方法是从左到右进行扫描，所返回的`list`中的每个匹配按照从左到右匹配的顺序进行存放。\n",
    "- 正则表达式`low`能够将所有单词`low`匹配出来，但是也会将`lower`，`Blow`等含有`low`字符串中的`low`也匹配出来。"
   ]
  },
  {
   "cell_type": "code",
   "execution_count": null,
   "metadata": {
    "collapsed": true
   },
   "outputs": [],
   "source": [
    "p = input('请输入字符模式，回车结束！\\n')\n",
    "m = re.findall(p,s)\n",
    "if not m:\n",
    "    print('没有找到匹配字符！')\n",
    "else:\n",
    "    print('成功匹配！')"
   ]
  },
  {
   "cell_type": "markdown",
   "metadata": {},
   "source": [
    "如果不存在可以匹配的字符模式，则返回空列表。可以利用列表是否为空作为分支条件。"
   ]
  },
  {
   "cell_type": "code",
   "execution_count": 4,
   "metadata": {
    "collapsed": false,
    "scrolled": true
   },
   "outputs": [
    {
     "data": {
      "text/plain": [
       "['low', 'low']"
      ]
     },
     "execution_count": 4,
     "metadata": {},
     "output_type": "execute_result"
    }
   ],
   "source": [
    "p = r'\\blow\\b'\n",
    "m = re.findall(p, s)\n",
    "m"
   ]
  },
  {
   "cell_type": "markdown",
   "metadata": {},
   "source": [
    "- `\\b`，即`boundary`，是正则表达式中的一种特殊字符，表示单词的边界。正则表达式`r'\\blow\\b'`就是要单独匹配`low`，该字符串两侧为单词的边界(边界为空格等，但是并不对边界进行匹配)"
   ]
  },
  {
   "cell_type": "code",
   "execution_count": 5,
   "metadata": {
    "collapsed": false,
    "scrolled": true
   },
   "outputs": [
    {
     "data": {
      "text/plain": [
       "['low', 'low', 'low', 'low', 'low', 'mow', 'oow']"
      ]
     },
     "execution_count": 5,
     "metadata": {},
     "output_type": "execute_result"
    }
   ],
   "source": [
    "p = r'[lmo]ow'\n",
    "m = re.findall(p, s)\n",
    "m"
   ]
  },
  {
   "cell_type": "markdown",
   "metadata": {},
   "source": [
    "- `[lmo]`，匹配`lmo`字母中的任何一个"
   ]
  },
  {
   "cell_type": "code",
   "execution_count": 6,
   "metadata": {
    "collapsed": false,
    "scrolled": true
   },
   "outputs": [
    {
     "data": {
      "text/plain": [
       "['aow', 'bow', 'cow', 'dow']"
      ]
     },
     "execution_count": 6,
     "metadata": {},
     "output_type": "execute_result"
    }
   ],
   "source": [
    "p = r'[a-d]ow'\n",
    "m = re.findall(p, s)\n",
    "m"
   ]
  },
  {
   "cell_type": "markdown",
   "metadata": {},
   "source": [
    "- `[a-d]`，匹配`abcd`字母中的任何一个"
   ]
  },
  {
   "cell_type": "code",
   "execution_count": 7,
   "metadata": {
    "collapsed": false,
    "scrolled": true
   },
   "outputs": [
    {
     "data": {
      "text/plain": [
       "['2', '3', '7', '4', '2', '9', '3', '7', '9', '9', '8']"
      ]
     },
     "execution_count": 7,
     "metadata": {},
     "output_type": "execute_result"
    }
   ],
   "source": [
    "p = r'\\d'\n",
    "m = re.findall(p, s)\n",
    "m"
   ]
  },
  {
   "cell_type": "markdown",
   "metadata": {},
   "source": [
    "- `\\d`，即digit，表示数字，\\d表示数字（一个数字字符）"
   ]
  },
  {
   "cell_type": "code",
   "execution_count": 8,
   "metadata": {
    "collapsed": false,
    "scrolled": true
   },
   "outputs": [
    {
     "data": {
      "text/plain": [
       "['23742937', '998']"
      ]
     },
     "execution_count": 8,
     "metadata": {},
     "output_type": "execute_result"
    }
   ],
   "source": [
    "p = r'\\d+'\n",
    "m = re.findall(p, s)\n",
    "m"
   ]
  },
  {
   "cell_type": "markdown",
   "metadata": {},
   "source": [
    "- `+`，表示一个或者重复多个对象，对象为`+`前面指定的模式\n",
    "- 因此`\\d+`可以匹配长度至少为1的任意正整数字符。"
   ]
  },
  {
   "cell_type": "markdown",
   "metadata": {},
   "source": [
    "**2. 基本匹配与实例**"
   ]
  },
  {
   "cell_type": "markdown",
   "metadata": {},
   "source": [
    "字符模式|匹配模式内容|等价于\n",
    "----|---|--\n",
    "[a-d]|One character of: a, b, c, d|[abcd]\n",
    "[^a-d]|One character except: a, b, c, d|[^abcd]\n",
    "abc丨def|abc or def|\n",
    "\\d|One digit|[0-9]\n",
    "\\D|One non-digit|[^0-9]\n",
    "\\s|One whitespace|[ \\t\\n\\r\\f\\v]\n",
    "\\S|One non-whitespace|[^ \\t\\n\\r\\f\\v]\n",
    "\\w|One word character|[a-zA-Z0-9_]\n",
    "\\W|One non-word character|[^a-zA-Z0-9_]\n",
    ".|Any character (except newline)|[^\\n]"
   ]
  },
  {
   "cell_type": "markdown",
   "metadata": {},
   "source": [
    "固定点标记|匹配模式内容\n",
    "----|---\n",
    "^|Start of the string\n",
    "$|End of the string\n",
    "\\b|Boundary between word and non-word characters"
   ]
  },
  {
   "cell_type": "markdown",
   "metadata": {},
   "source": [
    "数量词|匹配模式内容\n",
    "----|---\n",
    "{5}|Match expression exactly 5 times\n",
    "{2,5}|Match expression 2 to 5 times\n",
    "{2,}|Match expression 2 or more times\n",
    "{,5}|Match expression 0 to 5 times\n",
    "*|Match expression 0 or more times\n",
    "{,}|Match expression 0 or more times\n",
    "?|Match expression 0 or 1 times\n",
    "{0,1}|Match expression 0 or 1 times\n",
    "+|Match expression 1 or more times\n",
    "{1,}|Match expression 1 or more times"
   ]
  },
  {
   "cell_type": "markdown",
   "metadata": {},
   "source": [
    "字符转义|转义匹配内容\n",
    "----|---\n",
    "\\\\.|. character\n",
    "\\\\\\|\\ character\n",
    "\\\\*|* character\n",
    "\\\\+|+ character\n",
    "\\\\?|? character\n",
    "\\\\{|{ character\n",
    "\\\\)|) character\n",
    "\\\\[|[ character"
   ]
  },
  {
   "cell_type": "code",
   "execution_count": 9,
   "metadata": {
    "collapsed": false,
    "scrolled": true
   },
   "outputs": [
    {
     "data": {
      "text/plain": [
       "['010-66677788', '02166697788', '0451-22882828']"
      ]
     },
     "execution_count": 9,
     "metadata": {},
     "output_type": "execute_result"
    }
   ],
   "source": [
    "m = re.findall(r'\\d{3,4}-?\\d{8}', '010-66677788,02166697788, 0451-22882828')\n",
    "m"
   ]
  },
  {
   "cell_type": "markdown",
   "metadata": {},
   "source": [
    "- 匹配电话号码，区号可以是3或者4位，号码为8位，中间可以有`-`或者没有。"
   ]
  },
  {
   "cell_type": "code",
   "execution_count": 10,
   "metadata": {
    "collapsed": false,
    "scrolled": true
   },
   "outputs": [
    {
     "data": {
      "text/plain": [
       "['测', '试', '汉', '字', '测', '试', '可', '以']"
      ]
     },
     "execution_count": 10,
     "metadata": {},
     "output_type": "execute_result"
    }
   ],
   "source": [
    "m = re.findall(r'[\\u4e00-\\u9fa5]', '测试 汉 字，abc，测试xia，可以')\n",
    "m"
   ]
  },
  {
   "cell_type": "markdown",
   "metadata": {},
   "source": [
    "- 匹配汉字"
   ]
  },
  {
   "cell_type": "markdown",
   "metadata": {},
   "source": [
    "- 几个组合实例\n",
    "\n",
    "正则表达式|匹配内容\n",
    "----|---\n",
    "[A-Za-z0-9]|匹配英文和数字\n",
    "[\\u4E00-\\u9FA5A-Za-z0-9_]|中文英文和数字及下划线\n",
    "^[a-zA-Z][a-zA-Z0-9_]{4,15}$`|合法账号，长度在5-16个字符之间，只能用字母数字下划线，且第一个位置必须为字母"
   ]
  },
  {
   "cell_type": "markdown",
   "metadata": {},
   "source": [
    "**3. 进阶**"
   ]
  },
  {
   "cell_type": "markdown",
   "metadata": {},
   "source": [
    "**3.1 python正则表达式常用函数**\n",
    "\n",
    "函数|功能|用法\n",
    "----|---|---\n",
    "re.search|Return a match object if pattern found in string|re.search(r'[pat]tern', 'string')\n",
    "re.finditer|Return an iterable of match objects (one for each match)|re.finditer(r'[pat]tern', 'string')\n",
    "re.findall|Return a list of all matched strings (different when capture groups)|re.findall(r'[pat]tern', 'string')\n",
    "re.split|Split string by regex delimeter & return string list|re.split(r'[ -]', 'st-ri ng')\n",
    "re.compile|Compile a regular expression pattern for later use|re.compile(r'[pat]tern')\n",
    "re.sub|Replaces all occurrences of the RE pattern in string with repl, substituting all occurrences unless max provided. This method returns modified string|re.sub(r'[pat]tern', repl, 'string')"
   ]
  },
  {
   "cell_type": "code",
   "execution_count": 43,
   "metadata": {
    "collapsed": false,
    "scrolled": true
   },
   "outputs": [
    {
     "data": {
      "text/plain": [
       "<_sre.SRE_Match object; span=(0, 12), match='010-66677788'>"
      ]
     },
     "execution_count": 43,
     "metadata": {},
     "output_type": "execute_result"
    }
   ],
   "source": [
    "m = re.search(r'\\d{3,4}-?\\d{8}', '010-66677788,02166697788, 0451-22882828')\n",
    "m"
   ]
  },
  {
   "cell_type": "code",
   "execution_count": 12,
   "metadata": {
    "collapsed": false,
    "scrolled": true
   },
   "outputs": [
    {
     "data": {
      "text/plain": [
       "'010-66677788'"
      ]
     },
     "execution_count": 12,
     "metadata": {},
     "output_type": "execute_result"
    }
   ],
   "source": [
    "m.group()"
   ]
  },
  {
   "cell_type": "markdown",
   "metadata": {},
   "source": [
    "- search总是返回第一个成功匹配，如果没有匹配，则返回None\n",
    "- 利用group()函数，取出match对象中的内容"
   ]
  },
  {
   "cell_type": "code",
   "execution_count": 15,
   "metadata": {
    "collapsed": false
   },
   "outputs": [
    {
     "data": {
      "text/plain": [
       "(0, 12)"
      ]
     },
     "execution_count": 15,
     "metadata": {},
     "output_type": "execute_result"
    }
   ],
   "source": [
    "m.span()"
   ]
  },
  {
   "cell_type": "markdown",
   "metadata": {},
   "source": [
    "span()函数返回匹配字符串的起始和结束位置"
   ]
  },
  {
   "cell_type": "code",
   "execution_count": 76,
   "metadata": {
    "collapsed": false,
    "scrolled": true
   },
   "outputs": [
    {
     "name": "stdout",
     "output_type": "stream",
     "text": [
      "010-66677788\n",
      "02166697788\n",
      "0451-22882828\n"
     ]
    }
   ],
   "source": [
    "ms = re.finditer(r'\\d{3,4}-?\\d{8}', '010-66677788,02166697788, 0451-22882828')\n",
    "for m in ms:\n",
    "    print(m.group())"
   ]
  },
  {
   "cell_type": "markdown",
   "metadata": {},
   "source": [
    "- finditer()是返回所有匹配，放置在一个元组中，每个匹配都是类似search()函数所返回的match对象，内含每个匹配的详细信息\n",
    "- 可以对该元组进行迭代，取得每个match对象，进一步可以取得其详细信息\n",
    "- 与findall()的区别是，findall()只取得所有匹配字符串，返回包含所有匹配字符串的列表，不关心匹配字符串在原字符串中的各项信息。"
   ]
  },
  {
   "cell_type": "code",
   "execution_count": 14,
   "metadata": {
    "collapsed": false,
    "scrolled": true
   },
   "outputs": [
    {
     "data": {
      "text/plain": [
       "['010', '66677788', '02166697788', '0451', '22882828']"
      ]
     },
     "execution_count": 14,
     "metadata": {},
     "output_type": "execute_result"
    }
   ],
   "source": [
    "words = re.split(r'[,-]', '010-66677788,02166697788,0451-22882828')\n",
    "words"
   ]
  },
  {
   "cell_type": "markdown",
   "metadata": {},
   "source": [
    "正则下的split()，是一般split()函数的增强版本，可以对字符串以正则表达式匹配的字符进行切割，返回切割后的列表。"
   ]
  },
  {
   "cell_type": "code",
   "execution_count": 9,
   "metadata": {
    "collapsed": false,
    "scrolled": true
   },
   "outputs": [
    {
     "data": {
      "text/plain": [
       "['010', '66677788', '02166697788', '0451', '22882828']"
      ]
     },
     "execution_count": 9,
     "metadata": {},
     "output_type": "execute_result"
    }
   ],
   "source": [
    "p = re.compile(r'[,-]')\n",
    "p.split('010-66677788,02166697788,0451-22882828')"
   ]
  },
  {
   "cell_type": "markdown",
   "metadata": {},
   "source": [
    "- 利用compile()函数将正则表达式编译，如以后多次运行，可加快程序运行速度"
   ]
  },
  {
   "cell_type": "markdown",
   "metadata": {},
   "source": [
    "**3.2 分组与引用**\n",
    "\n",
    "Group Type|Expression\n",
    "----|---\n",
    "Capturing|**(** ... **)**\n",
    "Non-capturing|**(?:** ... **)**\n",
    "Capturing group named Y|**(?P&lt;Y&gt;** ... **)**\n",
    "Match the Y'th captured group|\\Y\n",
    "Match the named group Y|(?P=Y)"
   ]
  },
  {
   "cell_type": "markdown",
   "metadata": {},
   "source": [
    "- (...) 将括号中的部分，放在一起，视为一组，即group。以该group来匹配符合条件的字符串。\n",
    "- group，可被同一正则表达式的后续，所引用，引用可以利用其位置，或者利用其名称，可称为反向引用。"
   ]
  },
  {
   "cell_type": "code",
   "execution_count": 65,
   "metadata": {
    "collapsed": false,
    "scrolled": true
   },
   "outputs": [
    {
     "data": {
      "text/plain": [
       "'ababababab'"
      ]
     },
     "execution_count": 65,
     "metadata": {},
     "output_type": "execute_result"
    }
   ],
   "source": [
    "p = re.compile('(ab)+')\n",
    "p.search('ababababab').group()"
   ]
  },
  {
   "cell_type": "code",
   "execution_count": 17,
   "metadata": {
    "collapsed": false,
    "scrolled": true
   },
   "outputs": [
    {
     "data": {
      "text/plain": [
       "('ab',)"
      ]
     },
     "execution_count": 17,
     "metadata": {},
     "output_type": "execute_result"
    }
   ],
   "source": [
    "p.search('ababababab').groups()"
   ]
  },
  {
   "cell_type": "markdown",
   "metadata": {},
   "source": [
    "- 有分组的情况，用groups()函数取出匹配的所有分组"
   ]
  },
  {
   "cell_type": "code",
   "execution_count": 18,
   "metadata": {
    "collapsed": false,
    "scrolled": true
   },
   "outputs": [
    {
     "data": {
      "text/plain": [
       "'1-2-3'"
      ]
     },
     "execution_count": 18,
     "metadata": {},
     "output_type": "execute_result"
    }
   ],
   "source": [
    "p=re.compile('(\\d)-(\\d)-(\\d)')\n",
    "p.search('1-2-3').group()"
   ]
  },
  {
   "cell_type": "code",
   "execution_count": 19,
   "metadata": {
    "collapsed": false,
    "scrolled": true
   },
   "outputs": [
    {
     "data": {
      "text/plain": [
       "('1', '2', '3')"
      ]
     },
     "execution_count": 19,
     "metadata": {},
     "output_type": "execute_result"
    }
   ],
   "source": [
    "p.search('1-2-3').groups()"
   ]
  },
  {
   "cell_type": "code",
   "execution_count": 20,
   "metadata": {
    "collapsed": false,
    "scrolled": true
   },
   "outputs": [
    {
     "data": {
      "text/plain": [
       "['眼睛', '深情']"
      ]
     },
     "execution_count": 20,
     "metadata": {},
     "output_type": "execute_result"
    }
   ],
   "source": [
    "s = '喜欢/v 你/x 的/u 眼睛/n 和/u 深情/n 。/w'\n",
    "p = re.compile(r'(\\S+)/n')\n",
    "m = p.findall(s)\n",
    "m"
   ]
  },
  {
   "cell_type": "markdown",
   "metadata": {},
   "source": [
    "- 按出现顺序捕获名词(/n)。"
   ]
  },
  {
   "cell_type": "code",
   "execution_count": 21,
   "metadata": {
    "collapsed": false,
    "scrolled": true
   },
   "outputs": [
    {
     "data": {
      "text/plain": [
       "'1-2-3'"
      ]
     },
     "execution_count": 21,
     "metadata": {},
     "output_type": "execute_result"
    }
   ],
   "source": [
    "p=re.compile('(?P<first>\\d)-(\\d)-(\\d)')\n",
    "p.search('1-2-3').group()"
   ]
  },
  {
   "cell_type": "markdown",
   "metadata": {},
   "source": [
    "- 在分组内，可通过`?P<name>`的形式，给该分组命名，其中name是给该分组的命名"
   ]
  },
  {
   "cell_type": "code",
   "execution_count": 22,
   "metadata": {
    "collapsed": false,
    "scrolled": true
   },
   "outputs": [
    {
     "data": {
      "text/plain": [
       "'1'"
      ]
     },
     "execution_count": 22,
     "metadata": {},
     "output_type": "execute_result"
    }
   ],
   "source": [
    "p.search('1-2-3').group('first')"
   ]
  },
  {
   "cell_type": "markdown",
   "metadata": {},
   "source": [
    "- 可利用`group('name')`，直接通过组名来获取匹配的该分组"
   ]
  },
  {
   "cell_type": "code",
   "execution_count": 23,
   "metadata": {
    "collapsed": false,
    "scrolled": true
   },
   "outputs": [
    {
     "data": {
      "text/plain": [
       "[('13', 'Tom'), ('18', 'John')]"
      ]
     },
     "execution_count": 23,
     "metadata": {},
     "output_type": "execute_result"
    }
   ],
   "source": [
    "s = 'age:13,name:Tom;age:18,name:John'\n",
    "p = re.compile(r'age:(\\d+),name:(\\w+)')\n",
    "m = p.findall(s)\n",
    "m"
   ]
  },
  {
   "cell_type": "code",
   "execution_count": 24,
   "metadata": {
    "collapsed": false,
    "scrolled": true
   },
   "outputs": [
    {
     "data": {
      "text/plain": [
       "['Tom', 'John']"
      ]
     },
     "execution_count": 24,
     "metadata": {},
     "output_type": "execute_result"
    }
   ],
   "source": [
    "p = re.compile(r'age:(?:\\d+),name:(\\w+)')\n",
    "m = p.findall(s)\n",
    "m"
   ]
  },
  {
   "cell_type": "markdown",
   "metadata": {},
   "source": [
    "- `(?:\\d+)`，匹配该模式，但不捕获该分组。因此没有捕获该分组的数字"
   ]
  },
  {
   "cell_type": "code",
   "execution_count": 25,
   "metadata": {
    "collapsed": false,
    "scrolled": true
   },
   "outputs": [
    {
     "name": "stdout",
     "output_type": "stream",
     "text": [
      "The match is bb,the capture group is ('b',)\n"
     ]
    }
   ],
   "source": [
    "s = 'abcdebbcde'\n",
    "p = re.compile(r'([ab])\\1')\n",
    "m = p.search(s)\n",
    "print('The match is {},the capture group is {}'.format(m.group(), m.groups()))"
   ]
  },
  {
   "cell_type": "markdown",
   "metadata": {
    "collapsed": true
   },
   "source": [
    "- 此即为反向引用\n",
    "- 当分组`([ab])`内的`a`或`b`匹配成功后，将开始匹配`\\1`，`\\1`将匹配前面分组成功的字符。因此该正则表达式将匹配`aa`或`bb`。\n",
    "- 类似地，r'([a-z])\\1{3}'，该正则将匹配连续的4个英文小写字母。"
   ]
  },
  {
   "cell_type": "code",
   "execution_count": 26,
   "metadata": {
    "collapsed": false,
    "scrolled": true
   },
   "outputs": [
    {
     "data": {
      "text/plain": [
       "'12'"
      ]
     },
     "execution_count": 26,
     "metadata": {},
     "output_type": "execute_result"
    }
   ],
   "source": [
    "s = '12,56,89,123,56,98, 12'\n",
    "p = re.compile(r'\\b(\\d+)\\b.*\\b\\1\\b')\n",
    "m = p.search(s)\n",
    "m.group(1)"
   ]
  },
  {
   "cell_type": "markdown",
   "metadata": {},
   "source": [
    "- 利用反向引用来判断是否含有重复数字，可提取第一个重复的数字。\n",
    "- 其中`\\1`是引用前一个分组的匹配。"
   ]
  },
  {
   "cell_type": "code",
   "execution_count": 27,
   "metadata": {
    "collapsed": false,
    "scrolled": true
   },
   "outputs": [
    {
     "data": {
      "text/plain": [
       "'12'"
      ]
     },
     "execution_count": 27,
     "metadata": {},
     "output_type": "execute_result"
    }
   ],
   "source": [
    "s = '12,56,89,123,56,98, 12'\n",
    "p = re.compile(r'\\b(?P<name>\\d+)\\b.*\\b(?P=name)\\b')\n",
    "m = p.search(s)\n",
    "m.group(1)"
   ]
  },
  {
   "cell_type": "markdown",
   "metadata": {},
   "source": [
    "- 与前一个类似，但是利用了带分组名称的反向引用。"
   ]
  },
  {
   "cell_type": "markdown",
   "metadata": {},
   "source": [
    "**3.3 贪婪与懒惰**"
   ]
  },
  {
   "cell_type": "markdown",
   "metadata": {},
   "source": [
    "数量词|匹配模式内容\n",
    "----|---\n",
    "{2,5}?|Match 2 to 5 times (less preferred)\n",
    "{2,}?|Match 2 or more times (less preferred)\n",
    "{,5}?|Match 0 to 5 times (less preferred)\n",
    "*?|Match 0 or more times (less preferred)\n",
    "{,}?|Match 0 or more times (less preferred)\n",
    "??|Match 0 or 1 times (less preferred)\n",
    "{0,1}?|Match 0 or 1 times (less preferred)\n",
    "+?|Match 1 or more times (less preferred)\n",
    "{1,}?|Match 1 or more times (less preferred)"
   ]
  },
  {
   "cell_type": "markdown",
   "metadata": {},
   "source": [
    "- 当正则表达式中包含能接受重复的限定符时，通常的行为是（在使整个表达式能得到匹配的前提下）匹配尽可能多的字符。(贪婪匹配)\n",
    "- 而懒惰匹配，是匹配尽可能少的字符。方法是在重复的后面加一个`?`。"
   ]
  },
  {
   "cell_type": "code",
   "execution_count": 2,
   "metadata": {
    "collapsed": false
   },
   "outputs": [
    {
     "data": {
      "text/plain": [
       "'<python>perl>'"
      ]
     },
     "execution_count": 2,
     "metadata": {},
     "output_type": "execute_result"
    }
   ],
   "source": [
    "p = re.compile('<.*>')\n",
    "p.search('<python>perl>').group()"
   ]
  },
  {
   "cell_type": "markdown",
   "metadata": {},
   "source": [
    "- 贪婪匹配（默认）将匹配尽可能多的重复"
   ]
  },
  {
   "cell_type": "code",
   "execution_count": 5,
   "metadata": {
    "collapsed": false
   },
   "outputs": [
    {
     "data": {
      "text/plain": [
       "'<python>'"
      ]
     },
     "execution_count": 5,
     "metadata": {},
     "output_type": "execute_result"
    }
   ],
   "source": [
    "p = re.compile('<.*?>')\n",
    "p.search('<python>perl>').group()"
   ]
  },
  {
   "cell_type": "markdown",
   "metadata": {},
   "source": [
    "- 懒惰匹配(非贪婪匹配)，将匹配尽可能少的重复"
   ]
  },
  {
   "cell_type": "code",
   "execution_count": 28,
   "metadata": {
    "collapsed": false,
    "scrolled": true
   },
   "outputs": [
    {
     "data": {
      "text/plain": [
       "'ababababab'"
      ]
     },
     "execution_count": 28,
     "metadata": {},
     "output_type": "execute_result"
    }
   ],
   "source": [
    "p = re.compile('(ab)+')\n",
    "p.search('ababababab').group()"
   ]
  },
  {
   "cell_type": "code",
   "execution_count": 29,
   "metadata": {
    "collapsed": false,
    "scrolled": true
   },
   "outputs": [
    {
     "data": {
      "text/plain": [
       "'ab'"
      ]
     },
     "execution_count": 29,
     "metadata": {},
     "output_type": "execute_result"
    }
   ],
   "source": [
    "p = re.compile('(ab)+?')\n",
    "p.search('ababababab').group()"
   ]
  },
  {
   "cell_type": "markdown",
   "metadata": {},
   "source": [
    "**4. 文本处理中的一些应用实例**"
   ]
  },
  {
   "cell_type": "markdown",
   "metadata": {},
   "source": [
    "**4.1 提取文本中的符合某种模式的字串并进行处理后替换**"
   ]
  },
  {
   "cell_type": "code",
   "execution_count": 64,
   "metadata": {
    "collapsed": true
   },
   "outputs": [],
   "source": [
    "with open(r'test_re.txt', encoding = 'utf-8') as f:\n",
    "    text = f.read()"
   ]
  },
  {
   "cell_type": "markdown",
   "metadata": {},
   "source": [
    "读入文本文件"
   ]
  },
  {
   "cell_type": "code",
   "execution_count": 54,
   "metadata": {
    "collapsed": false
   },
   "outputs": [
    {
     "data": {
      "text/plain": [
       "['一九九八年/t 新年/t',\n",
       " '一九九七年/t 十二月/t',\n",
       " '１２月/t ３１日/t',\n",
       " '１９９８年/t 新年/t',\n",
       " '１９９９年/t １２月/t',\n",
       " '１２月/t ３１日/t',\n",
       " '１２月/t ３１日/t',\n",
       " '十二月/t 三十一日/t',\n",
       " '今天/t 上午/t',\n",
       " '上午/t 九时/t']"
      ]
     },
     "execution_count": 54,
     "metadata": {},
     "output_type": "execute_result"
    }
   ],
   "source": [
    "p = '[\\S]+/t[^/]+/t'\n",
    "lines = re.findall(p, text)\n",
    "lines[:10]"
   ]
  },
  {
   "cell_type": "markdown",
   "metadata": {},
   "source": [
    "- 提取词性标记模式为连续2个时间标记t的子串\n",
    "- 模式可构造为：1或多个非空白字符 /t 一或者多个不含`/`的字符 /t\n",
    "- 利用findall()函数，返回所有符合模式的子串，并查看前10个子串"
   ]
  },
  {
   "cell_type": "code",
   "execution_count": 42,
   "metadata": {
    "collapsed": false
   },
   "outputs": [
    {
     "data": {
      "text/plain": [
       "['一九九八年/t 新年/t ',\n",
       " '一九九七年/t 十二月/t 三十一日/t ',\n",
       " '１２月/t ３１日/t ',\n",
       " '１９９８年/t 新年/t ',\n",
       " '１９９９年/t １２月/t ',\n",
       " '１２月/t ３１日/t ',\n",
       " '１２月/t ３１日/t ',\n",
       " '十二月/t 三十一日/t ',\n",
       " '今天/t 上午/t ',\n",
       " '上午/t 九时/t 二十分/t ']"
      ]
     },
     "execution_count": 42,
     "metadata": {},
     "output_type": "execute_result"
    }
   ],
   "source": [
    "import re\n",
    "p = '((?:[\\S]+/t\\s){2,})'\n",
    "matchs = re.findall(p, text)\n",
    "matchs[:10]"
   ]
  },
  {
   "cell_type": "markdown",
   "metadata": {},
   "source": [
    "- 捕获连续两个以上的时间标记词汇\n",
    "- findall()函数在应用分组时，将捕获所有分组，不是捕获符合模式的字符串，因此这里将整体作为一个分组\n",
    "- `?:`表示不捕获该分组内容"
   ]
  },
  {
   "cell_type": "code",
   "execution_count": 69,
   "metadata": {
    "collapsed": false
   },
   "outputs": [
    {
     "data": {
      "text/plain": [
       "['19980101-01-001-001/m 迈向/v 充满/v 希望/n 的/u 新/a 世纪/n ——/w 一九九八年新年/t 讲话/n （/w 附/v 图片/n １/m 张/q ）/w ',\n",
       " '19980101-01-001-002/m 中共中央/nt 总书记/n 、/w 国家/n 主席/n 江/nr 泽民/nr ',\n",
       " '19980101-01-001-003/m （/w 一九九七年十二月三十一日/t ）/w ',\n",
       " '19980101-01-001-004/m １２月３１日/t ，/w 中共中央/nt 总书记/n 、/w 国家/n 主席/n 江/nr 泽民/nr 发表/v １９９８年新年/t 讲话/n 《/w 迈向/v 充满/v 希望/n 的/u 新/a 世纪/n 》/w 。/w （/w 新华社/nt 记者/n 兰/nr 红光/nr 摄/Vg ）/w ',\n",
       " '19980101-01-001-005/m 同胞/n 们/k 、/w 朋友/n 们/k 、/w 女士/n 们/k 、/w 先生/n 们/k ：/w ']"
      ]
     },
     "execution_count": 69,
     "metadata": {},
     "output_type": "execute_result"
    }
   ],
   "source": [
    "def express(line):\n",
    "    return line.group().replace('/t ', '')+'/t '\n",
    "\n",
    "txt = re.sub(p, express, text)\n",
    "txt.split('\\n')[:5]"
   ]
  },
  {
   "cell_type": "markdown",
   "metadata": {},
   "source": [
    "- express()为一个自定义函数，参数为match对象，可以将match对象中所有的'/t'替换为空，并在结尾加上'/t '\n",
    "- re.sub()函数，第二个参数可以是函数，当其为函数时，会将pattern每一次匹配到的结果作为match对象，传参给该函数，接受该函数的返回值来进行字符串替换\n",
    "- 本例中将所有连续的时间标记词汇合成为一个"
   ]
  },
  {
   "cell_type": "markdown",
   "metadata": {},
   "source": [
    "**4.2 网页文件(HTML)处理示例**"
   ]
  },
  {
   "cell_type": "markdown",
   "metadata": {},
   "source": [
    "## **5. 常用正则表达式（待补充）**"
   ]
  },
  {
   "cell_type": "markdown",
   "metadata": {},
   "source": [
    "**进一步学习可参考官方文档以及《精通正则表达式(第3版)》**"
   ]
  }
 ],
 "metadata": {
  "kernelspec": {
   "display_name": "Python 3",
   "language": "python",
   "name": "python3"
  },
  "language_info": {
   "codemirror_mode": {
    "name": "ipython",
    "version": 3
   },
   "file_extension": ".py",
   "mimetype": "text/x-python",
   "name": "python",
   "nbconvert_exporter": "python",
   "pygments_lexer": "ipython3",
   "version": "3.6.0"
  }
 },
 "nbformat": 4,
 "nbformat_minor": 2
}

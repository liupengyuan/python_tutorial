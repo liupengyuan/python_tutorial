{
 "cells": [
  {
   "cell_type": "code",
   "execution_count": 1,
   "metadata": {
    "collapsed": false,
    "deletable": true,
    "editable": true
   },
   "outputs": [
    {
     "name": "stdout",
     "output_type": "stream",
     "text": [
      "请输入你想计算的整数个数，以回车结束。4\n",
      "计算的整数个数是： 4\n",
      "请输入一个整数，以回车结束。1\n",
      "请输入一个整数，以回车结束。2\n",
      "请输入一个整数，以回车结束。3\n",
      "请输入一个整数，以回车结束。4\n",
      "所有整数的和是： 10\n"
     ]
    }
   ],
   "source": [
    "'''\n",
    "首先根据实践1中姓名的编写方式编写number\n",
    "再根据任意正整数求和的编写方式编写循环\n",
    "'''\n",
    "number=int(input('请输入你想计算的整数个数，以回车结束。'))\n",
    "print('计算的整数个数是：', number)\n",
    "\n",
    "i=0\n",
    "total=0\n",
    "\n",
    "while number>i:\n",
    "    n=int(input('请输入一个整数，以回车结束。'))\n",
    "    i=i+1\n",
    "    total=total+n\n",
    "print('所有整数的和是：', total)"
   ]
  },
  {
   "cell_type": "code",
   "execution_count": 1,
   "metadata": {
    "collapsed": false,
    "deletable": true,
    "editable": true
   },
   "outputs": [
    {
     "name": "stdout",
     "output_type": "stream",
     "text": [
      "你是否想输入数字，请用yes或no回答：yes\n",
      "你的答案是： yes\n",
      "你想输入的数字是：4\n",
      "你是否想继续输入数字，请用yes或no回答：yes\n",
      "你想输入的数字是：5\n",
      "你是否想继续输入数字，请用yes或no回答：no\n",
      "no\n"
     ]
    }
   ],
   "source": [
    "n=input('你是否想输入数字，请用yes或no回答：')\n",
    "print('你的答案是：',n)\n",
    "p=0\n",
    "while n =='yes':\n",
    "    p=int(input('你想输入的数字是：'))\n",
    "    n=input('你是否想继续输入数字，请用yes或no回答：')\n",
    "print(n)"
   ]
  },
  {
   "cell_type": "code",
   "execution_count": 3,
   "metadata": {
    "collapsed": false,
    "deletable": true,
    "editable": true
   },
   "outputs": [
    {
     "name": "stdout",
     "output_type": "stream",
     "text": [
      "你想输入的数字是：1\n",
      "你想输入的数字是：1\n",
      "你想输入的数字是：3\n",
      "所有数字的和是： 5\n",
      "所有数字的积是： 3\n",
      "停止输入数字\n"
     ]
    }
   ],
   "source": [
    "n1=int(input('你想输入的数字是：'))\n",
    "total=n1\n",
    "multi=n1\n",
    "n2=0\n",
    "while total<=n1 or multi<=n1**2:\n",
    "    n2=int(input('你想输入的数字是：'))\n",
    "    total=total+n2\n",
    "    multi=multi*n2\n",
    "print('所有数字的和是：', total)\n",
    "print('所有数字的积是：', multi)\n",
    "print('停止输入数字')"
   ]
  },
  {
   "cell_type": "code",
   "execution_count": null,
   "metadata": {
    "collapsed": false
   },
   "outputs": [],
   "source": []
  },
  {
   "cell_type": "code",
   "execution_count": null,
   "metadata": {
    "collapsed": true
   },
   "outputs": [],
   "source": []
  }
 ],
 "metadata": {
  "kernelspec": {
   "display_name": "Python 3",
   "language": "python",
   "name": "python3"
  },
  "language_info": {
   "codemirror_mode": {
    "name": "ipython",
    "version": 3
   },
   "file_extension": ".py",
   "mimetype": "text/x-python",
   "name": "python",
   "nbconvert_exporter": "python",
   "pygments_lexer": "ipython3",
   "version": "3.6.0"
  }
 },
 "nbformat": 4,
 "nbformat_minor": 2
}

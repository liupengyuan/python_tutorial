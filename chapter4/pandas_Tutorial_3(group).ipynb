{
 "cells": [
  {
   "cell_type": "markdown",
   "metadata": {},
   "source": [
    "# Pandas统计分析入门（3）\n",
    "- 转载注明转自：https://github.com/liupengyuan/\n",
    "- ## 数据分组技术\n",
    "\n",
    "---"
   ]
  },
  {
   "cell_type": "code",
   "execution_count": 161,
   "metadata": {
    "collapsed": true
   },
   "outputs": [],
   "source": [
    "%matplotlib inline\n",
    "from pandas import Series, DataFrame\n",
    "import pandas as pd\n",
    "import numpy as np\n",
    "import matplotlib.pyplot as plt\n",
    "import seaborn as sns"
   ]
  },
  {
   "cell_type": "markdown",
   "metadata": {},
   "source": [
    "## 数据分组技术\n",
    "\n",
    "- 多层索引、数据分组、计算、合并、处理缺失数据、输入输出"
   ]
  },
  {
   "cell_type": "markdown",
   "metadata": {},
   "source": [
    "### 1. 多层索引"
   ]
  },
  {
   "cell_type": "markdown",
   "metadata": {},
   "source": [
    "**1.1 Series多层索引**"
   ]
  },
  {
   "cell_type": "code",
   "execution_count": 162,
   "metadata": {
    "collapsed": false
   },
   "outputs": [
    {
     "data": {
      "text/plain": [
       "a  0   -0.849212\n",
       "   1   -1.117469\n",
       "   2    0.472500\n",
       "b  0   -1.272573\n",
       "   1    0.252942\n",
       "   2    0.360228\n",
       "c  0    0.425634\n",
       "   1   -0.674811\n",
       "d  0    1.335875\n",
       "   1   -0.228149\n",
       "dtype: float64"
      ]
     },
     "execution_count": 162,
     "metadata": {},
     "output_type": "execute_result"
    }
   ],
   "source": [
    "data = Series(np.random.randn(10),index=[['a','a','a','b','b','b','c','c','d','d'],[0,1,2,0,1,2,0,1,0,1]])\n",
    "data"
   ]
  },
  {
   "cell_type": "markdown",
   "metadata": {},
   "source": [
    "- `index`参数中有两个list，其中第一个为外层索引，第二个为内层索引"
   ]
  },
  {
   "cell_type": "code",
   "execution_count": 163,
   "metadata": {
    "collapsed": false
   },
   "outputs": [
    {
     "data": {
      "text/plain": [
       "MultiIndex(levels=[['a', 'b', 'c', 'd'], [0, 1, 2]],\n",
       "           labels=[[0, 0, 0, 1, 1, 1, 2, 2, 3, 3], [0, 1, 2, 0, 1, 2, 0, 1, 0, 1]])"
      ]
     },
     "execution_count": 163,
     "metadata": {},
     "output_type": "execute_result"
    }
   ],
   "source": [
    "data.index"
   ]
  },
  {
   "cell_type": "markdown",
   "metadata": {},
   "source": [
    "- 查看index发现，有两个层次的索引，索引list分别为['a', 'b', 'c', 'd'], [0, 1, 2]，各位置元素对应的索引标签为：[0, 0, 0, 1, 1, 1, 2, 2, 3, 3], [0, 1, 2, 0, 1, 2, 0, 1, 0, 1]，以索引标签在索引list中的位置来记录。"
   ]
  },
  {
   "cell_type": "code",
   "execution_count": 164,
   "metadata": {
    "collapsed": false
   },
   "outputs": [
    {
     "data": {
      "text/plain": [
       "0   -1.272573\n",
       "1    0.252942\n",
       "2    0.360228\n",
       "dtype: float64"
      ]
     },
     "execution_count": 164,
     "metadata": {},
     "output_type": "execute_result"
    }
   ],
   "source": [
    "data['b']"
   ]
  },
  {
   "cell_type": "markdown",
   "metadata": {},
   "source": [
    "- 外层索引进行元素选取"
   ]
  },
  {
   "cell_type": "code",
   "execution_count": 165,
   "metadata": {
    "collapsed": false
   },
   "outputs": [
    {
     "data": {
      "text/plain": [
       "a  0   -0.849212\n",
       "   1   -1.117469\n",
       "   2    0.472500\n",
       "b  0   -1.272573\n",
       "   1    0.252942\n",
       "   2    0.360228\n",
       "c  0    0.425634\n",
       "   1   -0.674811\n",
       "dtype: float64"
      ]
     },
     "execution_count": 165,
     "metadata": {},
     "output_type": "execute_result"
    }
   ],
   "source": [
    "data['a':'c']"
   ]
  },
  {
   "cell_type": "markdown",
   "metadata": {},
   "source": [
    "- 外层标签切片"
   ]
  },
  {
   "cell_type": "code",
   "execution_count": 166,
   "metadata": {
    "collapsed": false
   },
   "outputs": [
    {
     "data": {
      "text/plain": [
       "a  0   -0.849212\n",
       "   1   -1.117469\n",
       "   2    0.472500\n",
       "c  0    0.425634\n",
       "   1   -0.674811\n",
       "dtype: float64"
      ]
     },
     "execution_count": 166,
     "metadata": {},
     "output_type": "execute_result"
    }
   ],
   "source": [
    "data[['a','c']]"
   ]
  },
  {
   "cell_type": "markdown",
   "metadata": {},
   "source": [
    "- 选取外层多个标签"
   ]
  },
  {
   "cell_type": "code",
   "execution_count": 167,
   "metadata": {
    "collapsed": false
   },
   "outputs": [
    {
     "data": {
      "text/plain": [
       "a   -1.117469\n",
       "b    0.252942\n",
       "c   -0.674811\n",
       "d   -0.228149\n",
       "dtype: float64"
      ]
     },
     "execution_count": 167,
     "metadata": {},
     "output_type": "execute_result"
    }
   ],
   "source": [
    "data[:,1]"
   ]
  },
  {
   "cell_type": "markdown",
   "metadata": {},
   "source": [
    "- 选取全部外层索引，且内层索引为1的元素\n",
    "- 返回一个Series"
   ]
  },
  {
   "cell_type": "code",
   "execution_count": 168,
   "metadata": {
    "collapsed": false
   },
   "outputs": [
    {
     "data": {
      "text/plain": [
       "-0.84921151400187134"
      ]
     },
     "execution_count": 168,
     "metadata": {},
     "output_type": "execute_result"
    }
   ],
   "source": [
    "data['a',0]"
   ]
  },
  {
   "cell_type": "markdown",
   "metadata": {},
   "source": [
    "- 选取某外层索引，且内存索引为0的元素"
   ]
  },
  {
   "cell_type": "markdown",
   "metadata": {},
   "source": [
    "- 注意，目前多层索引并不支持形如data['a',:]这种符合逻辑的形式，个人认为可能也是设计缺陷之一"
   ]
  },
  {
   "cell_type": "markdown",
   "metadata": {},
   "source": [
    "** 2.DataFrame多层索引** "
   ]
  },
  {
   "cell_type": "code",
   "execution_count": 169,
   "metadata": {
    "collapsed": false
   },
   "outputs": [
    {
     "data": {
      "text/html": [
       "<div>\n",
       "<table border=\"1\" class=\"dataframe\">\n",
       "  <thead>\n",
       "    <tr>\n",
       "      <th></th>\n",
       "      <th></th>\n",
       "      <th colspan=\"2\" halign=\"left\">beijing</th>\n",
       "      <th>shanghai</th>\n",
       "    </tr>\n",
       "    <tr>\n",
       "      <th></th>\n",
       "      <th></th>\n",
       "      <th>boy</th>\n",
       "      <th>girl</th>\n",
       "      <th>boy</th>\n",
       "    </tr>\n",
       "  </thead>\n",
       "  <tbody>\n",
       "    <tr>\n",
       "      <th rowspan=\"2\" valign=\"top\">a</th>\n",
       "      <th>1</th>\n",
       "      <td>-0.226582</td>\n",
       "      <td>-0.858561</td>\n",
       "      <td>-1.849417</td>\n",
       "    </tr>\n",
       "    <tr>\n",
       "      <th>2</th>\n",
       "      <td>0.653603</td>\n",
       "      <td>-1.096843</td>\n",
       "      <td>-1.113718</td>\n",
       "    </tr>\n",
       "    <tr>\n",
       "      <th rowspan=\"2\" valign=\"top\">b</th>\n",
       "      <th>1</th>\n",
       "      <td>-1.196253</td>\n",
       "      <td>-2.840656</td>\n",
       "      <td>-2.057308</td>\n",
       "    </tr>\n",
       "    <tr>\n",
       "      <th>2</th>\n",
       "      <td>-0.758351</td>\n",
       "      <td>-1.166275</td>\n",
       "      <td>-0.464505</td>\n",
       "    </tr>\n",
       "    <tr>\n",
       "      <th rowspan=\"2\" valign=\"top\">c</th>\n",
       "      <th>1</th>\n",
       "      <td>1.419848</td>\n",
       "      <td>-1.046008</td>\n",
       "      <td>-1.126064</td>\n",
       "    </tr>\n",
       "    <tr>\n",
       "      <th>2</th>\n",
       "      <td>-1.613154</td>\n",
       "      <td>1.410900</td>\n",
       "      <td>-1.241607</td>\n",
       "    </tr>\n",
       "  </tbody>\n",
       "</table>\n",
       "</div>"
      ],
      "text/plain": [
       "      beijing            shanghai\n",
       "          boy      girl       boy\n",
       "a 1 -0.226582 -0.858561 -1.849417\n",
       "  2  0.653603 -1.096843 -1.113718\n",
       "b 1 -1.196253 -2.840656 -2.057308\n",
       "  2 -0.758351 -1.166275 -0.464505\n",
       "c 1  1.419848 -1.046008 -1.126064\n",
       "  2 -1.613154  1.410900 -1.241607"
      ]
     },
     "execution_count": 169,
     "metadata": {},
     "output_type": "execute_result"
    }
   ],
   "source": [
    "df = DataFrame(np.random.randn(6,3), \n",
    "               index = [['a','a','b','b','c','c'],[1,2,1,2,1,2]], \n",
    "               columns = [['beijing','beijing','shanghai'],['boy','girl','boy']])\n",
    "df"
   ]
  },
  {
   "cell_type": "markdown",
   "metadata": {},
   "source": [
    "- DataFrame可以在两个轴都有多层索引"
   ]
  },
  {
   "cell_type": "code",
   "execution_count": 170,
   "metadata": {
    "collapsed": false
   },
   "outputs": [
    {
     "data": {
      "text/html": [
       "<div>\n",
       "<table border=\"1\" class=\"dataframe\">\n",
       "  <thead>\n",
       "    <tr style=\"text-align: right;\">\n",
       "      <th></th>\n",
       "      <th></th>\n",
       "      <th>boy</th>\n",
       "      <th>girl</th>\n",
       "    </tr>\n",
       "  </thead>\n",
       "  <tbody>\n",
       "    <tr>\n",
       "      <th rowspan=\"2\" valign=\"top\">a</th>\n",
       "      <th>1</th>\n",
       "      <td>-0.226582</td>\n",
       "      <td>-0.858561</td>\n",
       "    </tr>\n",
       "    <tr>\n",
       "      <th>2</th>\n",
       "      <td>0.653603</td>\n",
       "      <td>-1.096843</td>\n",
       "    </tr>\n",
       "    <tr>\n",
       "      <th rowspan=\"2\" valign=\"top\">b</th>\n",
       "      <th>1</th>\n",
       "      <td>-1.196253</td>\n",
       "      <td>-2.840656</td>\n",
       "    </tr>\n",
       "    <tr>\n",
       "      <th>2</th>\n",
       "      <td>-0.758351</td>\n",
       "      <td>-1.166275</td>\n",
       "    </tr>\n",
       "    <tr>\n",
       "      <th rowspan=\"2\" valign=\"top\">c</th>\n",
       "      <th>1</th>\n",
       "      <td>1.419848</td>\n",
       "      <td>-1.046008</td>\n",
       "    </tr>\n",
       "    <tr>\n",
       "      <th>2</th>\n",
       "      <td>-1.613154</td>\n",
       "      <td>1.410900</td>\n",
       "    </tr>\n",
       "  </tbody>\n",
       "</table>\n",
       "</div>"
      ],
      "text/plain": [
       "          boy      girl\n",
       "a 1 -0.226582 -0.858561\n",
       "  2  0.653603 -1.096843\n",
       "b 1 -1.196253 -2.840656\n",
       "  2 -0.758351 -1.166275\n",
       "c 1  1.419848 -1.046008\n",
       "  2 -1.613154  1.410900"
      ]
     },
     "execution_count": 170,
     "metadata": {},
     "output_type": "execute_result"
    }
   ],
   "source": [
    "df['beijing']"
   ]
  },
  {
   "cell_type": "markdown",
   "metadata": {},
   "source": [
    "- 通过外层索引选择列数据"
   ]
  },
  {
   "cell_type": "code",
   "execution_count": 171,
   "metadata": {
    "collapsed": false
   },
   "outputs": [
    {
     "data": {
      "text/html": [
       "<div>\n",
       "<table border=\"1\" class=\"dataframe\">\n",
       "  <thead>\n",
       "    <tr>\n",
       "      <th></th>\n",
       "      <th></th>\n",
       "      <th colspan=\"2\" halign=\"left\">beijing</th>\n",
       "      <th>shanghai</th>\n",
       "    </tr>\n",
       "    <tr>\n",
       "      <th></th>\n",
       "      <th></th>\n",
       "      <th>boy</th>\n",
       "      <th>girl</th>\n",
       "      <th>boy</th>\n",
       "    </tr>\n",
       "  </thead>\n",
       "  <tbody>\n",
       "    <tr>\n",
       "      <th rowspan=\"2\" valign=\"top\">a</th>\n",
       "      <th>1</th>\n",
       "      <td>-0.226582</td>\n",
       "      <td>-0.858561</td>\n",
       "      <td>-1.849417</td>\n",
       "    </tr>\n",
       "    <tr>\n",
       "      <th>2</th>\n",
       "      <td>0.653603</td>\n",
       "      <td>-1.096843</td>\n",
       "      <td>-1.113718</td>\n",
       "    </tr>\n",
       "    <tr>\n",
       "      <th rowspan=\"2\" valign=\"top\">b</th>\n",
       "      <th>1</th>\n",
       "      <td>-1.196253</td>\n",
       "      <td>-2.840656</td>\n",
       "      <td>-2.057308</td>\n",
       "    </tr>\n",
       "    <tr>\n",
       "      <th>2</th>\n",
       "      <td>-0.758351</td>\n",
       "      <td>-1.166275</td>\n",
       "      <td>-0.464505</td>\n",
       "    </tr>\n",
       "    <tr>\n",
       "      <th rowspan=\"2\" valign=\"top\">c</th>\n",
       "      <th>1</th>\n",
       "      <td>1.419848</td>\n",
       "      <td>-1.046008</td>\n",
       "      <td>-1.126064</td>\n",
       "    </tr>\n",
       "    <tr>\n",
       "      <th>2</th>\n",
       "      <td>-1.613154</td>\n",
       "      <td>1.410900</td>\n",
       "      <td>-1.241607</td>\n",
       "    </tr>\n",
       "  </tbody>\n",
       "</table>\n",
       "</div>"
      ],
      "text/plain": [
       "      beijing            shanghai\n",
       "          boy      girl       boy\n",
       "a 1 -0.226582 -0.858561 -1.849417\n",
       "  2  0.653603 -1.096843 -1.113718\n",
       "b 1 -1.196253 -2.840656 -2.057308\n",
       "  2 -0.758351 -1.166275 -0.464505\n",
       "c 1  1.419848 -1.046008 -1.126064\n",
       "  2 -1.613154  1.410900 -1.241607"
      ]
     },
     "execution_count": 171,
     "metadata": {},
     "output_type": "execute_result"
    }
   ],
   "source": [
    "df[['beijing','shanghai']]"
   ]
  },
  {
   "cell_type": "markdown",
   "metadata": {},
   "source": [
    "- 通过外层多个标签选取列数据"
   ]
  },
  {
   "cell_type": "code",
   "execution_count": 172,
   "metadata": {
    "collapsed": false
   },
   "outputs": [
    {
     "data": {
      "text/plain": [
       "a  1   -0.226582\n",
       "   2    0.653603\n",
       "b  1   -1.196253\n",
       "   2   -0.758351\n",
       "c  1    1.419848\n",
       "   2   -1.613154\n",
       "Name: boy, dtype: float64"
      ]
     },
     "execution_count": 172,
     "metadata": {},
     "output_type": "execute_result"
    }
   ],
   "source": [
    "df['beijing']['boy']"
   ]
  },
  {
   "cell_type": "markdown",
   "metadata": {},
   "source": [
    "- 外层索引选取列后再根据列内层标签选取列数据"
   ]
  },
  {
   "cell_type": "code",
   "execution_count": 173,
   "metadata": {
    "collapsed": false
   },
   "outputs": [
    {
     "data": {
      "text/html": [
       "<div>\n",
       "<table border=\"1\" class=\"dataframe\">\n",
       "  <thead>\n",
       "    <tr>\n",
       "      <th></th>\n",
       "      <th colspan=\"2\" halign=\"left\">beijing</th>\n",
       "      <th>shanghai</th>\n",
       "    </tr>\n",
       "    <tr>\n",
       "      <th></th>\n",
       "      <th>boy</th>\n",
       "      <th>girl</th>\n",
       "      <th>boy</th>\n",
       "    </tr>\n",
       "  </thead>\n",
       "  <tbody>\n",
       "    <tr>\n",
       "      <th>1</th>\n",
       "      <td>-0.226582</td>\n",
       "      <td>-0.858561</td>\n",
       "      <td>-1.849417</td>\n",
       "    </tr>\n",
       "    <tr>\n",
       "      <th>2</th>\n",
       "      <td>0.653603</td>\n",
       "      <td>-1.096843</td>\n",
       "      <td>-1.113718</td>\n",
       "    </tr>\n",
       "  </tbody>\n",
       "</table>\n",
       "</div>"
      ],
      "text/plain": [
       "    beijing            shanghai\n",
       "        boy      girl       boy\n",
       "1 -0.226582 -0.858561 -1.849417\n",
       "2  0.653603 -1.096843 -1.113718"
      ]
     },
     "execution_count": 173,
     "metadata": {},
     "output_type": "execute_result"
    }
   ],
   "source": [
    "df.loc['a',:]"
   ]
  },
  {
   "cell_type": "markdown",
   "metadata": {},
   "source": [
    "- 利用loc及外层行索引选择行数据"
   ]
  },
  {
   "cell_type": "code",
   "execution_count": 174,
   "metadata": {
    "collapsed": false
   },
   "outputs": [
    {
     "data": {
      "text/html": [
       "<div>\n",
       "<table border=\"1\" class=\"dataframe\">\n",
       "  <thead>\n",
       "    <tr style=\"text-align: right;\">\n",
       "      <th></th>\n",
       "      <th></th>\n",
       "      <th>boy</th>\n",
       "      <th>girl</th>\n",
       "    </tr>\n",
       "  </thead>\n",
       "  <tbody>\n",
       "    <tr>\n",
       "      <th rowspan=\"2\" valign=\"top\">a</th>\n",
       "      <th>1</th>\n",
       "      <td>-0.226582</td>\n",
       "      <td>-0.858561</td>\n",
       "    </tr>\n",
       "    <tr>\n",
       "      <th>2</th>\n",
       "      <td>0.653603</td>\n",
       "      <td>-1.096843</td>\n",
       "    </tr>\n",
       "    <tr>\n",
       "      <th rowspan=\"2\" valign=\"top\">b</th>\n",
       "      <th>1</th>\n",
       "      <td>-1.196253</td>\n",
       "      <td>-2.840656</td>\n",
       "    </tr>\n",
       "    <tr>\n",
       "      <th>2</th>\n",
       "      <td>-0.758351</td>\n",
       "      <td>-1.166275</td>\n",
       "    </tr>\n",
       "  </tbody>\n",
       "</table>\n",
       "</div>"
      ],
      "text/plain": [
       "          boy      girl\n",
       "a 1 -0.226582 -0.858561\n",
       "  2  0.653603 -1.096843\n",
       "b 1 -1.196253 -2.840656\n",
       "  2 -0.758351 -1.166275"
      ]
     },
     "execution_count": 174,
     "metadata": {},
     "output_type": "execute_result"
    }
   ],
   "source": [
    "df.loc[['a','b'],'beijing']"
   ]
  },
  {
   "cell_type": "markdown",
   "metadata": {},
   "source": [
    "- 多个外层索引选择多行，并限定选择特定的列"
   ]
  },
  {
   "cell_type": "code",
   "execution_count": 175,
   "metadata": {
    "collapsed": false
   },
   "outputs": [
    {
     "data": {
      "text/html": [
       "<div>\n",
       "<table border=\"1\" class=\"dataframe\">\n",
       "  <thead>\n",
       "    <tr style=\"text-align: right;\">\n",
       "      <th></th>\n",
       "      <th></th>\n",
       "      <th>boy</th>\n",
       "      <th>girl</th>\n",
       "    </tr>\n",
       "  </thead>\n",
       "  <tbody>\n",
       "    <tr>\n",
       "      <th rowspan=\"2\" valign=\"top\">a</th>\n",
       "      <th>1</th>\n",
       "      <td>-0.226582</td>\n",
       "      <td>-0.858561</td>\n",
       "    </tr>\n",
       "    <tr>\n",
       "      <th>2</th>\n",
       "      <td>0.653603</td>\n",
       "      <td>-1.096843</td>\n",
       "    </tr>\n",
       "    <tr>\n",
       "      <th rowspan=\"2\" valign=\"top\">b</th>\n",
       "      <th>1</th>\n",
       "      <td>-1.196253</td>\n",
       "      <td>-2.840656</td>\n",
       "    </tr>\n",
       "    <tr>\n",
       "      <th>2</th>\n",
       "      <td>-0.758351</td>\n",
       "      <td>-1.166275</td>\n",
       "    </tr>\n",
       "  </tbody>\n",
       "</table>\n",
       "</div>"
      ],
      "text/plain": [
       "          boy      girl\n",
       "a 1 -0.226582 -0.858561\n",
       "  2  0.653603 -1.096843\n",
       "b 1 -1.196253 -2.840656\n",
       "  2 -0.758351 -1.166275"
      ]
     },
     "execution_count": 175,
     "metadata": {},
     "output_type": "execute_result"
    }
   ],
   "source": [
    "df['beijing'].loc[['a','b']]"
   ]
  },
  {
   "cell_type": "markdown",
   "metadata": {},
   "source": [
    "- 也可结合之前单层索引的思路来进行数据选取"
   ]
  },
  {
   "cell_type": "markdown",
   "metadata": {},
   "source": [
    "### 1.3 重新分层(重塑)"
   ]
  },
  {
   "cell_type": "code",
   "execution_count": 176,
   "metadata": {
    "collapsed": false
   },
   "outputs": [
    {
     "data": {
      "text/plain": [
       "a  0  aa   -0.849212\n",
       "   1  aa   -1.117469\n",
       "   2  aa    0.472500\n",
       "b  0  aa   -1.272573\n",
       "   1  aa    0.252942\n",
       "   2  bb    0.360228\n",
       "c  0  bb    0.425634\n",
       "   1  bb   -0.674811\n",
       "d  0  bb    1.335875\n",
       "   1  bb   -0.228149\n",
       "dtype: float64"
      ]
     },
     "execution_count": 176,
     "metadata": {},
     "output_type": "execute_result"
    }
   ],
   "source": [
    "data.index = [\n",
    "    ['a','a','a','b','b','b','c','c','d','d'],\n",
    "    ['0','1','2','0','1','2','0','1','0','1'],\n",
    "    ['aa','aa','aa','aa','aa','bb','bb','bb','bb','bb']\n",
    "]\n",
    "data"
   ]
  },
  {
   "cell_type": "markdown",
   "metadata": {},
   "source": [
    "- 新建立一个有3层索引的Series对象"
   ]
  },
  {
   "cell_type": "code",
   "execution_count": 177,
   "metadata": {
    "collapsed": false
   },
   "outputs": [
    {
     "data": {
      "text/plain": [
       "a  aa  0   -0.849212\n",
       "       1   -1.117469\n",
       "       2    0.472500\n",
       "b  aa  0   -1.272573\n",
       "       1    0.252942\n",
       "   bb  2    0.360228\n",
       "c  bb  0    0.425634\n",
       "       1   -0.674811\n",
       "d  bb  0    1.335875\n",
       "       1   -0.228149\n",
       "dtype: float64"
      ]
     },
     "execution_count": 177,
     "metadata": {},
     "output_type": "execute_result"
    }
   ],
   "source": [
    "data.swaplevel()"
   ]
  },
  {
   "cell_type": "markdown",
   "metadata": {},
   "source": [
    "- 利用`swaplevel()`函数将索引进行层级交换\n",
    "- 不指定参数时，将交换内层两个索引的层级"
   ]
  },
  {
   "cell_type": "code",
   "execution_count": 178,
   "metadata": {
    "collapsed": false
   },
   "outputs": [
    {
     "data": {
      "text/plain": [
       "aa  0  a   -0.849212\n",
       "    1  a   -1.117469\n",
       "    2  a    0.472500\n",
       "    0  b   -1.272573\n",
       "    1  b    0.252942\n",
       "bb  2  b    0.360228\n",
       "    0  c    0.425634\n",
       "    1  c   -0.674811\n",
       "    0  d    1.335875\n",
       "    1  d   -0.228149\n",
       "dtype: float64"
      ]
     },
     "execution_count": 178,
     "metadata": {},
     "output_type": "execute_result"
    }
   ],
   "source": [
    "data.swaplevel(0)"
   ]
  },
  {
   "cell_type": "markdown",
   "metadata": {},
   "source": [
    "- 可在swaplevel()函数中放入数字参数来变换要交换层次的索引"
   ]
  },
  {
   "cell_type": "code",
   "execution_count": 179,
   "metadata": {
    "collapsed": false
   },
   "outputs": [
    {
     "data": {
      "text/plain": [
       "one  two  three\n",
       "a    0    aa      -0.849212\n",
       "     1    aa      -1.117469\n",
       "     2    aa       0.472500\n",
       "b    0    aa      -1.272573\n",
       "     1    aa       0.252942\n",
       "     2    bb       0.360228\n",
       "c    0    bb       0.425634\n",
       "     1    bb      -0.674811\n",
       "d    0    bb       1.335875\n",
       "     1    bb      -0.228149\n",
       "dtype: float64"
      ]
     },
     "execution_count": 179,
     "metadata": {},
     "output_type": "execute_result"
    }
   ],
   "source": [
    "data.index.names = ['one','two','three']\n",
    "data"
   ]
  },
  {
   "cell_type": "markdown",
   "metadata": {},
   "source": [
    "- 可以为Serise对象的多层索引分别指定名称(name)"
   ]
  },
  {
   "cell_type": "code",
   "execution_count": 180,
   "metadata": {
    "collapsed": false
   },
   "outputs": [
    {
     "data": {
      "text/plain": [
       "three  two  one\n",
       "aa     0    a     -0.849212\n",
       "       1    a     -1.117469\n",
       "       2    a      0.472500\n",
       "       0    b     -1.272573\n",
       "       1    b      0.252942\n",
       "bb     2    b      0.360228\n",
       "       0    c      0.425634\n",
       "       1    c     -0.674811\n",
       "       0    d      1.335875\n",
       "       1    d     -0.228149\n",
       "dtype: float64"
      ]
     },
     "execution_count": 180,
     "metadata": {},
     "output_type": "execute_result"
    }
   ],
   "source": [
    "data.swaplevel('one','three')"
   ]
  },
  {
   "cell_type": "markdown",
   "metadata": {},
   "source": [
    "- 指定了name后，就可以在`swaplevel()`函数中指定索引的name进行索引层次交换"
   ]
  },
  {
   "cell_type": "code",
   "execution_count": 181,
   "metadata": {
    "collapsed": false
   },
   "outputs": [
    {
     "data": {
      "text/html": [
       "<div>\n",
       "<table border=\"1\" class=\"dataframe\">\n",
       "  <thead>\n",
       "    <tr style=\"text-align: right;\">\n",
       "      <th></th>\n",
       "      <th>three</th>\n",
       "      <th>aa</th>\n",
       "      <th>bb</th>\n",
       "    </tr>\n",
       "    <tr>\n",
       "      <th>one</th>\n",
       "      <th>two</th>\n",
       "      <th></th>\n",
       "      <th></th>\n",
       "    </tr>\n",
       "  </thead>\n",
       "  <tbody>\n",
       "    <tr>\n",
       "      <th rowspan=\"3\" valign=\"top\">a</th>\n",
       "      <th>0</th>\n",
       "      <td>-0.849212</td>\n",
       "      <td>NaN</td>\n",
       "    </tr>\n",
       "    <tr>\n",
       "      <th>1</th>\n",
       "      <td>-1.117469</td>\n",
       "      <td>NaN</td>\n",
       "    </tr>\n",
       "    <tr>\n",
       "      <th>2</th>\n",
       "      <td>0.472500</td>\n",
       "      <td>NaN</td>\n",
       "    </tr>\n",
       "    <tr>\n",
       "      <th rowspan=\"3\" valign=\"top\">b</th>\n",
       "      <th>0</th>\n",
       "      <td>-1.272573</td>\n",
       "      <td>NaN</td>\n",
       "    </tr>\n",
       "    <tr>\n",
       "      <th>1</th>\n",
       "      <td>0.252942</td>\n",
       "      <td>NaN</td>\n",
       "    </tr>\n",
       "    <tr>\n",
       "      <th>2</th>\n",
       "      <td>NaN</td>\n",
       "      <td>0.360228</td>\n",
       "    </tr>\n",
       "    <tr>\n",
       "      <th rowspan=\"2\" valign=\"top\">c</th>\n",
       "      <th>0</th>\n",
       "      <td>NaN</td>\n",
       "      <td>0.425634</td>\n",
       "    </tr>\n",
       "    <tr>\n",
       "      <th>1</th>\n",
       "      <td>NaN</td>\n",
       "      <td>-0.674811</td>\n",
       "    </tr>\n",
       "    <tr>\n",
       "      <th rowspan=\"2\" valign=\"top\">d</th>\n",
       "      <th>0</th>\n",
       "      <td>NaN</td>\n",
       "      <td>1.335875</td>\n",
       "    </tr>\n",
       "    <tr>\n",
       "      <th>1</th>\n",
       "      <td>NaN</td>\n",
       "      <td>-0.228149</td>\n",
       "    </tr>\n",
       "  </tbody>\n",
       "</table>\n",
       "</div>"
      ],
      "text/plain": [
       "three          aa        bb\n",
       "one two                    \n",
       "a   0   -0.849212       NaN\n",
       "    1   -1.117469       NaN\n",
       "    2    0.472500       NaN\n",
       "b   0   -1.272573       NaN\n",
       "    1    0.252942       NaN\n",
       "    2         NaN  0.360228\n",
       "c   0         NaN  0.425634\n",
       "    1         NaN -0.674811\n",
       "d   0         NaN  1.335875\n",
       "    1         NaN -0.228149"
      ]
     },
     "execution_count": 181,
     "metadata": {},
     "output_type": "execute_result"
    }
   ],
   "source": [
    "frame = data.unstack()\n",
    "frame"
   ]
  },
  {
   "cell_type": "markdown",
   "metadata": {},
   "source": [
    "- 多层索引的对象可以通过unstack()函数来进行索引退层，不指定参数时默认为最内层\n",
    "- 退层后，原来最内层的索引转换为每列的索引，无法对其的索引数据，则与统一赋值为NaN\n",
    "- 对Series进行unstack()，则回返回DataFrame对象"
   ]
  },
  {
   "cell_type": "code",
   "execution_count": 182,
   "metadata": {
    "collapsed": false
   },
   "outputs": [
    {
     "data": {
      "text/plain": [
       "one  two  three\n",
       "a    0    aa      -0.849212\n",
       "     1    aa      -1.117469\n",
       "     2    aa       0.472500\n",
       "b    0    aa      -1.272573\n",
       "     1    aa       0.252942\n",
       "     2    bb       0.360228\n",
       "c    0    bb       0.425634\n",
       "     1    bb      -0.674811\n",
       "d    0    bb       1.335875\n",
       "     1    bb      -0.228149\n",
       "dtype: float64"
      ]
     },
     "execution_count": 182,
     "metadata": {},
     "output_type": "execute_result"
    }
   ],
   "source": [
    "frame.stack()"
   ]
  },
  {
   "cell_type": "markdown",
   "metadata": {},
   "source": [
    "- unstack()的拟操作是stack()"
   ]
  },
  {
   "cell_type": "code",
   "execution_count": 183,
   "metadata": {
    "collapsed": false
   },
   "outputs": [
    {
     "data": {
      "text/html": [
       "<div>\n",
       "<table border=\"1\" class=\"dataframe\">\n",
       "  <thead>\n",
       "    <tr style=\"text-align: right;\">\n",
       "      <th></th>\n",
       "      <th>two</th>\n",
       "      <th>0</th>\n",
       "      <th>1</th>\n",
       "      <th>2</th>\n",
       "    </tr>\n",
       "    <tr>\n",
       "      <th>one</th>\n",
       "      <th>three</th>\n",
       "      <th></th>\n",
       "      <th></th>\n",
       "      <th></th>\n",
       "    </tr>\n",
       "  </thead>\n",
       "  <tbody>\n",
       "    <tr>\n",
       "      <th>a</th>\n",
       "      <th>aa</th>\n",
       "      <td>-0.849212</td>\n",
       "      <td>-1.117469</td>\n",
       "      <td>0.472500</td>\n",
       "    </tr>\n",
       "    <tr>\n",
       "      <th rowspan=\"2\" valign=\"top\">b</th>\n",
       "      <th>aa</th>\n",
       "      <td>-1.272573</td>\n",
       "      <td>0.252942</td>\n",
       "      <td>NaN</td>\n",
       "    </tr>\n",
       "    <tr>\n",
       "      <th>bb</th>\n",
       "      <td>NaN</td>\n",
       "      <td>NaN</td>\n",
       "      <td>0.360228</td>\n",
       "    </tr>\n",
       "    <tr>\n",
       "      <th>c</th>\n",
       "      <th>bb</th>\n",
       "      <td>0.425634</td>\n",
       "      <td>-0.674811</td>\n",
       "      <td>NaN</td>\n",
       "    </tr>\n",
       "    <tr>\n",
       "      <th>d</th>\n",
       "      <th>bb</th>\n",
       "      <td>1.335875</td>\n",
       "      <td>-0.228149</td>\n",
       "      <td>NaN</td>\n",
       "    </tr>\n",
       "  </tbody>\n",
       "</table>\n",
       "</div>"
      ],
      "text/plain": [
       "two               0         1         2\n",
       "one three                              \n",
       "a   aa    -0.849212 -1.117469  0.472500\n",
       "b   aa    -1.272573  0.252942       NaN\n",
       "    bb          NaN       NaN  0.360228\n",
       "c   bb     0.425634 -0.674811       NaN\n",
       "d   bb     1.335875 -0.228149       NaN"
      ]
     },
     "execution_count": 183,
     "metadata": {},
     "output_type": "execute_result"
    }
   ],
   "source": [
    "frame = data.unstack('two')\n",
    "frame"
   ]
  },
  {
   "cell_type": "markdown",
   "metadata": {},
   "source": [
    "- 可以根据索引的name来指定unstack的索引层\n",
    "- 返回一个以unstack的索引为列索引的DataFrame"
   ]
  },
  {
   "cell_type": "code",
   "execution_count": 184,
   "metadata": {
    "collapsed": false
   },
   "outputs": [
    {
     "data": {
      "text/html": [
       "<div>\n",
       "<table border=\"1\" class=\"dataframe\">\n",
       "  <thead>\n",
       "    <tr>\n",
       "      <th>two</th>\n",
       "      <th colspan=\"2\" halign=\"left\">0</th>\n",
       "      <th colspan=\"2\" halign=\"left\">1</th>\n",
       "      <th colspan=\"2\" halign=\"left\">2</th>\n",
       "    </tr>\n",
       "    <tr>\n",
       "      <th>three</th>\n",
       "      <th>aa</th>\n",
       "      <th>bb</th>\n",
       "      <th>aa</th>\n",
       "      <th>bb</th>\n",
       "      <th>aa</th>\n",
       "      <th>bb</th>\n",
       "    </tr>\n",
       "    <tr>\n",
       "      <th>one</th>\n",
       "      <th></th>\n",
       "      <th></th>\n",
       "      <th></th>\n",
       "      <th></th>\n",
       "      <th></th>\n",
       "      <th></th>\n",
       "    </tr>\n",
       "  </thead>\n",
       "  <tbody>\n",
       "    <tr>\n",
       "      <th>a</th>\n",
       "      <td>-0.849212</td>\n",
       "      <td>NaN</td>\n",
       "      <td>-1.117469</td>\n",
       "      <td>NaN</td>\n",
       "      <td>0.4725</td>\n",
       "      <td>NaN</td>\n",
       "    </tr>\n",
       "    <tr>\n",
       "      <th>b</th>\n",
       "      <td>-1.272573</td>\n",
       "      <td>NaN</td>\n",
       "      <td>0.252942</td>\n",
       "      <td>NaN</td>\n",
       "      <td>NaN</td>\n",
       "      <td>0.360228</td>\n",
       "    </tr>\n",
       "    <tr>\n",
       "      <th>c</th>\n",
       "      <td>NaN</td>\n",
       "      <td>0.425634</td>\n",
       "      <td>NaN</td>\n",
       "      <td>-0.674811</td>\n",
       "      <td>NaN</td>\n",
       "      <td>NaN</td>\n",
       "    </tr>\n",
       "    <tr>\n",
       "      <th>d</th>\n",
       "      <td>NaN</td>\n",
       "      <td>1.335875</td>\n",
       "      <td>NaN</td>\n",
       "      <td>-0.228149</td>\n",
       "      <td>NaN</td>\n",
       "      <td>NaN</td>\n",
       "    </tr>\n",
       "  </tbody>\n",
       "</table>\n",
       "</div>"
      ],
      "text/plain": [
       "two           0                   1                 2          \n",
       "three        aa        bb        aa        bb      aa        bb\n",
       "one                                                            \n",
       "a     -0.849212       NaN -1.117469       NaN  0.4725       NaN\n",
       "b     -1.272573       NaN  0.252942       NaN     NaN  0.360228\n",
       "c           NaN  0.425634       NaN -0.674811     NaN       NaN\n",
       "d           NaN  1.335875       NaN -0.228149     NaN       NaN"
      ]
     },
     "execution_count": 184,
     "metadata": {},
     "output_type": "execute_result"
    }
   ],
   "source": [
    "frame = frame.unstack()\n",
    "frame"
   ]
  },
  {
   "cell_type": "markdown",
   "metadata": {},
   "source": [
    "- 可以继续退层"
   ]
  },
  {
   "cell_type": "code",
   "execution_count": 185,
   "metadata": {
    "collapsed": false
   },
   "outputs": [
    {
     "data": {
      "text/html": [
       "<div>\n",
       "<table border=\"1\" class=\"dataframe\">\n",
       "  <thead>\n",
       "    <tr style=\"text-align: right;\">\n",
       "      <th>three</th>\n",
       "      <th>aa</th>\n",
       "      <th>bb</th>\n",
       "    </tr>\n",
       "    <tr>\n",
       "      <th>one</th>\n",
       "      <th></th>\n",
       "      <th></th>\n",
       "    </tr>\n",
       "  </thead>\n",
       "  <tbody>\n",
       "    <tr>\n",
       "      <th>a</th>\n",
       "      <td>-0.849212</td>\n",
       "      <td>NaN</td>\n",
       "    </tr>\n",
       "    <tr>\n",
       "      <th>b</th>\n",
       "      <td>-1.272573</td>\n",
       "      <td>NaN</td>\n",
       "    </tr>\n",
       "    <tr>\n",
       "      <th>c</th>\n",
       "      <td>NaN</td>\n",
       "      <td>0.425634</td>\n",
       "    </tr>\n",
       "    <tr>\n",
       "      <th>d</th>\n",
       "      <td>NaN</td>\n",
       "      <td>1.335875</td>\n",
       "    </tr>\n",
       "  </tbody>\n",
       "</table>\n",
       "</div>"
      ],
      "text/plain": [
       "three        aa        bb\n",
       "one                      \n",
       "a     -0.849212       NaN\n",
       "b     -1.272573       NaN\n",
       "c           NaN  0.425634\n",
       "d           NaN  1.335875"
      ]
     },
     "execution_count": 185,
     "metadata": {},
     "output_type": "execute_result"
    }
   ],
   "source": [
    "frame['0']"
   ]
  },
  {
   "cell_type": "markdown",
   "metadata": {},
   "source": [
    "- 选择列数据"
   ]
  },
  {
   "cell_type": "code",
   "execution_count": 186,
   "metadata": {
    "collapsed": false
   },
   "outputs": [
    {
     "data": {
      "text/plain": [
       "-0.84921151400187134"
      ]
     },
     "execution_count": 186,
     "metadata": {},
     "output_type": "execute_result"
    }
   ],
   "source": [
    "frame['0']['aa'].loc['a']"
   ]
  },
  {
   "cell_type": "markdown",
   "metadata": {},
   "source": [
    "- 仿照之前的方法，选择区域数据"
   ]
  },
  {
   "cell_type": "markdown",
   "metadata": {},
   "source": [
    "### 1.4 利用层级择、汇总计算数据"
   ]
  },
  {
   "cell_type": "code",
   "execution_count": 187,
   "metadata": {
    "collapsed": false
   },
   "outputs": [
    {
     "data": {
      "text/plain": [
       "one  two  three\n",
       "a    0    aa      -0.849212\n",
       "     1    aa      -1.117469\n",
       "     2    aa       0.472500\n",
       "b    0    aa      -1.272573\n",
       "     1    aa       0.252942\n",
       "     2    bb       0.360228\n",
       "c    0    bb       0.425634\n",
       "     1    bb      -0.674811\n",
       "d    0    bb       1.335875\n",
       "     1    bb      -0.228149\n",
       "dtype: float64"
      ]
     },
     "execution_count": 187,
     "metadata": {},
     "output_type": "execute_result"
    }
   ],
   "source": [
    "data"
   ]
  },
  {
   "cell_type": "markdown",
   "metadata": {},
   "source": [
    "- 还是用先前的Series做例子"
   ]
  },
  {
   "cell_type": "code",
   "execution_count": 188,
   "metadata": {
    "collapsed": false
   },
   "outputs": [
    {
     "data": {
      "text/plain": [
       "one\n",
       "a   -1.494180\n",
       "b   -0.659403\n",
       "c   -0.249177\n",
       "d    1.107726\n",
       "dtype: float64"
      ]
     },
     "execution_count": 188,
     "metadata": {},
     "output_type": "execute_result"
    }
   ],
   "source": [
    "data.sum(level = 'one')"
   ]
  },
  {
   "cell_type": "markdown",
   "metadata": {},
   "source": [
    "- 利用sum()求和，用参数level指明以哪层的index为基准进行求和"
   ]
  },
  {
   "cell_type": "code",
   "execution_count": 189,
   "metadata": {
    "collapsed": false
   },
   "outputs": [
    {
     "data": {
      "text/plain": [
       "two\n",
       "0    1.193577\n",
       "1    0.588540\n",
       "2    0.079388\n",
       "dtype: float64"
      ]
     },
     "execution_count": 189,
     "metadata": {},
     "output_type": "execute_result"
    }
   ],
   "source": [
    "data.std(level='two')"
   ]
  },
  {
   "cell_type": "markdown",
   "metadata": {},
   "source": [
    "- 其他函数也可以类似进行对特定层级的计算"
   ]
  },
  {
   "cell_type": "code",
   "execution_count": 190,
   "metadata": {
    "collapsed": false
   },
   "outputs": [
    {
     "data": {
      "text/html": [
       "<div>\n",
       "<table border=\"1\" class=\"dataframe\">\n",
       "  <thead>\n",
       "    <tr>\n",
       "      <th></th>\n",
       "      <th></th>\n",
       "      <th colspan=\"2\" halign=\"left\">beijing</th>\n",
       "      <th>shanghai</th>\n",
       "    </tr>\n",
       "    <tr>\n",
       "      <th></th>\n",
       "      <th></th>\n",
       "      <th>boy</th>\n",
       "      <th>girl</th>\n",
       "      <th>boy</th>\n",
       "    </tr>\n",
       "  </thead>\n",
       "  <tbody>\n",
       "    <tr>\n",
       "      <th rowspan=\"2\" valign=\"top\">a</th>\n",
       "      <th>1</th>\n",
       "      <td>-0.226582</td>\n",
       "      <td>-0.858561</td>\n",
       "      <td>-1.849417</td>\n",
       "    </tr>\n",
       "    <tr>\n",
       "      <th>2</th>\n",
       "      <td>0.653603</td>\n",
       "      <td>-1.096843</td>\n",
       "      <td>-1.113718</td>\n",
       "    </tr>\n",
       "    <tr>\n",
       "      <th rowspan=\"2\" valign=\"top\">b</th>\n",
       "      <th>1</th>\n",
       "      <td>-1.196253</td>\n",
       "      <td>-2.840656</td>\n",
       "      <td>-2.057308</td>\n",
       "    </tr>\n",
       "    <tr>\n",
       "      <th>2</th>\n",
       "      <td>-0.758351</td>\n",
       "      <td>-1.166275</td>\n",
       "      <td>-0.464505</td>\n",
       "    </tr>\n",
       "    <tr>\n",
       "      <th rowspan=\"2\" valign=\"top\">c</th>\n",
       "      <th>1</th>\n",
       "      <td>1.419848</td>\n",
       "      <td>-1.046008</td>\n",
       "      <td>-1.126064</td>\n",
       "    </tr>\n",
       "    <tr>\n",
       "      <th>2</th>\n",
       "      <td>-1.613154</td>\n",
       "      <td>1.410900</td>\n",
       "      <td>-1.241607</td>\n",
       "    </tr>\n",
       "  </tbody>\n",
       "</table>\n",
       "</div>"
      ],
      "text/plain": [
       "      beijing            shanghai\n",
       "          boy      girl       boy\n",
       "a 1 -0.226582 -0.858561 -1.849417\n",
       "  2  0.653603 -1.096843 -1.113718\n",
       "b 1 -1.196253 -2.840656 -2.057308\n",
       "  2 -0.758351 -1.166275 -0.464505\n",
       "c 1  1.419848 -1.046008 -1.126064\n",
       "  2 -1.613154  1.410900 -1.241607"
      ]
     },
     "execution_count": 190,
     "metadata": {},
     "output_type": "execute_result"
    }
   ],
   "source": [
    "df"
   ]
  },
  {
   "cell_type": "markdown",
   "metadata": {},
   "source": [
    "- 仍然以前面的DataFrame作为例子"
   ]
  },
  {
   "cell_type": "code",
   "execution_count": 191,
   "metadata": {
    "collapsed": false
   },
   "outputs": [
    {
     "data": {
      "text/html": [
       "<div>\n",
       "<table border=\"1\" class=\"dataframe\">\n",
       "  <thead>\n",
       "    <tr>\n",
       "      <th></th>\n",
       "      <th>la</th>\n",
       "      <th colspan=\"2\" halign=\"left\">beijing</th>\n",
       "      <th>shanghai</th>\n",
       "    </tr>\n",
       "    <tr>\n",
       "      <th></th>\n",
       "      <th>lb</th>\n",
       "      <th>boy</th>\n",
       "      <th>girl</th>\n",
       "      <th>boy</th>\n",
       "    </tr>\n",
       "    <tr>\n",
       "      <th>one</th>\n",
       "      <th>two</th>\n",
       "      <th></th>\n",
       "      <th></th>\n",
       "      <th></th>\n",
       "    </tr>\n",
       "  </thead>\n",
       "  <tbody>\n",
       "    <tr>\n",
       "      <th rowspan=\"2\" valign=\"top\">a</th>\n",
       "      <th>1</th>\n",
       "      <td>-0.226582</td>\n",
       "      <td>-0.858561</td>\n",
       "      <td>-1.849417</td>\n",
       "    </tr>\n",
       "    <tr>\n",
       "      <th>2</th>\n",
       "      <td>0.653603</td>\n",
       "      <td>-1.096843</td>\n",
       "      <td>-1.113718</td>\n",
       "    </tr>\n",
       "    <tr>\n",
       "      <th rowspan=\"2\" valign=\"top\">b</th>\n",
       "      <th>1</th>\n",
       "      <td>-1.196253</td>\n",
       "      <td>-2.840656</td>\n",
       "      <td>-2.057308</td>\n",
       "    </tr>\n",
       "    <tr>\n",
       "      <th>2</th>\n",
       "      <td>-0.758351</td>\n",
       "      <td>-1.166275</td>\n",
       "      <td>-0.464505</td>\n",
       "    </tr>\n",
       "    <tr>\n",
       "      <th rowspan=\"2\" valign=\"top\">c</th>\n",
       "      <th>1</th>\n",
       "      <td>1.419848</td>\n",
       "      <td>-1.046008</td>\n",
       "      <td>-1.126064</td>\n",
       "    </tr>\n",
       "    <tr>\n",
       "      <th>2</th>\n",
       "      <td>-1.613154</td>\n",
       "      <td>1.410900</td>\n",
       "      <td>-1.241607</td>\n",
       "    </tr>\n",
       "  </tbody>\n",
       "</table>\n",
       "</div>"
      ],
      "text/plain": [
       "la        beijing            shanghai\n",
       "lb            boy      girl       boy\n",
       "one two                              \n",
       "a   1   -0.226582 -0.858561 -1.849417\n",
       "    2    0.653603 -1.096843 -1.113718\n",
       "b   1   -1.196253 -2.840656 -2.057308\n",
       "    2   -0.758351 -1.166275 -0.464505\n",
       "c   1    1.419848 -1.046008 -1.126064\n",
       "    2   -1.613154  1.410900 -1.241607"
      ]
     },
     "execution_count": 191,
     "metadata": {},
     "output_type": "execute_result"
    }
   ],
   "source": [
    "df.index.names = ['one', 'two']\n",
    "df.columns.names = ['la','lb']\n",
    "df"
   ]
  },
  {
   "cell_type": "markdown",
   "metadata": {},
   "source": [
    "- 为DataFrame对象的index的names赋值，为其columns的names赋值"
   ]
  },
  {
   "cell_type": "code",
   "execution_count": 192,
   "metadata": {
    "collapsed": false
   },
   "outputs": [
    {
     "data": {
      "text/html": [
       "<div>\n",
       "<table border=\"1\" class=\"dataframe\">\n",
       "  <thead>\n",
       "    <tr>\n",
       "      <th>la</th>\n",
       "      <th colspan=\"2\" halign=\"left\">beijing</th>\n",
       "      <th>shanghai</th>\n",
       "    </tr>\n",
       "    <tr>\n",
       "      <th>lb</th>\n",
       "      <th>boy</th>\n",
       "      <th>girl</th>\n",
       "      <th>boy</th>\n",
       "    </tr>\n",
       "    <tr>\n",
       "      <th>one</th>\n",
       "      <th></th>\n",
       "      <th></th>\n",
       "      <th></th>\n",
       "    </tr>\n",
       "  </thead>\n",
       "  <tbody>\n",
       "    <tr>\n",
       "      <th>a</th>\n",
       "      <td>0.427021</td>\n",
       "      <td>-1.955404</td>\n",
       "      <td>-2.963135</td>\n",
       "    </tr>\n",
       "    <tr>\n",
       "      <th>b</th>\n",
       "      <td>-1.954603</td>\n",
       "      <td>-4.006931</td>\n",
       "      <td>-2.521813</td>\n",
       "    </tr>\n",
       "    <tr>\n",
       "      <th>c</th>\n",
       "      <td>-0.193305</td>\n",
       "      <td>0.364892</td>\n",
       "      <td>-2.367671</td>\n",
       "    </tr>\n",
       "  </tbody>\n",
       "</table>\n",
       "</div>"
      ],
      "text/plain": [
       "la    beijing            shanghai\n",
       "lb        boy      girl       boy\n",
       "one                              \n",
       "a    0.427021 -1.955404 -2.963135\n",
       "b   -1.954603 -4.006931 -2.521813\n",
       "c   -0.193305  0.364892 -2.367671"
      ]
     },
     "execution_count": 192,
     "metadata": {},
     "output_type": "execute_result"
    }
   ],
   "source": [
    "df.sum(level = 'one')"
   ]
  },
  {
   "cell_type": "markdown",
   "metadata": {},
   "source": [
    "- 可以利用各类计算的level参数，根据索引的name，来对指定层次的索引进行求值\n",
    "- level参数默认为指定行索引的name"
   ]
  },
  {
   "cell_type": "code",
   "execution_count": 193,
   "metadata": {
    "collapsed": false
   },
   "outputs": [
    {
     "data": {
      "text/html": [
       "<div>\n",
       "<table border=\"1\" class=\"dataframe\">\n",
       "  <thead>\n",
       "    <tr>\n",
       "      <th>la</th>\n",
       "      <th colspan=\"2\" halign=\"left\">beijing</th>\n",
       "      <th>shanghai</th>\n",
       "    </tr>\n",
       "    <tr>\n",
       "      <th>lb</th>\n",
       "      <th>boy</th>\n",
       "      <th>girl</th>\n",
       "      <th>boy</th>\n",
       "    </tr>\n",
       "    <tr>\n",
       "      <th>two</th>\n",
       "      <th></th>\n",
       "      <th></th>\n",
       "      <th></th>\n",
       "    </tr>\n",
       "  </thead>\n",
       "  <tbody>\n",
       "    <tr>\n",
       "      <th>1</th>\n",
       "      <td>1.322559</td>\n",
       "      <td>1.094273</td>\n",
       "      <td>0.488820</td>\n",
       "    </tr>\n",
       "    <tr>\n",
       "      <th>2</th>\n",
       "      <td>1.144734</td>\n",
       "      <td>1.468300</td>\n",
       "      <td>0.416677</td>\n",
       "    </tr>\n",
       "  </tbody>\n",
       "</table>\n",
       "</div>"
      ],
      "text/plain": [
       "la    beijing            shanghai\n",
       "lb        boy      girl       boy\n",
       "two                              \n",
       "1    1.322559  1.094273  0.488820\n",
       "2    1.144734  1.468300  0.416677"
      ]
     },
     "execution_count": 193,
     "metadata": {},
     "output_type": "execute_result"
    }
   ],
   "source": [
    "df.std(level = 'two')"
   ]
  },
  {
   "cell_type": "markdown",
   "metadata": {},
   "source": [
    "- 之前所用到的各类计算，均可以这样对指定层进行计算"
   ]
  },
  {
   "cell_type": "code",
   "execution_count": 194,
   "metadata": {
    "collapsed": false
   },
   "outputs": [
    {
     "data": {
      "text/html": [
       "<div>\n",
       "<table border=\"1\" class=\"dataframe\">\n",
       "  <thead>\n",
       "    <tr style=\"text-align: right;\">\n",
       "      <th></th>\n",
       "      <th>la</th>\n",
       "      <th>beijing</th>\n",
       "      <th>shanghai</th>\n",
       "    </tr>\n",
       "    <tr>\n",
       "      <th>one</th>\n",
       "      <th>two</th>\n",
       "      <th></th>\n",
       "      <th></th>\n",
       "    </tr>\n",
       "  </thead>\n",
       "  <tbody>\n",
       "    <tr>\n",
       "      <th rowspan=\"2\" valign=\"top\">a</th>\n",
       "      <th>1</th>\n",
       "      <td>-1.085143</td>\n",
       "      <td>-1.849417</td>\n",
       "    </tr>\n",
       "    <tr>\n",
       "      <th>2</th>\n",
       "      <td>-0.443240</td>\n",
       "      <td>-1.113718</td>\n",
       "    </tr>\n",
       "    <tr>\n",
       "      <th rowspan=\"2\" valign=\"top\">b</th>\n",
       "      <th>1</th>\n",
       "      <td>-4.036908</td>\n",
       "      <td>-2.057308</td>\n",
       "    </tr>\n",
       "    <tr>\n",
       "      <th>2</th>\n",
       "      <td>-1.924626</td>\n",
       "      <td>-0.464505</td>\n",
       "    </tr>\n",
       "    <tr>\n",
       "      <th rowspan=\"2\" valign=\"top\">c</th>\n",
       "      <th>1</th>\n",
       "      <td>0.373841</td>\n",
       "      <td>-1.126064</td>\n",
       "    </tr>\n",
       "    <tr>\n",
       "      <th>2</th>\n",
       "      <td>-0.202254</td>\n",
       "      <td>-1.241607</td>\n",
       "    </tr>\n",
       "  </tbody>\n",
       "</table>\n",
       "</div>"
      ],
      "text/plain": [
       "la        beijing  shanghai\n",
       "one two                    \n",
       "a   1   -1.085143 -1.849417\n",
       "    2   -0.443240 -1.113718\n",
       "b   1   -4.036908 -2.057308\n",
       "    2   -1.924626 -0.464505\n",
       "c   1    0.373841 -1.126064\n",
       "    2   -0.202254 -1.241607"
      ]
     },
     "execution_count": 194,
     "metadata": {},
     "output_type": "execute_result"
    }
   ],
   "source": [
    "df.sum(level = 'la',axis=1)"
   ]
  },
  {
   "cell_type": "markdown",
   "metadata": {},
   "source": [
    "- 利用axis参数，可以指定列索引名称进行相应计算\n",
    "- 其余指定columns值的计算均类似"
   ]
  },
  {
   "cell_type": "markdown",
   "metadata": {
    "collapsed": true
   },
   "source": [
    "### 2. 数据分组(Groupby)计算\n",
    "\n",
    "- 数据分组是Pandas常用操作\n",
    "- 1.将数据按照某个规律(如标签、数据的规律)分组\n",
    "- 2.对每个分组施加(Apply)运算\n",
    "- 3.将运算结果合并(Combine)"
   ]
  },
  {
   "cell_type": "markdown",
   "metadata": {},
   "source": [
    "### 2.1 对Series进行分组计算"
   ]
  },
  {
   "cell_type": "code",
   "execution_count": 195,
   "metadata": {
    "collapsed": false
   },
   "outputs": [
    {
     "data": {
      "text/plain": [
       "one  two  three\n",
       "a    0    aa      -0.849212\n",
       "     1    aa      -1.117469\n",
       "     2    aa       0.472500\n",
       "b    0    aa      -1.272573\n",
       "     1    aa       0.252942\n",
       "     2    bb       0.360228\n",
       "c    0    bb       0.425634\n",
       "     1    bb      -0.674811\n",
       "d    0    bb       1.335875\n",
       "     1    bb      -0.228149\n",
       "dtype: float64"
      ]
     },
     "execution_count": 195,
     "metadata": {},
     "output_type": "execute_result"
    }
   ],
   "source": [
    "data"
   ]
  },
  {
   "cell_type": "markdown",
   "metadata": {},
   "source": [
    "- 仍然是以之前的Series作为例子"
   ]
  },
  {
   "cell_type": "code",
   "execution_count": 196,
   "metadata": {
    "collapsed": false
   },
   "outputs": [
    {
     "data": {
      "text/plain": [
       "<pandas.core.groupby.SeriesGroupBy object at 0x000001F0405D6DD8>"
      ]
     },
     "execution_count": 196,
     "metadata": {},
     "output_type": "execute_result"
    }
   ],
   "source": [
    "grouped = data.groupby(level='one')\n",
    "grouped"
   ]
  },
  {
   "cell_type": "markdown",
   "metadata": {},
   "source": [
    "- 利用groupby()函数，可以将数根据据指定level对应的index，进行分组。\n",
    "- grouped是groupby类型，可视为含有一些分组信息的视图(类似dict)"
   ]
  },
  {
   "cell_type": "code",
   "execution_count": 197,
   "metadata": {
    "collapsed": false
   },
   "outputs": [
    {
     "name": "stdout",
     "output_type": "stream",
     "text": [
      "a\n",
      "---------------------------\n",
      "one  two  three\n",
      "a    0    aa      -0.849212\n",
      "     1    aa      -1.117469\n",
      "     2    aa       0.472500\n",
      "dtype: float64\n",
      "b\n",
      "---------------------------\n",
      "one  two  three\n",
      "b    0    aa      -1.272573\n",
      "     1    aa       0.252942\n",
      "     2    bb       0.360228\n",
      "dtype: float64\n",
      "c\n",
      "---------------------------\n",
      "one  two  three\n",
      "c    0    bb       0.425634\n",
      "     1    bb      -0.674811\n",
      "dtype: float64\n",
      "d\n",
      "---------------------------\n",
      "one  two  three\n",
      "d    0    bb       1.335875\n",
      "     1    bb      -0.228149\n",
      "dtype: float64\n"
     ]
    }
   ],
   "source": [
    "for name, group in grouped:\n",
    "    print(name)\n",
    "    print('---------------------------')\n",
    "    print(group)"
   ]
  },
  {
   "cell_type": "markdown",
   "metadata": {},
   "source": [
    "- 利用类似dict一样对名字和对应的组进行迭代"
   ]
  },
  {
   "cell_type": "code",
   "execution_count": 198,
   "metadata": {
    "collapsed": false
   },
   "outputs": [
    {
     "data": {
      "text/plain": [
       "one\n",
       "a    3\n",
       "b    3\n",
       "c    2\n",
       "d    2\n",
       "dtype: int64"
      ]
     },
     "execution_count": 198,
     "metadata": {},
     "output_type": "execute_result"
    }
   ],
   "source": [
    "grouped.size()"
   ]
  },
  {
   "cell_type": "markdown",
   "metadata": {},
   "source": [
    "- 可以利用groupby对象的size()方法，来查看分组对象的信息\n",
    "- 在本例中，对应索引a,b,c,d的数据个数分别为：3,3,2,2"
   ]
  },
  {
   "cell_type": "code",
   "execution_count": 199,
   "metadata": {
    "collapsed": false
   },
   "outputs": [
    {
     "data": {
      "text/plain": [
       "one\n",
       "a   -1.494180\n",
       "b   -0.659403\n",
       "c   -0.249177\n",
       "d    1.107726\n",
       "dtype: float64"
      ]
     },
     "execution_count": 199,
     "metadata": {},
     "output_type": "execute_result"
    }
   ],
   "source": [
    "grouped.sum()"
   ]
  },
  {
   "cell_type": "markdown",
   "metadata": {},
   "source": [
    "- 对分好的组进行分组计算，之前的各种计算均可以直接应用"
   ]
  },
  {
   "cell_type": "code",
   "execution_count": 200,
   "metadata": {
    "collapsed": false
   },
   "outputs": [
    {
     "data": {
      "text/plain": [
       "one\n",
       "a   -1.494180\n",
       "b   -0.659403\n",
       "c   -0.249177\n",
       "d    1.107726\n",
       "dtype: float64"
      ]
     },
     "execution_count": 200,
     "metadata": {},
     "output_type": "execute_result"
    }
   ],
   "source": [
    "data.groupby(level='one').sum()"
   ]
  },
  {
   "cell_type": "markdown",
   "metadata": {},
   "source": [
    "- 可以合并为一条语句来写，其功能与data.sum(level = 'one')一样"
   ]
  },
  {
   "cell_type": "code",
   "execution_count": 201,
   "metadata": {
    "collapsed": false
   },
   "outputs": [
    {
     "name": "stdout",
     "output_type": "stream",
     "text": [
      "1\n",
      "-------------------\n",
      "one  two  three\n",
      "a    0    aa      -0.849212\n",
      "     1    aa      -1.117469\n",
      "     2    aa       0.472500\n",
      "b    0    aa      -1.272573\n",
      "     1    aa       0.252942\n",
      "dtype: float64\n",
      "2\n",
      "-------------------\n",
      "one  two  three\n",
      "b    2    bb       0.360228\n",
      "c    0    bb       0.425634\n",
      "     1    bb      -0.674811\n",
      "d    0    bb       1.335875\n",
      "     1    bb      -0.228149\n",
      "dtype: float64\n"
     ]
    }
   ],
   "source": [
    "key = [1,1,1,1,1,2,2,2,2,2]\n",
    "for name, group in data.groupby(key):\n",
    "    print(name)\n",
    "    print('-------------------')\n",
    "    print(group)"
   ]
  },
  {
   "cell_type": "markdown",
   "metadata": {},
   "source": [
    "- groupby()强大还在于可以利用任意序列或数组对数据进行分组，不需要该数据一定在数据表中，前提是要两者等长\n",
    "- 本例中用[1,1,1,1,1,2,2,2,2,2]将data进行分组"
   ]
  },
  {
   "cell_type": "markdown",
   "metadata": {},
   "source": [
    "### 2.2 对DataFrame进行分组计算"
   ]
  },
  {
   "cell_type": "code",
   "execution_count": 202,
   "metadata": {
    "collapsed": false
   },
   "outputs": [
    {
     "data": {
      "text/html": [
       "<div>\n",
       "<table border=\"1\" class=\"dataframe\">\n",
       "  <thead>\n",
       "    <tr>\n",
       "      <th></th>\n",
       "      <th>la</th>\n",
       "      <th colspan=\"2\" halign=\"left\">beijing</th>\n",
       "      <th>shanghai</th>\n",
       "    </tr>\n",
       "    <tr>\n",
       "      <th></th>\n",
       "      <th>lb</th>\n",
       "      <th>boy</th>\n",
       "      <th>girl</th>\n",
       "      <th>boy</th>\n",
       "    </tr>\n",
       "    <tr>\n",
       "      <th>one</th>\n",
       "      <th>two</th>\n",
       "      <th></th>\n",
       "      <th></th>\n",
       "      <th></th>\n",
       "    </tr>\n",
       "  </thead>\n",
       "  <tbody>\n",
       "    <tr>\n",
       "      <th rowspan=\"2\" valign=\"top\">a</th>\n",
       "      <th>1</th>\n",
       "      <td>-0.226582</td>\n",
       "      <td>-0.858561</td>\n",
       "      <td>-1.849417</td>\n",
       "    </tr>\n",
       "    <tr>\n",
       "      <th>2</th>\n",
       "      <td>0.653603</td>\n",
       "      <td>-1.096843</td>\n",
       "      <td>-1.113718</td>\n",
       "    </tr>\n",
       "    <tr>\n",
       "      <th rowspan=\"2\" valign=\"top\">b</th>\n",
       "      <th>1</th>\n",
       "      <td>-1.196253</td>\n",
       "      <td>-2.840656</td>\n",
       "      <td>-2.057308</td>\n",
       "    </tr>\n",
       "    <tr>\n",
       "      <th>2</th>\n",
       "      <td>-0.758351</td>\n",
       "      <td>-1.166275</td>\n",
       "      <td>-0.464505</td>\n",
       "    </tr>\n",
       "    <tr>\n",
       "      <th rowspan=\"2\" valign=\"top\">c</th>\n",
       "      <th>1</th>\n",
       "      <td>1.419848</td>\n",
       "      <td>-1.046008</td>\n",
       "      <td>-1.126064</td>\n",
       "    </tr>\n",
       "    <tr>\n",
       "      <th>2</th>\n",
       "      <td>-1.613154</td>\n",
       "      <td>1.410900</td>\n",
       "      <td>-1.241607</td>\n",
       "    </tr>\n",
       "  </tbody>\n",
       "</table>\n",
       "</div>"
      ],
      "text/plain": [
       "la        beijing            shanghai\n",
       "lb            boy      girl       boy\n",
       "one two                              \n",
       "a   1   -0.226582 -0.858561 -1.849417\n",
       "    2    0.653603 -1.096843 -1.113718\n",
       "b   1   -1.196253 -2.840656 -2.057308\n",
       "    2   -0.758351 -1.166275 -0.464505\n",
       "c   1    1.419848 -1.046008 -1.126064\n",
       "    2   -1.613154  1.410900 -1.241607"
      ]
     },
     "execution_count": 202,
     "metadata": {},
     "output_type": "execute_result"
    }
   ],
   "source": [
    "df"
   ]
  },
  {
   "cell_type": "markdown",
   "metadata": {},
   "source": [
    "- 用先前已经添加index及colums的name的DataFrame对象作为例子"
   ]
  },
  {
   "cell_type": "code",
   "execution_count": 226,
   "metadata": {
    "collapsed": false
   },
   "outputs": [
    {
     "data": {
      "text/plain": [
       "one\n",
       "a    2\n",
       "b    2\n",
       "c    2\n",
       "dtype: int64"
      ]
     },
     "execution_count": 226,
     "metadata": {},
     "output_type": "execute_result"
    }
   ],
   "source": [
    "df_grouped = df.groupby(level = 'one')\n",
    "df_grouped.size()"
   ]
  },
  {
   "cell_type": "markdown",
   "metadata": {},
   "source": [
    "- 对DataFrame对象进行groupby()与前述Series类似\n",
    "- 本例中以index为'a'的行进行分组\n",
    "- 利用size()函数显示：index为'a'的数据为2行，'b'的数据为两行"
   ]
  },
  {
   "cell_type": "code",
   "execution_count": 204,
   "metadata": {
    "collapsed": false
   },
   "outputs": [
    {
     "name": "stdout",
     "output_type": "stream",
     "text": [
      "a\n",
      "---------------------\n",
      "la        beijing            shanghai\n",
      "lb            boy      girl       boy\n",
      "one two                              \n",
      "a   1   -0.226582 -0.858561 -1.849417\n",
      "    2    0.653603 -1.096843 -1.113718\n",
      "b\n",
      "---------------------\n",
      "la        beijing            shanghai\n",
      "lb            boy      girl       boy\n",
      "one two                              \n",
      "b   1   -1.196253 -2.840656 -2.057308\n",
      "    2   -0.758351 -1.166275 -0.464505\n",
      "c\n",
      "---------------------\n",
      "la        beijing            shanghai\n",
      "lb            boy      girl       boy\n",
      "one two                              \n",
      "c   1    1.419848 -1.046008 -1.126064\n",
      "    2   -1.613154  1.410900 -1.241607\n"
     ]
    }
   ],
   "source": [
    "for name, group in df_grouped:\n",
    "    print(name)\n",
    "    print('---------------------')\n",
    "    print(group)"
   ]
  },
  {
   "cell_type": "markdown",
   "metadata": {},
   "source": [
    "- 依然可以对grouped对象进行迭代\n",
    "- 可以看出DataFrame已经基于'one'这个index进行了分组"
   ]
  },
  {
   "cell_type": "code",
   "execution_count": 205,
   "metadata": {
    "collapsed": false
   },
   "outputs": [
    {
     "data": {
      "text/html": [
       "<div>\n",
       "<table border=\"1\" class=\"dataframe\">\n",
       "  <thead>\n",
       "    <tr>\n",
       "      <th>la</th>\n",
       "      <th colspan=\"2\" halign=\"left\">beijing</th>\n",
       "      <th>shanghai</th>\n",
       "    </tr>\n",
       "    <tr>\n",
       "      <th>lb</th>\n",
       "      <th>boy</th>\n",
       "      <th>girl</th>\n",
       "      <th>boy</th>\n",
       "    </tr>\n",
       "    <tr>\n",
       "      <th>one</th>\n",
       "      <th></th>\n",
       "      <th></th>\n",
       "      <th></th>\n",
       "    </tr>\n",
       "  </thead>\n",
       "  <tbody>\n",
       "    <tr>\n",
       "      <th>a</th>\n",
       "      <td>0.427021</td>\n",
       "      <td>-1.955404</td>\n",
       "      <td>-2.963135</td>\n",
       "    </tr>\n",
       "    <tr>\n",
       "      <th>b</th>\n",
       "      <td>-1.954603</td>\n",
       "      <td>-4.006931</td>\n",
       "      <td>-2.521813</td>\n",
       "    </tr>\n",
       "    <tr>\n",
       "      <th>c</th>\n",
       "      <td>-0.193305</td>\n",
       "      <td>0.364892</td>\n",
       "      <td>-2.367671</td>\n",
       "    </tr>\n",
       "  </tbody>\n",
       "</table>\n",
       "</div>"
      ],
      "text/plain": [
       "la    beijing            shanghai\n",
       "lb        boy      girl       boy\n",
       "one                              \n",
       "a    0.427021 -1.955404 -2.963135\n",
       "b   -1.954603 -4.006931 -2.521813\n",
       "c   -0.193305  0.364892 -2.367671"
      ]
     },
     "execution_count": 205,
     "metadata": {},
     "output_type": "execute_result"
    }
   ],
   "source": [
    "df_grouped.sum()"
   ]
  },
  {
   "cell_type": "markdown",
   "metadata": {},
   "source": [
    "- 可以对分组应用各种计算函数\n",
    "- 本例中是sum()函数"
   ]
  },
  {
   "cell_type": "code",
   "execution_count": 206,
   "metadata": {
    "collapsed": false
   },
   "outputs": [
    {
     "data": {
      "text/html": [
       "<div>\n",
       "<table border=\"1\" class=\"dataframe\">\n",
       "  <thead>\n",
       "    <tr style=\"text-align: right;\">\n",
       "      <th></th>\n",
       "      <th>la</th>\n",
       "      <th>beijing</th>\n",
       "      <th>shanghai</th>\n",
       "    </tr>\n",
       "    <tr>\n",
       "      <th>one</th>\n",
       "      <th>two</th>\n",
       "      <th></th>\n",
       "      <th></th>\n",
       "    </tr>\n",
       "  </thead>\n",
       "  <tbody>\n",
       "    <tr>\n",
       "      <th rowspan=\"2\" valign=\"top\">a</th>\n",
       "      <th>1</th>\n",
       "      <td>-1.085143</td>\n",
       "      <td>-1.849417</td>\n",
       "    </tr>\n",
       "    <tr>\n",
       "      <th>2</th>\n",
       "      <td>-0.443240</td>\n",
       "      <td>-1.113718</td>\n",
       "    </tr>\n",
       "    <tr>\n",
       "      <th rowspan=\"2\" valign=\"top\">b</th>\n",
       "      <th>1</th>\n",
       "      <td>-4.036908</td>\n",
       "      <td>-2.057308</td>\n",
       "    </tr>\n",
       "    <tr>\n",
       "      <th>2</th>\n",
       "      <td>-1.924626</td>\n",
       "      <td>-0.464505</td>\n",
       "    </tr>\n",
       "    <tr>\n",
       "      <th rowspan=\"2\" valign=\"top\">c</th>\n",
       "      <th>1</th>\n",
       "      <td>0.373841</td>\n",
       "      <td>-1.126064</td>\n",
       "    </tr>\n",
       "    <tr>\n",
       "      <th>2</th>\n",
       "      <td>-0.202254</td>\n",
       "      <td>-1.241607</td>\n",
       "    </tr>\n",
       "  </tbody>\n",
       "</table>\n",
       "</div>"
      ],
      "text/plain": [
       "la        beijing  shanghai\n",
       "one two                    \n",
       "a   1   -1.085143 -1.849417\n",
       "    2   -0.443240 -1.113718\n",
       "b   1   -4.036908 -2.057308\n",
       "    2   -1.924626 -0.464505\n",
       "c   1    0.373841 -1.126064\n",
       "    2   -0.202254 -1.241607"
      ]
     },
     "execution_count": 206,
     "metadata": {},
     "output_type": "execute_result"
    }
   ],
   "source": [
    "df.groupby(level = 'la', axis = 1).sum()"
   ]
  },
  {
   "cell_type": "markdown",
   "metadata": {},
   "source": [
    "- 可以在groupby()函数中指定axis=1，选取columns的name作为分组基准\n",
    "- 本例中，选取name为'la'的columns索引作为分组基准进行分组及计算sum()"
   ]
  },
  {
   "cell_type": "code",
   "execution_count": 208,
   "metadata": {
    "collapsed": false
   },
   "outputs": [
    {
     "data": {
      "text/html": [
       "<div>\n",
       "<table border=\"1\" class=\"dataframe\">\n",
       "  <thead>\n",
       "    <tr>\n",
       "      <th></th>\n",
       "      <th>la</th>\n",
       "      <th colspan=\"2\" halign=\"left\">beijing</th>\n",
       "      <th>shanghai</th>\n",
       "      <th>key1</th>\n",
       "    </tr>\n",
       "    <tr>\n",
       "      <th></th>\n",
       "      <th>lb</th>\n",
       "      <th>boy</th>\n",
       "      <th>girl</th>\n",
       "      <th>boy</th>\n",
       "      <th></th>\n",
       "    </tr>\n",
       "    <tr>\n",
       "      <th>one</th>\n",
       "      <th>two</th>\n",
       "      <th></th>\n",
       "      <th></th>\n",
       "      <th></th>\n",
       "      <th></th>\n",
       "    </tr>\n",
       "  </thead>\n",
       "  <tbody>\n",
       "    <tr>\n",
       "      <th rowspan=\"2\" valign=\"top\">a</th>\n",
       "      <th>1</th>\n",
       "      <td>-0.226582</td>\n",
       "      <td>-0.858561</td>\n",
       "      <td>-1.849417</td>\n",
       "      <td>male</td>\n",
       "    </tr>\n",
       "    <tr>\n",
       "      <th>2</th>\n",
       "      <td>0.653603</td>\n",
       "      <td>-1.096843</td>\n",
       "      <td>-1.113718</td>\n",
       "      <td>famale</td>\n",
       "    </tr>\n",
       "    <tr>\n",
       "      <th rowspan=\"2\" valign=\"top\">b</th>\n",
       "      <th>1</th>\n",
       "      <td>-1.196253</td>\n",
       "      <td>-2.840656</td>\n",
       "      <td>-2.057308</td>\n",
       "      <td>male</td>\n",
       "    </tr>\n",
       "    <tr>\n",
       "      <th>2</th>\n",
       "      <td>-0.758351</td>\n",
       "      <td>-1.166275</td>\n",
       "      <td>-0.464505</td>\n",
       "      <td>famale</td>\n",
       "    </tr>\n",
       "    <tr>\n",
       "      <th rowspan=\"2\" valign=\"top\">c</th>\n",
       "      <th>1</th>\n",
       "      <td>1.419848</td>\n",
       "      <td>-1.046008</td>\n",
       "      <td>-1.126064</td>\n",
       "      <td>male</td>\n",
       "    </tr>\n",
       "    <tr>\n",
       "      <th>2</th>\n",
       "      <td>-1.613154</td>\n",
       "      <td>1.410900</td>\n",
       "      <td>-1.241607</td>\n",
       "      <td>male</td>\n",
       "    </tr>\n",
       "  </tbody>\n",
       "</table>\n",
       "</div>"
      ],
      "text/plain": [
       "la        beijing            shanghai    key1\n",
       "lb            boy      girl       boy        \n",
       "one two                                      \n",
       "a   1   -0.226582 -0.858561 -1.849417    male\n",
       "    2    0.653603 -1.096843 -1.113718  famale\n",
       "b   1   -1.196253 -2.840656 -2.057308    male\n",
       "    2   -0.758351 -1.166275 -0.464505  famale\n",
       "c   1    1.419848 -1.046008 -1.126064    male\n",
       "    2   -1.613154  1.410900 -1.241607    male"
      ]
     },
     "execution_count": 208,
     "metadata": {},
     "output_type": "execute_result"
    }
   ],
   "source": [
    "df['key1'] = ['male', 'famale', 'male', 'famale','male', 'male']\n",
    "df"
   ]
  },
  {
   "cell_type": "markdown",
   "metadata": {},
   "source": [
    "- 为df增加一列"
   ]
  },
  {
   "cell_type": "code",
   "execution_count": 209,
   "metadata": {
    "collapsed": false
   },
   "outputs": [
    {
     "data": {
      "text/html": [
       "<div>\n",
       "<table border=\"1\" class=\"dataframe\">\n",
       "  <thead>\n",
       "    <tr>\n",
       "      <th>la</th>\n",
       "      <th colspan=\"2\" halign=\"left\">beijing</th>\n",
       "      <th>shanghai</th>\n",
       "    </tr>\n",
       "    <tr>\n",
       "      <th>lb</th>\n",
       "      <th>boy</th>\n",
       "      <th>girl</th>\n",
       "      <th>boy</th>\n",
       "    </tr>\n",
       "    <tr>\n",
       "      <th>key1</th>\n",
       "      <th></th>\n",
       "      <th></th>\n",
       "      <th></th>\n",
       "    </tr>\n",
       "  </thead>\n",
       "  <tbody>\n",
       "    <tr>\n",
       "      <th>famale</th>\n",
       "      <td>-0.052374</td>\n",
       "      <td>-1.131559</td>\n",
       "      <td>-0.789112</td>\n",
       "    </tr>\n",
       "    <tr>\n",
       "      <th>male</th>\n",
       "      <td>-0.404035</td>\n",
       "      <td>-0.833581</td>\n",
       "      <td>-1.568599</td>\n",
       "    </tr>\n",
       "  </tbody>\n",
       "</table>\n",
       "</div>"
      ],
      "text/plain": [
       "la       beijing            shanghai\n",
       "lb           boy      girl       boy\n",
       "key1                                \n",
       "famale -0.052374 -1.131559 -0.789112\n",
       "male   -0.404035 -0.833581 -1.568599"
      ]
     },
     "execution_count": 209,
     "metadata": {},
     "output_type": "execute_result"
    }
   ],
   "source": [
    "df.groupby('key1').mean()"
   ]
  },
  {
   "cell_type": "markdown",
   "metadata": {},
   "source": [
    "- groupby()函数中参数可直接为columns中某列的索引，此时以某列为基准进行分组计算，"
   ]
  },
  {
   "cell_type": "code",
   "execution_count": 211,
   "metadata": {
    "collapsed": false
   },
   "outputs": [
    {
     "data": {
      "text/html": [
       "<div>\n",
       "<table border=\"1\" class=\"dataframe\">\n",
       "  <thead>\n",
       "    <tr>\n",
       "      <th>la</th>\n",
       "      <th colspan=\"2\" halign=\"left\">beijing</th>\n",
       "      <th>shanghai</th>\n",
       "    </tr>\n",
       "    <tr>\n",
       "      <th>lb</th>\n",
       "      <th>boy</th>\n",
       "      <th>girl</th>\n",
       "      <th>boy</th>\n",
       "    </tr>\n",
       "  </thead>\n",
       "  <tbody>\n",
       "    <tr>\n",
       "      <th>abc</th>\n",
       "      <td>-0.298053</td>\n",
       "      <td>-1.898226</td>\n",
       "      <td>-3.945894</td>\n",
       "    </tr>\n",
       "    <tr>\n",
       "      <th>bat</th>\n",
       "      <td>-1.422835</td>\n",
       "      <td>-3.699217</td>\n",
       "      <td>-3.906725</td>\n",
       "    </tr>\n",
       "  </tbody>\n",
       "</table>\n",
       "</div>"
      ],
      "text/plain": [
       "la    beijing            shanghai\n",
       "lb        boy      girl       boy\n",
       "abc -0.298053 -1.898226 -3.945894\n",
       "bat -1.422835 -3.699217 -3.906725"
      ]
     },
     "execution_count": 211,
     "metadata": {},
     "output_type": "execute_result"
    }
   ],
   "source": [
    "key2 = ['bat','abc','bat','abc','abc','abc']\n",
    "df.groupby(key2).sum()"
   ]
  },
  {
   "cell_type": "markdown",
   "metadata": {},
   "source": [
    "- 与前面Series对象的分组类似，利用任意序列或数组对DataFrame数据进行分组计算，不需要该数据一定在数据表中，前提是要两者等长"
   ]
  },
  {
   "cell_type": "code",
   "execution_count": 212,
   "metadata": {
    "collapsed": false
   },
   "outputs": [
    {
     "data": {
      "text/html": [
       "<div>\n",
       "<table border=\"1\" class=\"dataframe\">\n",
       "  <thead>\n",
       "    <tr>\n",
       "      <th></th>\n",
       "      <th>la</th>\n",
       "      <th colspan=\"2\" halign=\"left\">beijing</th>\n",
       "      <th>shanghai</th>\n",
       "      <th>key1</th>\n",
       "    </tr>\n",
       "    <tr>\n",
       "      <th></th>\n",
       "      <th>lb</th>\n",
       "      <th>boy</th>\n",
       "      <th>girl</th>\n",
       "      <th>boy</th>\n",
       "      <th></th>\n",
       "    </tr>\n",
       "    <tr>\n",
       "      <th>one</th>\n",
       "      <th>two</th>\n",
       "      <th></th>\n",
       "      <th></th>\n",
       "      <th></th>\n",
       "      <th></th>\n",
       "    </tr>\n",
       "  </thead>\n",
       "  <tbody>\n",
       "    <tr>\n",
       "      <th rowspan=\"2\" valign=\"top\">a</th>\n",
       "      <th>1</th>\n",
       "      <td>-0.226582</td>\n",
       "      <td>-0.858561</td>\n",
       "      <td>-1.849417</td>\n",
       "      <td>male</td>\n",
       "    </tr>\n",
       "    <tr>\n",
       "      <th>2</th>\n",
       "      <td>0.653603</td>\n",
       "      <td>-1.096843</td>\n",
       "      <td>-1.113718</td>\n",
       "      <td>famale</td>\n",
       "    </tr>\n",
       "    <tr>\n",
       "      <th rowspan=\"2\" valign=\"top\">b</th>\n",
       "      <th>1</th>\n",
       "      <td>-1.196253</td>\n",
       "      <td>-2.840656</td>\n",
       "      <td>-2.057308</td>\n",
       "      <td>male</td>\n",
       "    </tr>\n",
       "    <tr>\n",
       "      <th>2</th>\n",
       "      <td>-0.758351</td>\n",
       "      <td>-1.166275</td>\n",
       "      <td>-0.464505</td>\n",
       "      <td>famale</td>\n",
       "    </tr>\n",
       "    <tr>\n",
       "      <th rowspan=\"2\" valign=\"top\">c</th>\n",
       "      <th>1</th>\n",
       "      <td>1.419848</td>\n",
       "      <td>-1.046008</td>\n",
       "      <td>-1.126064</td>\n",
       "      <td>male</td>\n",
       "    </tr>\n",
       "    <tr>\n",
       "      <th>2</th>\n",
       "      <td>-1.613154</td>\n",
       "      <td>1.410900</td>\n",
       "      <td>-1.241607</td>\n",
       "      <td>male</td>\n",
       "    </tr>\n",
       "  </tbody>\n",
       "</table>\n",
       "</div>"
      ],
      "text/plain": [
       "la        beijing            shanghai    key1\n",
       "lb            boy      girl       boy        \n",
       "one two                                      \n",
       "a   1   -0.226582 -0.858561 -1.849417    male\n",
       "    2    0.653603 -1.096843 -1.113718  famale\n",
       "b   1   -1.196253 -2.840656 -2.057308    male\n",
       "    2   -0.758351 -1.166275 -0.464505  famale\n",
       "c   1    1.419848 -1.046008 -1.126064    male\n",
       "    2   -1.613154  1.410900 -1.241607    male"
      ]
     },
     "execution_count": 212,
     "metadata": {},
     "output_type": "execute_result"
    }
   ],
   "source": [
    "df"
   ]
  },
  {
   "cell_type": "code",
   "execution_count": 222,
   "metadata": {
    "collapsed": false
   },
   "outputs": [
    {
     "data": {
      "text/html": [
       "<div>\n",
       "<table border=\"1\" class=\"dataframe\">\n",
       "  <thead>\n",
       "    <tr>\n",
       "      <th></th>\n",
       "      <th>la</th>\n",
       "      <th colspan=\"2\" halign=\"left\">beijing</th>\n",
       "      <th>shanghai</th>\n",
       "      <th>key1</th>\n",
       "      <th>key2</th>\n",
       "    </tr>\n",
       "    <tr>\n",
       "      <th></th>\n",
       "      <th>lb</th>\n",
       "      <th>boy</th>\n",
       "      <th>girl</th>\n",
       "      <th>boy</th>\n",
       "      <th></th>\n",
       "      <th></th>\n",
       "    </tr>\n",
       "    <tr>\n",
       "      <th>one</th>\n",
       "      <th>two</th>\n",
       "      <th></th>\n",
       "      <th></th>\n",
       "      <th></th>\n",
       "      <th></th>\n",
       "      <th></th>\n",
       "    </tr>\n",
       "  </thead>\n",
       "  <tbody>\n",
       "    <tr>\n",
       "      <th rowspan=\"2\" valign=\"top\">a</th>\n",
       "      <th>1</th>\n",
       "      <td>-0.226582</td>\n",
       "      <td>-0.858561</td>\n",
       "      <td>-1.849417</td>\n",
       "      <td>male</td>\n",
       "      <td>bat</td>\n",
       "    </tr>\n",
       "    <tr>\n",
       "      <th>2</th>\n",
       "      <td>0.653603</td>\n",
       "      <td>-1.096843</td>\n",
       "      <td>-1.113718</td>\n",
       "      <td>famale</td>\n",
       "      <td>abc</td>\n",
       "    </tr>\n",
       "    <tr>\n",
       "      <th rowspan=\"2\" valign=\"top\">b</th>\n",
       "      <th>1</th>\n",
       "      <td>-1.196253</td>\n",
       "      <td>-2.840656</td>\n",
       "      <td>-2.057308</td>\n",
       "      <td>male</td>\n",
       "      <td>bat</td>\n",
       "    </tr>\n",
       "    <tr>\n",
       "      <th>2</th>\n",
       "      <td>-0.758351</td>\n",
       "      <td>-1.166275</td>\n",
       "      <td>-0.464505</td>\n",
       "      <td>famale</td>\n",
       "      <td>abc</td>\n",
       "    </tr>\n",
       "    <tr>\n",
       "      <th rowspan=\"2\" valign=\"top\">c</th>\n",
       "      <th>1</th>\n",
       "      <td>1.419848</td>\n",
       "      <td>-1.046008</td>\n",
       "      <td>-1.126064</td>\n",
       "      <td>male</td>\n",
       "      <td>abc</td>\n",
       "    </tr>\n",
       "    <tr>\n",
       "      <th>2</th>\n",
       "      <td>-1.613154</td>\n",
       "      <td>1.410900</td>\n",
       "      <td>-1.241607</td>\n",
       "      <td>male</td>\n",
       "      <td>abc</td>\n",
       "    </tr>\n",
       "  </tbody>\n",
       "</table>\n",
       "</div>"
      ],
      "text/plain": [
       "la        beijing            shanghai    key1 key2\n",
       "lb            boy      girl       boy             \n",
       "one two                                           \n",
       "a   1   -0.226582 -0.858561 -1.849417    male  bat\n",
       "    2    0.653603 -1.096843 -1.113718  famale  abc\n",
       "b   1   -1.196253 -2.840656 -2.057308    male  bat\n",
       "    2   -0.758351 -1.166275 -0.464505  famale  abc\n",
       "c   1    1.419848 -1.046008 -1.126064    male  abc\n",
       "    2   -1.613154  1.410900 -1.241607    male  abc"
      ]
     },
     "execution_count": 222,
     "metadata": {},
     "output_type": "execute_result"
    }
   ],
   "source": [
    "df['key2'] = ['bat','abc','bat','abc', 'abc', 'abc']\n",
    "df"
   ]
  },
  {
   "cell_type": "markdown",
   "metadata": {},
   "source": [
    "- 为df再增加一列"
   ]
  },
  {
   "cell_type": "code",
   "execution_count": 223,
   "metadata": {
    "collapsed": false
   },
   "outputs": [
    {
     "data": {
      "text/html": [
       "<div>\n",
       "<table border=\"1\" class=\"dataframe\">\n",
       "  <thead>\n",
       "    <tr>\n",
       "      <th></th>\n",
       "      <th>la</th>\n",
       "      <th colspan=\"2\" halign=\"left\">beijing</th>\n",
       "      <th>shanghai</th>\n",
       "    </tr>\n",
       "    <tr>\n",
       "      <th></th>\n",
       "      <th>lb</th>\n",
       "      <th>boy</th>\n",
       "      <th>girl</th>\n",
       "      <th>boy</th>\n",
       "    </tr>\n",
       "    <tr>\n",
       "      <th>key1</th>\n",
       "      <th>key2</th>\n",
       "      <th></th>\n",
       "      <th></th>\n",
       "      <th></th>\n",
       "    </tr>\n",
       "  </thead>\n",
       "  <tbody>\n",
       "    <tr>\n",
       "      <th>famale</th>\n",
       "      <th>abc</th>\n",
       "      <td>-0.052374</td>\n",
       "      <td>-1.131559</td>\n",
       "      <td>-0.789112</td>\n",
       "    </tr>\n",
       "    <tr>\n",
       "      <th rowspan=\"2\" valign=\"top\">male</th>\n",
       "      <th>abc</th>\n",
       "      <td>-0.096653</td>\n",
       "      <td>0.182446</td>\n",
       "      <td>-1.183836</td>\n",
       "    </tr>\n",
       "    <tr>\n",
       "      <th>bat</th>\n",
       "      <td>-0.711417</td>\n",
       "      <td>-1.849608</td>\n",
       "      <td>-1.953362</td>\n",
       "    </tr>\n",
       "  </tbody>\n",
       "</table>\n",
       "</div>"
      ],
      "text/plain": [
       "la            beijing            shanghai\n",
       "lb                boy      girl       boy\n",
       "key1   key2                              \n",
       "famale abc  -0.052374 -1.131559 -0.789112\n",
       "male   abc  -0.096653  0.182446 -1.183836\n",
       "       bat  -0.711417 -1.849608 -1.953362"
      ]
     },
     "execution_count": 223,
     "metadata": {},
     "output_type": "execute_result"
    }
   ],
   "source": [
    "df.groupby(['key1', 'key2']).mean()"
   ]
  },
  {
   "cell_type": "markdown",
   "metadata": {},
   "source": [
    "- 可以利用两或多个索引进行分组和计算"
   ]
  },
  {
   "cell_type": "markdown",
   "metadata": {},
   "source": [
    "- 有关分组聚合应用的进一步使用，可参考官方文档"
   ]
  },
  {
   "cell_type": "markdown",
   "metadata": {},
   "source": [
    "## 3. 透视表(Pivot table)\n",
    "是各种电子表格程序和其他数据分析软件中一种常见的数据汇总工具，可以动态地根据一\n",
    "个或多个键对数据进行聚合改变它们的版面布置，并根据行和列上的分组键将数据分配到各个矩形区域，以便按照不同方式分析数据。"
   ]
  },
  {
   "cell_type": "code",
   "execution_count": 234,
   "metadata": {
    "collapsed": false
   },
   "outputs": [
    {
     "data": {
      "text/html": [
       "<div>\n",
       "<table border=\"1\" class=\"dataframe\">\n",
       "  <thead>\n",
       "    <tr style=\"text-align: right;\">\n",
       "      <th></th>\n",
       "      <th>A</th>\n",
       "      <th>B</th>\n",
       "      <th>C</th>\n",
       "      <th>D</th>\n",
       "      <th>E</th>\n",
       "    </tr>\n",
       "  </thead>\n",
       "  <tbody>\n",
       "    <tr>\n",
       "      <th>0</th>\n",
       "      <td>one</td>\n",
       "      <td>A</td>\n",
       "      <td>foo</td>\n",
       "      <td>0.252884</td>\n",
       "      <td>0.336282</td>\n",
       "    </tr>\n",
       "    <tr>\n",
       "      <th>1</th>\n",
       "      <td>one</td>\n",
       "      <td>B</td>\n",
       "      <td>foo</td>\n",
       "      <td>-0.119435</td>\n",
       "      <td>-0.222245</td>\n",
       "    </tr>\n",
       "    <tr>\n",
       "      <th>2</th>\n",
       "      <td>two</td>\n",
       "      <td>C</td>\n",
       "      <td>foo</td>\n",
       "      <td>0.130536</td>\n",
       "      <td>2.150678</td>\n",
       "    </tr>\n",
       "    <tr>\n",
       "      <th>3</th>\n",
       "      <td>three</td>\n",
       "      <td>A</td>\n",
       "      <td>bar</td>\n",
       "      <td>-1.801965</td>\n",
       "      <td>0.866635</td>\n",
       "    </tr>\n",
       "    <tr>\n",
       "      <th>4</th>\n",
       "      <td>one</td>\n",
       "      <td>B</td>\n",
       "      <td>bar</td>\n",
       "      <td>0.724717</td>\n",
       "      <td>2.154735</td>\n",
       "    </tr>\n",
       "    <tr>\n",
       "      <th>5</th>\n",
       "      <td>one</td>\n",
       "      <td>C</td>\n",
       "      <td>bar</td>\n",
       "      <td>0.713373</td>\n",
       "      <td>-0.538733</td>\n",
       "    </tr>\n",
       "    <tr>\n",
       "      <th>6</th>\n",
       "      <td>two</td>\n",
       "      <td>A</td>\n",
       "      <td>foo</td>\n",
       "      <td>-0.063114</td>\n",
       "      <td>0.026495</td>\n",
       "    </tr>\n",
       "    <tr>\n",
       "      <th>7</th>\n",
       "      <td>three</td>\n",
       "      <td>B</td>\n",
       "      <td>foo</td>\n",
       "      <td>-0.505313</td>\n",
       "      <td>0.779623</td>\n",
       "    </tr>\n",
       "    <tr>\n",
       "      <th>8</th>\n",
       "      <td>one</td>\n",
       "      <td>C</td>\n",
       "      <td>foo</td>\n",
       "      <td>-0.053516</td>\n",
       "      <td>0.256542</td>\n",
       "    </tr>\n",
       "    <tr>\n",
       "      <th>9</th>\n",
       "      <td>one</td>\n",
       "      <td>A</td>\n",
       "      <td>bar</td>\n",
       "      <td>0.630396</td>\n",
       "      <td>0.424185</td>\n",
       "    </tr>\n",
       "    <tr>\n",
       "      <th>10</th>\n",
       "      <td>two</td>\n",
       "      <td>B</td>\n",
       "      <td>bar</td>\n",
       "      <td>0.195592</td>\n",
       "      <td>0.971294</td>\n",
       "    </tr>\n",
       "    <tr>\n",
       "      <th>11</th>\n",
       "      <td>three</td>\n",
       "      <td>C</td>\n",
       "      <td>bar</td>\n",
       "      <td>-0.209705</td>\n",
       "      <td>-1.513072</td>\n",
       "    </tr>\n",
       "  </tbody>\n",
       "</table>\n",
       "</div>"
      ],
      "text/plain": [
       "        A  B    C         D         E\n",
       "0     one  A  foo  0.252884  0.336282\n",
       "1     one  B  foo -0.119435 -0.222245\n",
       "2     two  C  foo  0.130536  2.150678\n",
       "3   three  A  bar -1.801965  0.866635\n",
       "4     one  B  bar  0.724717  2.154735\n",
       "5     one  C  bar  0.713373 -0.538733\n",
       "6     two  A  foo -0.063114  0.026495\n",
       "7   three  B  foo -0.505313  0.779623\n",
       "8     one  C  foo -0.053516  0.256542\n",
       "9     one  A  bar  0.630396  0.424185\n",
       "10    two  B  bar  0.195592  0.971294\n",
       "11  three  C  bar -0.209705 -1.513072"
      ]
     },
     "execution_count": 234,
     "metadata": {},
     "output_type": "execute_result"
    }
   ],
   "source": [
    "df = pd.DataFrame({'A' : ['one', 'one', 'two', 'three'] * 3,\n",
    "     'B' : ['A', 'B', 'C'] * 4,\n",
    "     'C' : ['foo', 'foo', 'foo', 'bar', 'bar', 'bar'] * 2,\n",
    "     'D' : np.random.randn(12),\n",
    "     'E' : np.random.randn(12)})\n",
    "df"
   ]
  },
  {
   "cell_type": "markdown",
   "metadata": {},
   "source": [
    "- 利用dict新建立一个DataFrame对象"
   ]
  },
  {
   "cell_type": "code",
   "execution_count": 239,
   "metadata": {
    "collapsed": false
   },
   "outputs": [
    {
     "data": {
      "text/html": [
       "<div>\n",
       "<table border=\"1\" class=\"dataframe\">\n",
       "  <thead>\n",
       "    <tr style=\"text-align: right;\">\n",
       "      <th></th>\n",
       "      <th>C</th>\n",
       "      <th>bar</th>\n",
       "      <th>foo</th>\n",
       "    </tr>\n",
       "    <tr>\n",
       "      <th>A</th>\n",
       "      <th>B</th>\n",
       "      <th></th>\n",
       "      <th></th>\n",
       "    </tr>\n",
       "  </thead>\n",
       "  <tbody>\n",
       "    <tr>\n",
       "      <th rowspan=\"3\" valign=\"top\">one</th>\n",
       "      <th>A</th>\n",
       "      <td>0.630396</td>\n",
       "      <td>0.252884</td>\n",
       "    </tr>\n",
       "    <tr>\n",
       "      <th>B</th>\n",
       "      <td>0.724717</td>\n",
       "      <td>-0.119435</td>\n",
       "    </tr>\n",
       "    <tr>\n",
       "      <th>C</th>\n",
       "      <td>0.713373</td>\n",
       "      <td>-0.053516</td>\n",
       "    </tr>\n",
       "    <tr>\n",
       "      <th rowspan=\"3\" valign=\"top\">three</th>\n",
       "      <th>A</th>\n",
       "      <td>-1.801965</td>\n",
       "      <td>NaN</td>\n",
       "    </tr>\n",
       "    <tr>\n",
       "      <th>B</th>\n",
       "      <td>NaN</td>\n",
       "      <td>-0.505313</td>\n",
       "    </tr>\n",
       "    <tr>\n",
       "      <th>C</th>\n",
       "      <td>-0.209705</td>\n",
       "      <td>NaN</td>\n",
       "    </tr>\n",
       "    <tr>\n",
       "      <th rowspan=\"3\" valign=\"top\">two</th>\n",
       "      <th>A</th>\n",
       "      <td>NaN</td>\n",
       "      <td>-0.063114</td>\n",
       "    </tr>\n",
       "    <tr>\n",
       "      <th>B</th>\n",
       "      <td>0.195592</td>\n",
       "      <td>NaN</td>\n",
       "    </tr>\n",
       "    <tr>\n",
       "      <th>C</th>\n",
       "      <td>NaN</td>\n",
       "      <td>0.130536</td>\n",
       "    </tr>\n",
       "  </tbody>\n",
       "</table>\n",
       "</div>"
      ],
      "text/plain": [
       "C             bar       foo\n",
       "A     B                    \n",
       "one   A  0.630396  0.252884\n",
       "      B  0.724717 -0.119435\n",
       "      C  0.713373 -0.053516\n",
       "three A -1.801965       NaN\n",
       "      B       NaN -0.505313\n",
       "      C -0.209705       NaN\n",
       "two   A       NaN -0.063114\n",
       "      B  0.195592       NaN\n",
       "      C       NaN  0.130536"
      ]
     },
     "execution_count": 239,
     "metadata": {},
     "output_type": "execute_result"
    }
   ],
   "source": [
    "pivot_df = df.pivot_table(values='D', index=['A', 'B'], columns=['C'])\n",
    "pivot_df"
   ]
  },
  {
   "cell_type": "markdown",
   "metadata": {},
   "source": [
    "- 利用pivot_table()函数，选择'D'列的数据，以['A', 'B']为index索引，以['C']为columns索引来列出数据\n",
    "- pivot_table()函数中的各个参数，均为可选参数，但index或columns必须至少有一个，其值作为透视分组的依据"
   ]
  },
  {
   "cell_type": "code",
   "execution_count": 242,
   "metadata": {
    "collapsed": false
   },
   "outputs": [
    {
     "data": {
      "text/plain": [
       "A      B\n",
       "one    A    0.630396\n",
       "       B    0.724717\n",
       "       C    0.713373\n",
       "three  A   -1.801965\n",
       "       B         NaN\n",
       "       C   -0.209705\n",
       "two    A         NaN\n",
       "       B    0.195592\n",
       "       C         NaN\n",
       "Name: bar, dtype: float64"
      ]
     },
     "execution_count": 242,
     "metadata": {},
     "output_type": "execute_result"
    }
   ],
   "source": [
    "pivot_df['bar']"
   ]
  },
  {
   "cell_type": "markdown",
   "metadata": {},
   "source": [
    "- 本例中pivot_table()函数透视的结果，仍然是DataFrame对象，因此可以对该DataFrame对象施加前面介绍的各类操作与计算"
   ]
  }
 ],
 "metadata": {
  "kernelspec": {
   "display_name": "Python 3",
   "language": "python",
   "name": "python3"
  },
  "language_info": {
   "codemirror_mode": {
    "name": "ipython",
    "version": 3
   },
   "file_extension": ".py",
   "mimetype": "text/x-python",
   "name": "python",
   "nbconvert_exporter": "python",
   "pygments_lexer": "ipython3",
   "version": "3.6.0"
  }
 },
 "nbformat": 4,
 "nbformat_minor": 2
}

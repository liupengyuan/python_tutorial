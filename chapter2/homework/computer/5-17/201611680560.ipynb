{
 "cells": [
  {
   "cell_type": "markdown",
   "metadata": {
    "deletable": true,
    "editable": true
   },
   "source": [
    "完整诗词游戏"
   ]
  },
  {
   "cell_type": "code",
   "execution_count": 4,
   "metadata": {
    "collapsed": true
   },
   "outputs": [],
   "source": [
    "def win():\n",
    "    print('win!')"
   ]
  },
  {
   "cell_type": "code",
   "execution_count": 5,
   "metadata": {
    "collapsed": true
   },
   "outputs": [],
   "source": [
    "def lose():\n",
    "    print('lose!')"
   ]
  },
  {
   "cell_type": "code",
   "execution_count": 1,
   "metadata": {
    "collapsed": true
   },
   "outputs": [],
   "source": [
    "def get_ch_table(line):   #返回汉字表\n",
    "    ch_table = []\n",
    "    for ch in line:\n",
    "        if ch not in ch_table:\n",
    "            ch_table.append(ch)\n",
    "    return ch_table"
   ]
  },
  {
   "cell_type": "code",
   "execution_count": 2,
   "metadata": {
    "collapsed": true
   },
   "outputs": [],
   "source": [
    "def poem_robot(file_name):   #打印打乱顺序的猜诗字表，并返回正确答案\n",
    "    with open(file_name) as fh:\n",
    "        text = fh.read()\n",
    "    poems = text.split()\n",
    "    poem = random.choice(poems)\n",
    "    chs = get_ch_table(text.replace(r'\\n', ''))\n",
    "\n",
    "    guess_ch_table = [ch for ch in poem]\n",
    "    n = len(guess_ch_table)\n",
    "    \n",
    "    if n == 5:\n",
    "        while len(guess_ch_table) < 9:\n",
    "            ch = random.choice(chs)\n",
    "            if ch not in guess_ch_table:\n",
    "                guess_ch_table.append(ch)\n",
    "                \n",
    "    if n == 7:\n",
    "        while len(guess_ch_table) < 12:\n",
    "            ch = random.choice(chs)\n",
    "            if ch not in guess_ch_table:\n",
    "                guess_ch_table.append(ch)\n",
    "    random.shuffle(guess_ch_table)\n",
    "    \n",
    "    print(guess_ch_table)\n",
    "    \n",
    "    return poem"
   ]
  },
  {
   "cell_type": "code",
   "execution_count": 3,
   "metadata": {
    "collapsed": true
   },
   "outputs": [],
   "source": [
    "def main():\n",
    "    filename = r'd:\\temp\\poems_correct.txt'\n",
    "    score = 10\n",
    "    while score >= 0:\n",
    "        real_poem = poem_robot(filename)\n",
    "        answer_poem = input('请输入猜测成语，回车结束，直接回车表示退出游戏：')\n",
    "        if answer_poem == real_poem:\n",
    "            print('答对了，加十分')\n",
    "            score += 10\n",
    "            print('你当前的分数是：', score)\n",
    "            if score == 100:\n",
    "                win()\n",
    "                return\n",
    "        elif answer_poem == '':\n",
    "            print('退出游戏。')\n",
    "            print('你最后的分数是：', score)\n",
    "            return\n",
    "        else:\n",
    "            score -= 10\n",
    "            print('答错了，减十分')\n",
    "            print('成语其实是：', real_poem)\n",
    "            print('你当前的分数是：', score)\n",
    "    else:\n",
    "        lose()\n",
    "        return\n",
    "\n",
    "if __name__ == '__main()__':\n",
    "    main()"
   ]
  }
 ],
 "metadata": {
  "kernelspec": {
   "display_name": "Python 3",
   "language": "python",
   "name": "python3"
  },
  "language_info": {
   "codemirror_mode": {
    "name": "ipython",
    "version": 3
   },
   "file_extension": ".py",
   "mimetype": "text/x-python",
   "name": "python",
   "nbconvert_exporter": "python",
   "pygments_lexer": "ipython3",
   "version": "3.6.0"
  }
 },
 "nbformat": 4,
 "nbformat_minor": 2
}

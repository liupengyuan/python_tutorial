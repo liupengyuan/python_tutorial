{
 "cells": [
  {
   "cell_type": "code",
   "execution_count": 2,
   "metadata": {
    "collapsed": false
   },
   "outputs": [
    {
     "name": "stdout",
     "output_type": "stream",
     "text": [
      "1\n",
      "1\n",
      "1\n",
      "1\n",
      "1\n",
      "1\n",
      "1\n",
      "1\n",
      "1\n",
      "1\n",
      "1\n",
      "11\n",
      "1\n",
      "10000000000000\n"
     ]
    },
    {
     "ename": "SystemExit",
     "evalue": "0",
     "output_type": "error",
     "traceback": [
      "An exception has occurred, use %tb to see the full traceback.\n",
      "\u001b[0;31mSystemExit\u001b[0m\u001b[0;31m:\u001b[0m 0\n"
     ]
    },
    {
     "name": "stderr",
     "output_type": "stream",
     "text": [
      "C:\\ProgramData\\Anaconda3\\lib\\site-packages\\IPython\\core\\interactiveshell.py:2889: UserWarning: To exit: use 'exit', 'quit', or Ctrl-D.\n",
      "  warn(\"To exit: use 'exit', 'quit', or Ctrl-D.\", stacklevel=1)\n"
     ]
    }
   ],
   "source": [
    "#练习2\n",
    "i = 0\n",
    "n = 0\n",
    "name = input('请输入你的姓名，以回车结束。')\n",
    "print('你好', name)\n",
    "num = int(input('请输入你想求和的整数的个数'))\n",
    "for i in range(num):\n",
    "    k = int(input())\n",
    "    n += k\n",
    "print('这些数的和是：', n)\n",
    "print('再见！', name)\n",
    "\n",
    "#练习3\n",
    "import sys\n",
    "i = 0\n",
    "a = dict()\n",
    "print(\"您可以输入“不想输入”来结束程序\")\n",
    "while True:\n",
    "    a[i] = input()\n",
    "    if a[i] == '不想输入':\n",
    "        sys.exit(0)\n",
    "    i += 1\n",
    "\n",
    "#练习4\n",
    "import sys\n",
    "sum_1 = 0\n",
    "sum_2 = 1\n",
    "while True:\n",
    "    n = input()\n",
    "    n = int(n)\n",
    "    if (sum_1 < n) and (sum_2 < (n**2)) :\n",
    "        sys.exit(0)\n",
    "    sum_1 += n\n",
    "    sum_2 *= n\n",
    "\n"
   ]
  }
 ],
 "metadata": {
  "kernelspec": {
   "display_name": "Python 3",
   "language": "python",
   "name": "python3"
  },
  "language_info": {
   "codemirror_mode": {
    "name": "ipython",
    "version": 3
   },
   "file_extension": ".py",
   "mimetype": "text/x-python",
   "name": "python",
   "nbconvert_exporter": "python",
   "pygments_lexer": "ipython3",
   "version": "3.6.0"
  }
 },
 "nbformat": 4,
 "nbformat_minor": 2
}

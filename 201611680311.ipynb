{
 "cells": [
  {
   "cell_type": "code",
   "execution_count": 2,
   "metadata": {
    "collapsed": false
   },
   "outputs": [
    {
     "name": "stdout",
     "output_type": "stream",
     "text": [
      "请输入一个数字1\n",
      "若想继续输入，请输入1；否则，请输入01\n",
      "目前所有数字的和为 1\n",
      "目前所有数字的积为 1\n",
      "请再次输入一个数字1\n",
      "目前所有数字的和为 2\n",
      "目前所有数字的积为 1\n",
      "是否继续输入，若是，请输入1；否则，请输入01\n",
      "请再次输入一个数字3\n",
      "目前所有数字的和为 5\n",
      "目前所有数字的积为 3\n",
      "是否继续输入，若是，请输入1；否则，请输入04\n",
      "结束输入\n",
      "再见！\n"
     ]
    }
   ],
   "source": [
    "#练习2\n",
    "name = input('请输入你的姓名，以回车结束。')\n",
    "print('你好', name)\n",
    "n = int(input('请输入你想输入的整数个数，以回车结束。'))\n",
    "i=0\n",
    "s=0\n",
    "while i<n:\n",
    "    m=int(input('请输入你想输入的整数，以回车结束。'))\n",
    "    s=s+m\n",
    "    i=i+1\n",
    "else:\n",
    "    print(s)"
   ]
  },
  {
   "cell_type": "code",
   "execution_count": null,
   "metadata": {
    "collapsed": true
   },
   "outputs": [],
   "source": [
    "#练习3\n",
    "n=int(input('您是否想输入数字，若是，请输入1；否则请输入0'))\n",
    "while n==1:\n",
    "    m=int(input('请输入一个数字')),\n",
    "    n=int(input('若您想继续输入，请输入1；否则请输入0'))\n",
    "else:\n",
    "    print('输入结束。')\n",
    "print('再见。')"
   ]
  },
  {
   "cell_type": "code",
   "execution_count": null,
   "metadata": {
    "collapsed": true
   },
   "outputs": [],
   "source": [
    "#练习4\n",
    "n=int(input('请输入一个数字'))\n",
    "m=int(input('若想继续输入，请输入1；否则，请输入0'))\n",
    "s=n\n",
    "p=n\n",
    "print('目前所有数字的和为',s)\n",
    "print('目前所有数字的积为',p)\n",
    "while m==1:\n",
    "    c=int(input('请再次输入一个数字'))\n",
    "    s=s+c\n",
    "    p=p*c\n",
    "    print('目前所有数字的和为',s)\n",
    "    print('目前所有数字的积为',p)\n",
    "    m=int(input('是否继续输入，若是，请输入1；否则，请输入0'))\n",
    "    if s<c and p<c**2:\n",
    "        print('结束')\n",
    "else:\n",
    "    print('结束输入')\n",
    "print('再见！')"
   ]
  }
 ],
 "metadata": {
  "kernelspec": {
   "display_name": "Python 3",
   "language": "python",
   "name": "python3"
  },
  "language_info": {
   "codemirror_mode": {
    "name": "ipython",
    "version": 3
   },
   "file_extension": ".py",
   "mimetype": "text/x-python",
   "name": "python",
   "nbconvert_exporter": "python",
   "pygments_lexer": "ipython3",
   "version": "3.6.0"
  }
 },
 "nbformat": 4,
 "nbformat_minor": 2
}

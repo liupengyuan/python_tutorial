{
 "cells": [
  {
   "cell_type": "code",
   "execution_count": null,
   "metadata": {
    "collapsed": true
   },
   "outputs": [],
   "source": [
    "练习3"
   ]
  },
  {
   "cell_type": "code",
   "execution_count": null,
   "metadata": {
    "collapsed": false
   },
   "outputs": [],
   "source": [
    "n=input('是否想输入数字：')\n",
    "print(n)\n",
    "m=0\n",
    "while n =='是':\n",
    "    m=input('你想输入的数字是：')\n",
    "    n=input('是否想继续输入数字：')\n",
    "print(n)"
   ]
  },
  {
   "cell_type": "code",
   "execution_count": null,
   "metadata": {
    "collapsed": true
   },
   "outputs": [],
   "source": [
    "练习4"
   ]
  },
  {
   "cell_type": "code",
   "execution_count": 2,
   "metadata": {
    "collapsed": false
   },
   "outputs": [
    {
     "name": "stdout",
     "output_type": "stream",
     "text": [
      "一个数字-1\n",
      "-1\n",
      "-100\n",
      "-200\n",
      "-200\n",
      "-200\n"
     ]
    }
   ],
   "source": [
    "n=int(input('一个数字'))\n",
    "print(n)\n",
    "i=0\n",
    "total=0\n",
    "multiply=1\n",
    "a=0\n",
    "while i<n:\n",
    "    i=n\n",
    "    a=n**2\n",
    "    total=total+i\n",
    "    multiply=n*multiply\n",
    "\n",
    "while not total<n:\n",
    "    n=int(input(''))\n",
    "    total=total+n\n",
    "    multiply=multiply*n\n",
    "print(n)\n",
    "b=n**2\n",
    "while not multiply<b:\n",
    "    n=int(input(''))\n",
    "    total=total+i\n",
    "    multiply=n*i\n",
    "print(n)\n"
   ]
  }
 ],
 "metadata": {
  "kernelspec": {
   "display_name": "Python 3",
   "language": "python",
   "name": "python3"
  },
  "language_info": {
   "codemirror_mode": {
    "name": "ipython",
    "version": 3
   },
   "file_extension": ".py",
   "mimetype": "text/x-python",
   "name": "python",
   "nbconvert_exporter": "python",
   "pygments_lexer": "ipython3",
   "version": "3.6.0"
  }
 },
 "nbformat": 4,
 "nbformat_minor": 2
}

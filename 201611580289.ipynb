{
 "cells": [
  {
   "cell_type": "code",
   "execution_count": 3,
   "metadata": {
    "collapsed": false
   },
   "outputs": [
    {
     "name": "stdout",
     "output_type": "stream",
     "text": [
      "Pleasse input an integer,and end with Enter.10\n",
      "55\n"
     ]
    }
   ],
   "source": [
    "n = int(input('Pleasse input an integer,and end with Enter.'))\n",
    "i = 0\n",
    "total = 0\n",
    "\n",
    "while i < n:\n",
    "    i = i + 1\n",
    "    total = total + i\n",
    "    \n",
    "print(total)"
   ]
  },
  {
   "cell_type": "code",
   "execution_count": 1,
   "metadata": {
    "collapsed": false
   },
   "outputs": [
    {
     "name": "stdout",
     "output_type": "stream",
     "text": [
      "Please input your name,and end with Enter.Haloviva\n",
      "Hello Haloviva\n",
      "Please input an integer,and end with Enter.1\n",
      "Please input an integer,and end with Enter.2\n",
      "This is the sum of two number: 3\n",
      "Goodbye! Haloviva\n"
     ]
    }
   ],
   "source": [
    "name = input('Please input your name,and end with Enter.')\n",
    "print('Hello', name)\n",
    "\n",
    "n = int(input('Please input an integer,and end with Enter.'))\n",
    "m = int(input('Please input an integer,and end with Enter.'))\n",
    "\n",
    "print('This is the sum of two number:', m+n)\n",
    "print('Goodbye!', name)"
   ]
  },
  {
   "cell_type": "code",
   "execution_count": 7,
   "metadata": {
    "collapsed": false
   },
   "outputs": [
    {
     "name": "stdout",
     "output_type": "stream",
     "text": [
      "Please input an integer,and end with Enter.3\n",
      "Please input an integer,and end with Enter.1\n",
      "Please input an integer,and end with Enter.2\n",
      "Please input an integer,and end with Enter.3\n",
      "This is the sum of these numbers: 6\n"
     ]
    }
   ],
   "source": [
    "n=int(input('Please input an integer,and end with Enter.'))\n",
    "i=0\n",
    "j=0\n",
    "total=0\n",
    "\n",
    "while i<n:\n",
    "    j=int(input('Please input an integer,and end with Enter.'))\n",
    "    i=i+1\n",
    "    total=total+j\n",
    "    \n",
    "print('This is the sum of these numbers:',total)\n",
    "\n"
   ]
  },
  {
   "cell_type": "code",
   "execution_count": 1,
   "metadata": {
    "collapsed": false
   },
   "outputs": [
    {
     "name": "stdout",
     "output_type": "stream",
     "text": [
      "Please input an integer,and end with Enter1\n",
      "if you do not want to input numbers,please input out,if you want to continue inputing,please input in\n",
      "in\n",
      "Please input an integer,and end with Enter2\n",
      "if you do not want to input numbers,please input out,if you want to continue inputing,please input in\n",
      "out\n"
     ]
    }
   ],
   "source": [
    "i=0\n",
    "m=0\n",
    "\n",
    "while  i==m: \n",
    "    n=int(input('Please input an integer,and end with Enter'))\n",
    "    print('if you do not want to input numbers,please input out,if you want to continue inputing,please input in')\n",
    "    m=input()\n",
    "    if 'out'==m:\n",
    "        m=1\n",
    "    else:\n",
    "        m=0\n",
    "   \n",
    "    \n",
    "\n",
    "    "
   ]
  },
  {
   "cell_type": "markdown",
   "metadata": {
    "collapsed": true
   },
   "source": [
    "\n",
    "        \n",
    "    "
   ]
  },
  {
   "cell_type": "markdown",
   "metadata": {},
   "source": [
    "\n",
    "j=0\n",
    "m=0\n",
    "n=0\n",
    "b=0\n",
    "a=0\n",
    "\n",
    "while i==j:\n",
    "    print('Please input an integer,and end with Enter.')\n",
    "    a=int(input())\n",
    "    m=m+a\n",
    "    n=n*a\n",
    "    if m<a and n<a*a:\n",
    "        j=1\n",
    "    else:\n",
    "        j=0"
   ]
  },
  {
   "cell_type": "code",
   "execution_count": null,
   "metadata": {
    "collapsed": false
   },
   "outputs": [
    {
     "name": "stdout",
     "output_type": "stream",
     "text": [
      "Please input an integer,and end with Enter.\n",
      "1\n",
      "Please input an integer,and end with Enter.\n",
      "2\n",
      "Please input an integer,and end with Enter.\n",
      "10\n",
      "Please input an integer,and end with Enter.\n"
     ]
    }
   ],
   "source": [
    "i=0\n",
    "j=0 \n",
    "m=0 \n",
    "n=0 \n",
    "b=0 \n",
    "a=0\n",
    "while i==j: \n",
    "    print('Please input an integer,and end with Enter.') \n",
    "    a=int(input()) \n",
    "    m=m+a \n",
    "    n=n*a \n",
    "    if m<a and n<a*a: \n",
    "        j=1 \n",
    "    else:\n",
    "        j=0\n",
    "\n",
    "\n",
    "\n"
   ]
  },
  {
   "cell_type": "markdown",
   "metadata": {
    "collapsed": true
   },
   "source": [
    "print('Please input your name.')\n",
    "name=input()\n",
    "print('Please input your birthday.')\n",
    "month=int(input())\n",
    "day=int(input())\n",
    "\n",
    "if month==3:\n",
    "    if day<=31 and day>=21:\n",
    "        print('白羊座')\n",
    "if month==4:\n",
    "    if day>=1 and day<=19:\n",
    "        print('白羊座')\n",
    "if month==4:\n",
    "    if day<=30 and day>=20:\n",
    "        print('金牛座')\n",
    "if month==5:\n",
    "    if day>=1 and day<=20:\n",
    "        print('金牛座')\n",
    "if month==5:\n",
    "    if day<=31 and day>=21:\n",
    "        print('双子座')\n",
    "if month==6:\n",
    "    if day>=1 and day<=21:\n",
    "        print('双子座')\n",
    "if month==6:\n",
    "    if day<=30 and day>=22:\n",
    "        print('巨蟹座')\n",
    "if month==7:\n",
    "    if day>=1 and day<=22:\n",
    "        print('巨蟹座')\n",
    "if month==7:\n",
    "    if day<=31 and day>=23:\n",
    "        print('狮子座')\n",
    "        print(name,'你是非常有性格的金牛座')\n",
    "if month==8:\n",
    "    if day>=1 and day<=22:\n",
    "        print('狮子座')\n",
    "        print(name,'你是非常有性格的金牛座')\n",
    "if month==8:\n",
    "    if day<=31 and day>=23:\n",
    "        print('处女座')\n",
    "if month==9:\n",
    "    if day>=1 and day<=22:\n",
    "        print('处女座')\n",
    "if month==9:\n",
    "    if day<=30 and day>=23:\n",
    "        print('天秤座')\n",
    "if month==10:\n",
    "    if day>=1 and day<=23:\n",
    "        print('天秤座')\n",
    "if month==10:\n",
    "    if day<=31 and day>=24:\n",
    "        print('天蝎座')\n",
    "if month==11:\n",
    "    if day>=1 and day<=22:\n",
    "        print('天蝎座')\n",
    "if month==11:\n",
    "    if day<=30 and day>=23:\n",
    "        print('射手座')\n",
    "if month==12:\n",
    "    if day>=1 and day<=21:\n",
    "        print('射手座')\n",
    "if month==12:\n",
    "    if day<=31 and day>=22:\n",
    "        print('摩羯座')\n",
    "if month==1:\n",
    "    if day>=1 and day<=19:\n",
    "        print('摩羯座')\n",
    "if month==1:\n",
    "    if day<=31 and day>=20:\n",
    "        print('水瓶座')\n",
    "if month==2:\n",
    "    if day>=1 and day<=18:\n",
    "        print('水瓶座')\n",
    "if month==2:\n",
    "    if day<=28 and day>=19:\n",
    "        print('双鱼座')\n",
    "if month==3:\n",
    "    if day>=1 and day<=20:\n",
    "        print('双鱼座')\n"
   ]
  },
  {
   "cell_type": "code",
   "execution_count": 1,
   "metadata": {
    "collapsed": false
   },
   "outputs": [
    {
     "name": "stdout",
     "output_type": "stream",
     "text": [
      "Please input your name.\n",
      "Halovivo\n",
      "Please input your birthday.\n",
      "1\n",
      "2\n",
      "摩羯座\n"
     ]
    }
   ],
   "source": [
    "print('Please input your name.')\n",
    "name=input()\n",
    "print('Please input your birthday.')\n",
    "month=int(input())\n",
    "day=int(input())\n",
    "\n",
    "if month==3:\n",
    "    if day<=31 and day>=21:\n",
    "        print('白羊座')\n",
    "if month==4:\n",
    "    if day>=1 and day<=19:\n",
    "        print('白羊座')\n",
    "if month==4:\n",
    "    if day<=30 and day>=20:\n",
    "        print('金牛座')\n",
    "if month==5:\n",
    "    if day>=1 and day<=20:\n",
    "        print('金牛座')\n",
    "if month==5:\n",
    "    if day<=31 and day>=21:\n",
    "        print('双子座')\n",
    "if month==6:\n",
    "    if day>=1 and day<=21:\n",
    "        print('双子座')\n",
    "if month==6:\n",
    "    if day<=30 and day>=22:\n",
    "        print('巨蟹座')\n",
    "if month==7:\n",
    "    if day>=1 and day<=22:\n",
    "        print('巨蟹座')\n",
    "if month==7:\n",
    "    if day<=31 and day>=23:\n",
    "        print('狮子座')\n",
    "        print(name,'你是非常有性格的金牛座')\n",
    "if month==8:\n",
    "    if day>=1 and day<=22:\n",
    "        print('狮子座')\n",
    "        print(name,'你是非常有性格的金牛座')\n",
    "if month==8:\n",
    "    if day<=31 and day>=23:\n",
    "        print('处女座')\n",
    "if month==9:\n",
    "    if day>=1 and day<=22:\n",
    "        print('处女座')\n",
    "if month==9:\n",
    "    if day<=30 and day>=23:\n",
    "        print('天秤座')\n",
    "if month==10:\n",
    "    if day>=1 and day<=23:\n",
    "        print('天秤座')\n",
    "if month==10:\n",
    "    if day<=31 and day>=24:\n",
    "        print('天蝎座')\n",
    "if month==11:\n",
    "    if day>=1 and day<=22:\n",
    "        print('天蝎座')\n",
    "if month==11:\n",
    "    if day<=30 and day>=23:\n",
    "        print('射手座')\n",
    "if month==12:\n",
    "    if day>=1 and day<=21:\n",
    "        print('射手座')\n",
    "if month==12:\n",
    "    if day<=31 and day>=22:\n",
    "        print('摩羯座')\n",
    "if month==1:\n",
    "    if day>=1 and day<=19:\n",
    "        print('摩羯座')\n",
    "if month==1:\n",
    "    if day<=31 and day>=20:\n",
    "        print('水瓶座')\n",
    "if month==2:\n",
    "    if day>=1 and day<=18:\n",
    "        print('水瓶座')\n",
    "if month==2:\n",
    "    if day<=28 and day>=19:\n",
    "        print('双鱼座')\n",
    "if month==3:\n",
    "    if day>=1 and day<=20:\n",
    "        print('双鱼座')"
   ]
  },
  {
   "cell_type": "code",
   "execution_count": 1,
   "metadata": {
    "collapsed": false
   },
   "outputs": [
    {
     "name": "stdout",
     "output_type": "stream",
     "text": [
      "请输入两个整数\n",
      "1\n",
      "2\n",
      "如果你想求和请输入sum，如果你想求积请输入product，如果你想求余请输入remainder。\n",
      "sum\n",
      "3\n"
     ]
    }
   ],
   "source": [
    "a=0\n",
    "print('请输入两个整数')\n",
    "m=int(input())\n",
    "n=int(input())\n",
    "print('如果你想求和请输入sum，如果你想求积请输入product，如果你想求余请输入remainder。')\n",
    "b=input()\n",
    "\n",
    "if b=='sum':\n",
    "    a=m+n\n",
    "elif b=='product':\n",
    "    a=m*n\n",
    "elif b=='remainder':\n",
    "    a=m%n\n",
    "else:\n",
    "    a=m/n\n",
    "\n",
    "print(a)"
   ]
  },
  {
   "cell_type": "code",
   "execution_count": 2,
   "metadata": {
    "collapsed": false
   },
   "outputs": [
    {
     "name": "stdout",
     "output_type": "stream",
     "text": [
      "请输入北京PM2.5数值\n",
      "50\n",
      "今天是个好天气，可以尽情出去游玩\n"
     ]
    }
   ],
   "source": [
    "print('请输入北京PM2.5数值')\n",
    "a=int(input())\n",
    "if a<=100:\n",
    "    print('今天是个好天气，可以尽情出去游玩')\n",
    "elif a<=200:\n",
    "    print('请适当在外活动，必要时戴口罩')\n",
    "elif a<=300:\n",
    "    print('尽量减少外出，出门戴口罩')\n",
    "else:\n",
    "    print('尽量不要出门，不要在外停留，戴口罩')\n",
    "    "
   ]
  },
  {
   "cell_type": "code",
   "execution_count": 11,
   "metadata": {
    "collapsed": false
   },
   "outputs": [
    {
     "name": "stdout",
     "output_type": "stream",
     "text": [
      "apple\n",
      "apples\n"
     ]
    }
   ],
   "source": [
    "string=input()\n",
    "if string.endswith('x'):\n",
    "    print(string + 'es')\n",
    "elif string.endswith('s'):\n",
    "    print(string + 'es')\n",
    "elif  string.endswith('h'):\n",
    "    if string[-2].endswith('c','s'):\n",
    "        print(string + 'es')\n",
    "elif string.endswith('y'):\n",
    "    print(string[:-1] + 'ies')\n",
    "else:\n",
    "    print(string + 's')\n",
    "    "
   ]
  },
  {
   "cell_type": "code",
   "execution_count": null,
   "metadata": {
    "collapsed": true
   },
   "outputs": [],
   "source": []
  }
 ],
 "metadata": {
  "kernelspec": {
   "display_name": "Python 3",
   "language": "python",
   "name": "python3"
  },
  "language_info": {
   "codemirror_mode": {
    "name": "ipython",
    "version": 3
   },
   "file_extension": ".py",
   "mimetype": "text/x-python",
   "name": "python",
   "nbconvert_exporter": "python",
   "pygments_lexer": "ipython3",
   "version": "3.6.0"
  }
 },
 "nbformat": 4,
 "nbformat_minor": 2
}
